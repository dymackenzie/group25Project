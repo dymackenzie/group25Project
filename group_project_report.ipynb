{
 "cells": [
  {
   "cell_type": "markdown",
   "id": "a137b350-59e5-498f-b53c-e297b72d028f",
   "metadata": {
    "tags": []
   },
   "source": [
    "Group 25 Project\n",
    "\n",
    "Doris (33996984)\n",
    "\n",
    "Verness Chin (52924784)\n",
    "\n",
    "Mackenzie Dy (62709126)\n",
    "\n",
    "Kunyue Liu (94258175)\n"
   ]
  },
  {
   "cell_type": "markdown",
   "id": "85769bf2-1cb2-42c0-bc65-0e5a03f8eb10",
   "metadata": {
    "tags": []
   },
   "source": [
    "# Title: Heart Failure"
   ]
  },
  {
   "cell_type": "markdown",
   "id": "760ecedb-6129-4715-b050-feda59f49dd1",
   "metadata": {},
   "source": [
    "## Introduction\n",
    "Around 17 million people in the world die of cardiovascular diseases every year from myocardial infractions and heart failures (Chicco & Jurman, 2020). Cardiovascular diseases refer to the failure of the heart and blood vessels, such as heart attacks, stroke, and heart failure (Chicco & Jurman, 2020). Of all the cardiovascular diseases, heart failure is one of the more common ones. Heart failure refers to a condition in which the heart cannot pump enough blood for the body. According to research, patients who experience heart failure bear higher risks of mortality compared to patients without heart failure (Chicco & Jurman, 2020). **In this analysis, we are going to explore which specific variables can be used to predict the death event for patients with heart failure.**\n",
    "\n",
    "The dataset we selected includes medical records of 299 patients with heart failure. The dataset has 11 columns, of which, except for the age of patients, all the variables can be classified as quantitative or categorical. Of all the variables, we select several quantitative features as potential predictors based on background research. \n",
    "\n",
    "**Based on the dataset we have, we have selected creatinine phosphokinase, ejection fraction, platelets, serum creatinine, and serum sodium as potential predictors for several reasons.** First of all, these factors have been researched and proven to have a dramatic influence on a patient with heart failure. It is common practice that, when recommending treatments in medical practices, heart failure can be determined according to ejection fraction. Hence, ejection fraction is one of the key variables when we consider heart failure (Bozkurt, 2021). In addition, other conditions are also seen as symptoms of heart failure and thus contribute to mortality. For example, high creatinine phosphokinase caused by damaged muscle tissue always indicates heart failure or injury (Chicco & Jurman, 2020). Another one is the abnormal ease of bleeding which is caused by low platelets. Serum sodium is tested to be an important feature with respect to heart failure (Chicco & Jurman, 2020). Secondly, research shows that heart failure will increase end-stage renal disease (ESRD) and rates of mortality for patients with chronic kidney disease (CKD) (Sud et al., 2015). Even minimal changes in serum creatinine of patients with heart failure after surgeries will cause differences in mortality (Lassnigg et al., 2004). In other words, heart failure is not something to be taken lightly and has drastic consequences. \n",
    "\n",
    "The question we will attempt to answer is as follows: between creatinine phosphokinase, ejection fraction, platelets, serum creatinine, and serum sodium, which pair affects the death event the most?\n",
    "\n",
    "We are going to incorporate the methodology of K-nearest neighbors to answer the question. After comparing different combinations of selected features, we will choose the most optimistic one to build a classification model and conduct the prediction."
   ]
  },
  {
   "cell_type": "markdown",
   "id": "355a0d5f",
   "metadata": {},
   "source": [
    "## Methods and Results"
   ]
  },
  {
   "cell_type": "code",
   "execution_count": 1,
   "id": "9db3f4b1-5dd8-446c-a14c-00940980c18c",
   "metadata": {
    "tags": []
   },
   "outputs": [],
   "source": [
    "import altair as alt\n",
    "import numpy as np\n",
    "import pandas as pd\n",
    "from sklearn import set_config\n",
    "from sklearn.compose import make_column_transformer\n",
    "from sklearn.model_selection import (\n",
    "    GridSearchCV,\n",
    "    train_test_split,\n",
    ")\n",
    "from sklearn.neighbors import KNeighborsClassifier\n",
    "from sklearn.pipeline import make_pipeline\n",
    "from sklearn.preprocessing import StandardScaler\n",
    "\n",
    "# Simplify working with large datasets in Altair\n",
    "alt.data_transformers.disable_max_rows()\n",
    "\n",
    "# Output dataframes instead of arrays\n",
    "set_config(transform_output=\"pandas\")"
   ]
  },
  {
   "cell_type": "markdown",
   "id": "b366c251",
   "metadata": {},
   "source": [
    "Below, we read the data from the original source on the web."
   ]
  },
  {
   "cell_type": "code",
   "execution_count": 2,
   "id": "7f561cfb-3c45-41a6-9adc-0eea0ea6a572",
   "metadata": {
    "tags": []
   },
   "outputs": [
    {
     "data": {
      "text/html": [
       "<div>\n",
       "<style scoped>\n",
       "    .dataframe tbody tr th:only-of-type {\n",
       "        vertical-align: middle;\n",
       "    }\n",
       "\n",
       "    .dataframe tbody tr th {\n",
       "        vertical-align: top;\n",
       "    }\n",
       "\n",
       "    .dataframe thead th {\n",
       "        text-align: right;\n",
       "    }\n",
       "</style>\n",
       "<table border=\"1\" class=\"dataframe\">\n",
       "  <thead>\n",
       "    <tr style=\"text-align: right;\">\n",
       "      <th></th>\n",
       "      <th>age</th>\n",
       "      <th>anaemia</th>\n",
       "      <th>creatinine_phosphokinase</th>\n",
       "      <th>diabetes</th>\n",
       "      <th>ejection_fraction</th>\n",
       "      <th>high_blood_pressure</th>\n",
       "      <th>platelets</th>\n",
       "      <th>serum_creatinine</th>\n",
       "      <th>serum_sodium</th>\n",
       "      <th>sex</th>\n",
       "      <th>smoking</th>\n",
       "      <th>time</th>\n",
       "      <th>death_event</th>\n",
       "    </tr>\n",
       "  </thead>\n",
       "  <tbody>\n",
       "    <tr>\n",
       "      <th>0</th>\n",
       "      <td>75.0</td>\n",
       "      <td>0</td>\n",
       "      <td>582</td>\n",
       "      <td>0</td>\n",
       "      <td>20</td>\n",
       "      <td>1</td>\n",
       "      <td>265000.00</td>\n",
       "      <td>1.9</td>\n",
       "      <td>130</td>\n",
       "      <td>1</td>\n",
       "      <td>0</td>\n",
       "      <td>4</td>\n",
       "      <td>1</td>\n",
       "    </tr>\n",
       "    <tr>\n",
       "      <th>1</th>\n",
       "      <td>55.0</td>\n",
       "      <td>0</td>\n",
       "      <td>7861</td>\n",
       "      <td>0</td>\n",
       "      <td>38</td>\n",
       "      <td>0</td>\n",
       "      <td>263358.03</td>\n",
       "      <td>1.1</td>\n",
       "      <td>136</td>\n",
       "      <td>1</td>\n",
       "      <td>0</td>\n",
       "      <td>6</td>\n",
       "      <td>1</td>\n",
       "    </tr>\n",
       "    <tr>\n",
       "      <th>2</th>\n",
       "      <td>65.0</td>\n",
       "      <td>0</td>\n",
       "      <td>146</td>\n",
       "      <td>0</td>\n",
       "      <td>20</td>\n",
       "      <td>0</td>\n",
       "      <td>162000.00</td>\n",
       "      <td>1.3</td>\n",
       "      <td>129</td>\n",
       "      <td>1</td>\n",
       "      <td>1</td>\n",
       "      <td>7</td>\n",
       "      <td>1</td>\n",
       "    </tr>\n",
       "    <tr>\n",
       "      <th>3</th>\n",
       "      <td>50.0</td>\n",
       "      <td>1</td>\n",
       "      <td>111</td>\n",
       "      <td>0</td>\n",
       "      <td>20</td>\n",
       "      <td>0</td>\n",
       "      <td>210000.00</td>\n",
       "      <td>1.9</td>\n",
       "      <td>137</td>\n",
       "      <td>1</td>\n",
       "      <td>0</td>\n",
       "      <td>7</td>\n",
       "      <td>1</td>\n",
       "    </tr>\n",
       "    <tr>\n",
       "      <th>4</th>\n",
       "      <td>65.0</td>\n",
       "      <td>1</td>\n",
       "      <td>160</td>\n",
       "      <td>1</td>\n",
       "      <td>20</td>\n",
       "      <td>0</td>\n",
       "      <td>327000.00</td>\n",
       "      <td>2.7</td>\n",
       "      <td>116</td>\n",
       "      <td>0</td>\n",
       "      <td>0</td>\n",
       "      <td>8</td>\n",
       "      <td>1</td>\n",
       "    </tr>\n",
       "    <tr>\n",
       "      <th>...</th>\n",
       "      <td>...</td>\n",
       "      <td>...</td>\n",
       "      <td>...</td>\n",
       "      <td>...</td>\n",
       "      <td>...</td>\n",
       "      <td>...</td>\n",
       "      <td>...</td>\n",
       "      <td>...</td>\n",
       "      <td>...</td>\n",
       "      <td>...</td>\n",
       "      <td>...</td>\n",
       "      <td>...</td>\n",
       "      <td>...</td>\n",
       "    </tr>\n",
       "    <tr>\n",
       "      <th>294</th>\n",
       "      <td>62.0</td>\n",
       "      <td>0</td>\n",
       "      <td>61</td>\n",
       "      <td>1</td>\n",
       "      <td>38</td>\n",
       "      <td>1</td>\n",
       "      <td>155000.00</td>\n",
       "      <td>1.1</td>\n",
       "      <td>143</td>\n",
       "      <td>1</td>\n",
       "      <td>1</td>\n",
       "      <td>270</td>\n",
       "      <td>0</td>\n",
       "    </tr>\n",
       "    <tr>\n",
       "      <th>295</th>\n",
       "      <td>55.0</td>\n",
       "      <td>0</td>\n",
       "      <td>1820</td>\n",
       "      <td>0</td>\n",
       "      <td>38</td>\n",
       "      <td>0</td>\n",
       "      <td>270000.00</td>\n",
       "      <td>1.2</td>\n",
       "      <td>139</td>\n",
       "      <td>0</td>\n",
       "      <td>0</td>\n",
       "      <td>271</td>\n",
       "      <td>0</td>\n",
       "    </tr>\n",
       "    <tr>\n",
       "      <th>296</th>\n",
       "      <td>45.0</td>\n",
       "      <td>0</td>\n",
       "      <td>2060</td>\n",
       "      <td>1</td>\n",
       "      <td>60</td>\n",
       "      <td>0</td>\n",
       "      <td>742000.00</td>\n",
       "      <td>0.8</td>\n",
       "      <td>138</td>\n",
       "      <td>0</td>\n",
       "      <td>0</td>\n",
       "      <td>278</td>\n",
       "      <td>0</td>\n",
       "    </tr>\n",
       "    <tr>\n",
       "      <th>297</th>\n",
       "      <td>45.0</td>\n",
       "      <td>0</td>\n",
       "      <td>2413</td>\n",
       "      <td>0</td>\n",
       "      <td>38</td>\n",
       "      <td>0</td>\n",
       "      <td>140000.00</td>\n",
       "      <td>1.4</td>\n",
       "      <td>140</td>\n",
       "      <td>1</td>\n",
       "      <td>1</td>\n",
       "      <td>280</td>\n",
       "      <td>0</td>\n",
       "    </tr>\n",
       "    <tr>\n",
       "      <th>298</th>\n",
       "      <td>50.0</td>\n",
       "      <td>0</td>\n",
       "      <td>196</td>\n",
       "      <td>0</td>\n",
       "      <td>45</td>\n",
       "      <td>0</td>\n",
       "      <td>395000.00</td>\n",
       "      <td>1.6</td>\n",
       "      <td>136</td>\n",
       "      <td>1</td>\n",
       "      <td>1</td>\n",
       "      <td>285</td>\n",
       "      <td>0</td>\n",
       "    </tr>\n",
       "  </tbody>\n",
       "</table>\n",
       "<p>299 rows × 13 columns</p>\n",
       "</div>"
      ],
      "text/plain": [
       "      age  anaemia  creatinine_phosphokinase  diabetes  ejection_fraction  \\\n",
       "0    75.0        0                       582         0                 20   \n",
       "1    55.0        0                      7861         0                 38   \n",
       "2    65.0        0                       146         0                 20   \n",
       "3    50.0        1                       111         0                 20   \n",
       "4    65.0        1                       160         1                 20   \n",
       "..    ...      ...                       ...       ...                ...   \n",
       "294  62.0        0                        61         1                 38   \n",
       "295  55.0        0                      1820         0                 38   \n",
       "296  45.0        0                      2060         1                 60   \n",
       "297  45.0        0                      2413         0                 38   \n",
       "298  50.0        0                       196         0                 45   \n",
       "\n",
       "     high_blood_pressure  platelets  serum_creatinine  serum_sodium  sex  \\\n",
       "0                      1  265000.00               1.9           130    1   \n",
       "1                      0  263358.03               1.1           136    1   \n",
       "2                      0  162000.00               1.3           129    1   \n",
       "3                      0  210000.00               1.9           137    1   \n",
       "4                      0  327000.00               2.7           116    0   \n",
       "..                   ...        ...               ...           ...  ...   \n",
       "294                    1  155000.00               1.1           143    1   \n",
       "295                    0  270000.00               1.2           139    0   \n",
       "296                    0  742000.00               0.8           138    0   \n",
       "297                    0  140000.00               1.4           140    1   \n",
       "298                    0  395000.00               1.6           136    1   \n",
       "\n",
       "     smoking  time  death_event  \n",
       "0          0     4            1  \n",
       "1          0     6            1  \n",
       "2          1     7            1  \n",
       "3          0     7            1  \n",
       "4          0     8            1  \n",
       "..       ...   ...          ...  \n",
       "294        1   270            0  \n",
       "295        0   271            0  \n",
       "296        0   278            0  \n",
       "297        1   280            0  \n",
       "298        1   285            0  \n",
       "\n",
       "[299 rows x 13 columns]"
      ]
     },
     "execution_count": 2,
     "metadata": {},
     "output_type": "execute_result"
    }
   ],
   "source": [
    "url = 'https://archive.ics.uci.edu/static/public/519/data.csv'\n",
    "data = pd.read_csv(url)\n",
    "data"
   ]
  },
  {
   "cell_type": "markdown",
   "id": "789dd496",
   "metadata": {},
   "source": [
    "In this analysis, we will be focusing on quantitative variables rather than the boolean variables as that is the subject of our attention.\n",
    "\n",
    "We've also converted the death event to a more readable format (yes and no)."
   ]
  },
  {
   "cell_type": "code",
   "execution_count": 3,
   "id": "3eb11441-3aef-4cb9-ad3f-89584a84e871",
   "metadata": {
    "tags": []
   },
   "outputs": [
    {
     "data": {
      "text/html": [
       "<div>\n",
       "<style scoped>\n",
       "    .dataframe tbody tr th:only-of-type {\n",
       "        vertical-align: middle;\n",
       "    }\n",
       "\n",
       "    .dataframe tbody tr th {\n",
       "        vertical-align: top;\n",
       "    }\n",
       "\n",
       "    .dataframe thead th {\n",
       "        text-align: right;\n",
       "    }\n",
       "</style>\n",
       "<table border=\"1\" class=\"dataframe\">\n",
       "  <thead>\n",
       "    <tr style=\"text-align: right;\">\n",
       "      <th></th>\n",
       "      <th>age</th>\n",
       "      <th>creatinine_phosphokinase</th>\n",
       "      <th>ejection_fraction</th>\n",
       "      <th>platelets</th>\n",
       "      <th>serum_creatinine</th>\n",
       "      <th>serum_sodium</th>\n",
       "      <th>death_event</th>\n",
       "    </tr>\n",
       "  </thead>\n",
       "  <tbody>\n",
       "    <tr>\n",
       "      <th>0</th>\n",
       "      <td>75.0</td>\n",
       "      <td>582</td>\n",
       "      <td>20</td>\n",
       "      <td>265000.00</td>\n",
       "      <td>1.9</td>\n",
       "      <td>130</td>\n",
       "      <td>Yes</td>\n",
       "    </tr>\n",
       "    <tr>\n",
       "      <th>1</th>\n",
       "      <td>55.0</td>\n",
       "      <td>7861</td>\n",
       "      <td>38</td>\n",
       "      <td>263358.03</td>\n",
       "      <td>1.1</td>\n",
       "      <td>136</td>\n",
       "      <td>Yes</td>\n",
       "    </tr>\n",
       "    <tr>\n",
       "      <th>2</th>\n",
       "      <td>65.0</td>\n",
       "      <td>146</td>\n",
       "      <td>20</td>\n",
       "      <td>162000.00</td>\n",
       "      <td>1.3</td>\n",
       "      <td>129</td>\n",
       "      <td>Yes</td>\n",
       "    </tr>\n",
       "    <tr>\n",
       "      <th>3</th>\n",
       "      <td>50.0</td>\n",
       "      <td>111</td>\n",
       "      <td>20</td>\n",
       "      <td>210000.00</td>\n",
       "      <td>1.9</td>\n",
       "      <td>137</td>\n",
       "      <td>Yes</td>\n",
       "    </tr>\n",
       "    <tr>\n",
       "      <th>4</th>\n",
       "      <td>65.0</td>\n",
       "      <td>160</td>\n",
       "      <td>20</td>\n",
       "      <td>327000.00</td>\n",
       "      <td>2.7</td>\n",
       "      <td>116</td>\n",
       "      <td>Yes</td>\n",
       "    </tr>\n",
       "    <tr>\n",
       "      <th>...</th>\n",
       "      <td>...</td>\n",
       "      <td>...</td>\n",
       "      <td>...</td>\n",
       "      <td>...</td>\n",
       "      <td>...</td>\n",
       "      <td>...</td>\n",
       "      <td>...</td>\n",
       "    </tr>\n",
       "    <tr>\n",
       "      <th>294</th>\n",
       "      <td>62.0</td>\n",
       "      <td>61</td>\n",
       "      <td>38</td>\n",
       "      <td>155000.00</td>\n",
       "      <td>1.1</td>\n",
       "      <td>143</td>\n",
       "      <td>No</td>\n",
       "    </tr>\n",
       "    <tr>\n",
       "      <th>295</th>\n",
       "      <td>55.0</td>\n",
       "      <td>1820</td>\n",
       "      <td>38</td>\n",
       "      <td>270000.00</td>\n",
       "      <td>1.2</td>\n",
       "      <td>139</td>\n",
       "      <td>No</td>\n",
       "    </tr>\n",
       "    <tr>\n",
       "      <th>296</th>\n",
       "      <td>45.0</td>\n",
       "      <td>2060</td>\n",
       "      <td>60</td>\n",
       "      <td>742000.00</td>\n",
       "      <td>0.8</td>\n",
       "      <td>138</td>\n",
       "      <td>No</td>\n",
       "    </tr>\n",
       "    <tr>\n",
       "      <th>297</th>\n",
       "      <td>45.0</td>\n",
       "      <td>2413</td>\n",
       "      <td>38</td>\n",
       "      <td>140000.00</td>\n",
       "      <td>1.4</td>\n",
       "      <td>140</td>\n",
       "      <td>No</td>\n",
       "    </tr>\n",
       "    <tr>\n",
       "      <th>298</th>\n",
       "      <td>50.0</td>\n",
       "      <td>196</td>\n",
       "      <td>45</td>\n",
       "      <td>395000.00</td>\n",
       "      <td>1.6</td>\n",
       "      <td>136</td>\n",
       "      <td>No</td>\n",
       "    </tr>\n",
       "  </tbody>\n",
       "</table>\n",
       "<p>299 rows × 7 columns</p>\n",
       "</div>"
      ],
      "text/plain": [
       "      age  creatinine_phosphokinase  ejection_fraction  platelets  \\\n",
       "0    75.0                       582                 20  265000.00   \n",
       "1    55.0                      7861                 38  263358.03   \n",
       "2    65.0                       146                 20  162000.00   \n",
       "3    50.0                       111                 20  210000.00   \n",
       "4    65.0                       160                 20  327000.00   \n",
       "..    ...                       ...                ...        ...   \n",
       "294  62.0                        61                 38  155000.00   \n",
       "295  55.0                      1820                 38  270000.00   \n",
       "296  45.0                      2060                 60  742000.00   \n",
       "297  45.0                      2413                 38  140000.00   \n",
       "298  50.0                       196                 45  395000.00   \n",
       "\n",
       "     serum_creatinine  serum_sodium death_event  \n",
       "0                 1.9           130         Yes  \n",
       "1                 1.1           136         Yes  \n",
       "2                 1.3           129         Yes  \n",
       "3                 1.9           137         Yes  \n",
       "4                 2.7           116         Yes  \n",
       "..                ...           ...         ...  \n",
       "294               1.1           143          No  \n",
       "295               1.2           139          No  \n",
       "296               0.8           138          No  \n",
       "297               1.4           140          No  \n",
       "298               1.6           136          No  \n",
       "\n",
       "[299 rows x 7 columns]"
      ]
     },
     "execution_count": 3,
     "metadata": {},
     "output_type": "execute_result"
    }
   ],
   "source": [
    "data[\"death_event\"] = data[\"death_event\"].astype(str).replace({\n",
    "    '1': 'Yes',\n",
    "    '0': 'No'\n",
    "})\n",
    "data[['age','creatinine_phosphokinase', 'ejection_fraction', 'platelets', 'serum_creatinine', 'serum_sodium', 'death_event']]"
   ]
  },
  {
   "cell_type": "markdown",
   "id": "cb893ba4",
   "metadata": {},
   "source": [
    "This is where we split the data into the test (25%) and training data (75%)."
   ]
  },
  {
   "cell_type": "code",
   "execution_count": 4,
   "id": "78da0eba-0c1c-4b73-a2eb-4ea80f9421e9",
   "metadata": {
    "tags": []
   },
   "outputs": [],
   "source": [
    "heart_disease_train, heart_disease_test = train_test_split(data, test_size=0.25, random_state=123)"
   ]
  },
  {
   "cell_type": "markdown",
   "id": "6e3b637b",
   "metadata": {},
   "source": [
    "For our preferred analysis, we want two variables that will help us accurately predict a death event. However, we cannot randomly select a pair of variables, as there could exist another pair of variables that might predict the death event more accurately. To solve this, we will compare all possible pairs and determine which one has the higher accuracy.\n",
    "\n",
    "Below, we initialize a dataframe to store all the possible pairs and their accuracies."
   ]
  },
  {
   "cell_type": "code",
   "execution_count": 11,
   "id": "0ccebc78",
   "metadata": {},
   "outputs": [],
   "source": [
    "compared_categories_dataframe = pd.DataFrame(columns=['category_1', 'category_2', 'prediction_accuracy'])"
   ]
  },
  {
   "cell_type": "markdown",
   "id": "a419408e",
   "metadata": {},
   "source": [
    "### Comparison of Ejection Fraction and Serum Creatinine"
   ]
  },
  {
   "cell_type": "markdown",
   "id": "fb352fd0",
   "metadata": {},
   "source": [
    "In order to find the best value of <i>K</i> for the KNeighborsClassifier, we first initialize the preprocessor (to standardize the values) and the parameter grid (with a range of 1 to 49)."
   ]
  },
  {
   "cell_type": "code",
   "execution_count": 6,
   "id": "db6eb704",
   "metadata": {},
   "outputs": [],
   "source": [
    "compared_categories = ['ejection_fraction', 'serum_creatinine']\n",
    "\n",
    "heart_disease_preprocessor = make_column_transformer(\n",
    "     (StandardScaler(), compared_categories),\n",
    "     remainder= 'passthrough',\n",
    "     verbose_feature_names_out=False,\n",
    ")\n",
    "\n",
    "parameter_grid = {\n",
    "    \"kneighborsclassifier__n_neighbors\": range(1, 50, 1),\n",
    "}"
   ]
  },
  {
   "cell_type": "markdown",
   "id": "d0274a25",
   "metadata": {},
   "source": [
    "In optimizing our model, we devised a sophisticated pipeline that integrates preprocessing and classification components. Employing the GridSearchCV methodology, we fine-tuned our model's hyperparameters with a choice of 5 folds for cross-validation on the training set. Through this process, we computed mean test scores for varying values of the hyperparameter <i>K</i>. Our objective was to pinpoint the <i>K</i> that maximized the test score, thereby ensuring optimal predictive performance. "
   ]
  },
  {
   "cell_type": "code",
   "execution_count": 7,
   "id": "9f45c1ad",
   "metadata": {},
   "outputs": [
    {
     "data": {
      "text/plain": [
       "n_neighbors              36\n",
       "mean_test_score    0.794545\n",
       "sem_test_score     0.007957\n",
       "Name: 35, dtype: object"
      ]
     },
     "execution_count": 7,
     "metadata": {},
     "output_type": "execute_result"
    }
   ],
   "source": [
    "heart_disease_pipeline = make_pipeline(heart_disease_preprocessor, KNeighborsClassifier())\n",
    "\n",
    "heart_disease_tune_grid = GridSearchCV(\n",
    "    estimator=heart_disease_pipeline,\n",
    "    param_grid=parameter_grid,\n",
    "    cv=5\n",
    ")\n",
    "\n",
    "accuracies_grid = pd.DataFrame(\n",
    "    heart_disease_tune_grid.fit(\n",
    "        heart_disease_train[compared_categories],\n",
    "        heart_disease_train[\"death_event\"]\n",
    "    ).cv_results_\n",
    ")\n",
    "\n",
    "# makes the accuracies_grid easier to read\n",
    "accuracies_grid = (\n",
    "    accuracies_grid[[\n",
    "        \"param_kneighborsclassifier__n_neighbors\",\n",
    "        \"mean_test_score\",\n",
    "        \"std_test_score\"\n",
    "    ]]\n",
    "    .assign(sem_test_score=accuracies_grid[\"std_test_score\"] / 5**(1/2))\n",
    "    .rename(columns={\"param_kneighborsclassifier__n_neighbors\": \"n_neighbors\"})\n",
    "    .drop(columns=[\"std_test_score\"])\n",
    ")\n",
    "\n",
    "# filters out the highest test score and returns the row\n",
    "accuracies_grid.loc[accuracies_grid['mean_test_score'].idxmax()]"
   ]
  },
  {
   "cell_type": "markdown",
   "id": "c434c106",
   "metadata": {},
   "source": [
    "Here is a plot that visually shows the <i>K</i> value and its mean test score."
   ]
  },
  {
   "cell_type": "code",
   "execution_count": 8,
   "id": "be949644",
   "metadata": {},
   "outputs": [
    {
     "ename": "TypeError",
     "evalue": "'UndefinedType' object is not callable",
     "output_type": "error",
     "traceback": [
      "\u001b[0;31m---------------------------------------------------------------------------\u001b[0m",
      "\u001b[0;31mTypeError\u001b[0m                                 Traceback (most recent call last)",
      "Cell \u001b[0;32mIn[8], line 2\u001b[0m\n\u001b[1;32m      1\u001b[0m cross_val_plot \u001b[38;5;241m=\u001b[39m alt\u001b[38;5;241m.\u001b[39mChart(accuracies_grid)\u001b[38;5;241m.\u001b[39mmark_line(point\u001b[38;5;241m=\u001b[39m\u001b[38;5;28;01mTrue\u001b[39;00m)\u001b[38;5;241m.\u001b[39mencode(\n\u001b[0;32m----> 2\u001b[0m     x \u001b[38;5;241m=\u001b[39m \u001b[43malt\u001b[49m\u001b[38;5;241;43m.\u001b[39;49m\u001b[43mX\u001b[49m\u001b[43m(\u001b[49m\u001b[38;5;124;43m\"\u001b[39;49m\u001b[38;5;124;43mn_neighbors\u001b[39;49m\u001b[38;5;124;43m\"\u001b[39;49m\u001b[43m)\u001b[49m\u001b[38;5;241;43m.\u001b[39;49m\u001b[43mtitle\u001b[49m\u001b[43m(\u001b[49m\u001b[38;5;124;43m\"\u001b[39;49m\u001b[38;5;124;43mNumber of Neighbors (k)\u001b[39;49m\u001b[38;5;124;43m\"\u001b[39;49m\u001b[43m)\u001b[49m\u001b[38;5;241m.\u001b[39mscale(zero \u001b[38;5;241m=\u001b[39m \u001b[38;5;28;01mFalse\u001b[39;00m),\n\u001b[1;32m      3\u001b[0m     y \u001b[38;5;241m=\u001b[39m alt\u001b[38;5;241m.\u001b[39mY(\u001b[38;5;124m\"\u001b[39m\u001b[38;5;124mmean_test_score\u001b[39m\u001b[38;5;124m\"\u001b[39m)\u001b[38;5;241m.\u001b[39mtitle(\u001b[38;5;124m\"\u001b[39m\u001b[38;5;124mAccuracy\u001b[39m\u001b[38;5;124m\"\u001b[39m)\u001b[38;5;241m.\u001b[39mscale(zero \u001b[38;5;241m=\u001b[39m \u001b[38;5;28;01mFalse\u001b[39;00m)\n\u001b[1;32m      4\u001b[0m )\n\u001b[1;32m      5\u001b[0m cross_val_plot\n",
      "\u001b[0;31mTypeError\u001b[0m: 'UndefinedType' object is not callable"
     ]
    }
   ],
   "source": [
    "cross_val_plot = alt.Chart(accuracies_grid).mark_line(point=True).encode(\n",
    "    x = alt.X(\"n_neighbors\").title(\"Number of Neighbors (k)\").scale(zero = False),\n",
    "    y = alt.Y(\"mean_test_score\").title(\"Accuracy\").scale(zero = False)\n",
    ")\n",
    "cross_val_plot"
   ]
  },
  {
   "cell_type": "markdown",
   "id": "0237d986",
   "metadata": {},
   "source": [
    "As we can see above, the best <i>K</i> value is 8 with a mean test score of 0.79. We will use this <i>K</i> value to train a model on the tranining data, predict test values, and score the accuracy of the classifier."
   ]
  },
  {
   "cell_type": "code",
   "execution_count": 12,
   "id": "94bae3da-e14d-4e63-a29a-dbdb393b5e87",
   "metadata": {
    "tags": []
   },
   "outputs": [
    {
     "data": {
      "text/plain": [
       "0.6266666666666667"
      ]
     },
     "execution_count": 12,
     "metadata": {},
     "output_type": "execute_result"
    }
   ],
   "source": [
    "n = 8\n",
    "X = heart_disease_train[compared_categories]\n",
    "y = heart_disease_train[\"death_event\"]\n",
    "\n",
    "heart_disease_fit = make_pipeline(heart_disease_preprocessor, KNeighborsClassifier(n_neighbors = n))\n",
    "heart_disease_fit = heart_disease_fit.fit(X, y)\n",
    "\n",
    "heart_disease_test_predictions = heart_disease_test.assign(\n",
    "    predicted = heart_disease_fit.predict(heart_disease_test[compared_categories])\n",
    ")\n",
    "\n",
    "X_test = heart_disease_test_predictions[compared_categories]\n",
    "y_test = heart_disease_test_predictions[\"death_event\"]\n",
    "heart_disease_prediction_accuracy = heart_disease_fit.score(X_test, y_test)\n",
    "heart_disease_prediction_accuracy"
   ]
  },
  {
   "cell_type": "markdown",
   "id": "1c9ed83f",
   "metadata": {},
   "source": [
    "Now that we have our accuracy score, we store it in a database for further analysis."
   ]
  },
  {
   "cell_type": "code",
   "execution_count": 13,
   "id": "a786ad61-2656-4079-a52f-ec3d5e54976b",
   "metadata": {
    "tags": []
   },
   "outputs": [
    {
     "data": {
      "text/html": [
       "<div>\n",
       "<style scoped>\n",
       "    .dataframe tbody tr th:only-of-type {\n",
       "        vertical-align: middle;\n",
       "    }\n",
       "\n",
       "    .dataframe tbody tr th {\n",
       "        vertical-align: top;\n",
       "    }\n",
       "\n",
       "    .dataframe thead th {\n",
       "        text-align: right;\n",
       "    }\n",
       "</style>\n",
       "<table border=\"1\" class=\"dataframe\">\n",
       "  <thead>\n",
       "    <tr style=\"text-align: right;\">\n",
       "      <th></th>\n",
       "      <th>category_1</th>\n",
       "      <th>category_2</th>\n",
       "      <th>train_accuracy</th>\n",
       "    </tr>\n",
       "  </thead>\n",
       "  <tbody>\n",
       "    <tr>\n",
       "      <th>0</th>\n",
       "      <td>ejection_fraction</td>\n",
       "      <td>serum_creatinine</td>\n",
       "      <td>0.626667</td>\n",
       "    </tr>\n",
       "  </tbody>\n",
       "</table>\n",
       "</div>"
      ],
      "text/plain": [
       "          category_1        category_2  train_accuracy\n",
       "0  ejection_fraction  serum_creatinine        0.626667"
      ]
     },
     "execution_count": 13,
     "metadata": {},
     "output_type": "execute_result"
    }
   ],
   "source": [
    "new_row = {\"category_1\" : \"ejection_fraction\", \"category_2\" : \"serum_creatinine\", \"prediction_accuracy\" : heart_disease_prediction_accuracy }\n",
    "compared_categories_dataframe.loc[len(compared_categories_dataframe)] = new_row\n",
    "compared_categories_dataframe"
   ]
  },
  {
   "cell_type": "markdown",
   "id": "952485e7",
   "metadata": {},
   "source": [
    "We will now repeat this process for all possible pairs."
   ]
  },
  {
   "cell_type": "markdown",
   "id": "7c4e86c8",
   "metadata": {},
   "source": [
    "### Comparsion of Ejection Fraction and Platelets"
   ]
  },
  {
   "cell_type": "code",
   "execution_count": 14,
   "id": "596a9636",
   "metadata": {},
   "outputs": [
    {
     "data": {
      "text/plain": [
       "n_neighbors              15\n",
       "mean_test_score    0.776869\n",
       "sem_test_score     0.015153\n",
       "Name: 14, dtype: object"
      ]
     },
     "execution_count": 14,
     "metadata": {},
     "output_type": "execute_result"
    }
   ],
   "source": [
    "# the pair of variables we are now comparing\n",
    "compared_categories = ['ejection_fraction', 'platelets']\n",
    "\n",
    "heart_disease_preprocessor = make_column_transformer(\n",
    "     (StandardScaler(), compared_categories),\n",
    "     remainder= 'passthrough',\n",
    "     verbose_feature_names_out=False,\n",
    ")\n",
    "\n",
    "parameter_grid = {\n",
    "    \"kneighborsclassifier__n_neighbors\": range(1, 50, 1),\n",
    "}\n",
    "\n",
    "heart_disease_pipeline = make_pipeline(heart_disease_preprocessor, KNeighborsClassifier())\n",
    "\n",
    "heart_disease_tune_grid = GridSearchCV(\n",
    "    estimator=heart_disease_pipeline,\n",
    "    param_grid=parameter_grid,\n",
    "    cv=5\n",
    ")\n",
    "\n",
    "accuracies_grid = pd.DataFrame(\n",
    "    heart_disease_tune_grid.fit(\n",
    "        heart_disease_train[compared_categories],\n",
    "        heart_disease_train[\"death_event\"]\n",
    "    ).cv_results_\n",
    ")\n",
    "\n",
    "# makes the accuracies_grid easier to read\n",
    "accuracies_grid = (\n",
    "    accuracies_grid[[\n",
    "        \"param_kneighborsclassifier__n_neighbors\",\n",
    "        \"mean_test_score\",\n",
    "        \"std_test_score\"\n",
    "    ]]\n",
    "    .assign(sem_test_score=accuracies_grid[\"std_test_score\"] / 5**(1/2))\n",
    "    .rename(columns={\"param_kneighborsclassifier__n_neighbors\": \"n_neighbors\"})\n",
    "    .drop(columns=[\"std_test_score\"])\n",
    ")\n",
    "\n",
    "# filters out the highest test score and returns the row\n",
    "accuracies_grid.loc[accuracies_grid['mean_test_score'].idxmax()]"
   ]
  },
  {
   "cell_type": "markdown",
   "id": "26167e9f-02a5-4ec2-a1e4-d77310258876",
   "metadata": {},
   "source": [
    "Through cross validation the optimal K value for ejection_fraction and platelets is 15. Below is the test "
   ]
  },
  {
   "cell_type": "code",
   "execution_count": 15,
   "id": "f10ee3a3",
   "metadata": {},
   "outputs": [
    {
     "data": {
      "text/plain": [
       "0.5733333333333334"
      ]
     },
     "execution_count": 15,
     "metadata": {},
     "output_type": "execute_result"
    }
   ],
   "source": [
    "n = 15\n",
    "X = heart_disease_train[compared_categories]\n",
    "y = heart_disease_train[\"death_event\"]\n",
    "\n",
    "heart_disease_fit = make_pipeline(heart_disease_preprocessor, KNeighborsClassifier(n_neighbors = n))\n",
    "heart_disease_fit = heart_disease_fit.fit(X, y)\n",
    "\n",
    "heart_disease_test_predictions = heart_disease_test.assign(\n",
    "    predicted = heart_disease_fit.predict(heart_disease_test[compared_categories])\n",
    ")\n",
    "\n",
    "X_test = heart_disease_test_predictions[compared_categories]\n",
    "y_test = heart_disease_test_predictions[\"death_event\"]\n",
    "heart_disease_prediction_accuracy = heart_disease_fit.score(X_test, y_test)\n",
    "heart_disease_prediction_accuracy"
   ]
  },
  {
   "cell_type": "code",
   "execution_count": 16,
   "id": "aff0896f",
   "metadata": {},
   "outputs": [
    {
     "data": {
      "text/html": [
       "<div>\n",
       "<style scoped>\n",
       "    .dataframe tbody tr th:only-of-type {\n",
       "        vertical-align: middle;\n",
       "    }\n",
       "\n",
       "    .dataframe tbody tr th {\n",
       "        vertical-align: top;\n",
       "    }\n",
       "\n",
       "    .dataframe thead th {\n",
       "        text-align: right;\n",
       "    }\n",
       "</style>\n",
       "<table border=\"1\" class=\"dataframe\">\n",
       "  <thead>\n",
       "    <tr style=\"text-align: right;\">\n",
       "      <th></th>\n",
       "      <th>category_1</th>\n",
       "      <th>category_2</th>\n",
       "      <th>train_accuracy</th>\n",
       "    </tr>\n",
       "  </thead>\n",
       "  <tbody>\n",
       "    <tr>\n",
       "      <th>0</th>\n",
       "      <td>ejection_fraction</td>\n",
       "      <td>serum_creatinine</td>\n",
       "      <td>0.626667</td>\n",
       "    </tr>\n",
       "    <tr>\n",
       "      <th>1</th>\n",
       "      <td>ejection_fraction</td>\n",
       "      <td>platelets</td>\n",
       "      <td>0.573333</td>\n",
       "    </tr>\n",
       "  </tbody>\n",
       "</table>\n",
       "</div>"
      ],
      "text/plain": [
       "          category_1        category_2  train_accuracy\n",
       "0  ejection_fraction  serum_creatinine        0.626667\n",
       "1  ejection_fraction         platelets        0.573333"
      ]
     },
     "execution_count": 16,
     "metadata": {},
     "output_type": "execute_result"
    }
   ],
   "source": [
    "new_row = {'category_1' : 'ejection_fraction', 'category_2' : 'platelets', 'prediction_accuracy' : heart_disease_prediction_accuracy }\n",
    "compared_categories_dataframe.loc[len(compared_categories_dataframe)] = new_row\n",
    "compared_categories_dataframe"
   ]
  },
  {
   "cell_type": "markdown",
   "id": "5cb86b25",
   "metadata": {},
   "source": [
    "### Comparison of Ejection Fraction and Serum Sodium"
   ]
  },
  {
   "cell_type": "code",
   "execution_count": 17,
   "id": "ef0958dd",
   "metadata": {},
   "outputs": [
    {
     "data": {
      "text/plain": [
       "n_neighbors              21\n",
       "mean_test_score    0.772323\n",
       "sem_test_score     0.009687\n",
       "Name: 20, dtype: object"
      ]
     },
     "execution_count": 17,
     "metadata": {},
     "output_type": "execute_result"
    }
   ],
   "source": [
    "# the pair of variables we are now comparing\n",
    "compared_categories = ['ejection_fraction', 'serum_sodium']\n",
    "\n",
    "heart_disease_preprocessor = make_column_transformer(\n",
    "     (StandardScaler(), compared_categories),\n",
    "     remainder= 'passthrough',\n",
    "     verbose_feature_names_out=False,\n",
    ")\n",
    "\n",
    "parameter_grid = {\n",
    "    \"kneighborsclassifier__n_neighbors\": range(1, 50, 1),\n",
    "}\n",
    "\n",
    "heart_disease_pipeline = make_pipeline(heart_disease_preprocessor, KNeighborsClassifier())\n",
    "\n",
    "heart_disease_tune_grid = GridSearchCV(\n",
    "    estimator=heart_disease_pipeline,\n",
    "    param_grid=parameter_grid,\n",
    "    cv=5\n",
    ")\n",
    "\n",
    "accuracies_grid = pd.DataFrame(\n",
    "    heart_disease_tune_grid.fit(\n",
    "        heart_disease_train[compared_categories],\n",
    "        heart_disease_train[\"death_event\"]\n",
    "    ).cv_results_\n",
    ")\n",
    "\n",
    "# makes the accuracies_grid easier to read\n",
    "accuracies_grid = (\n",
    "    accuracies_grid[[\n",
    "        \"param_kneighborsclassifier__n_neighbors\",\n",
    "        \"mean_test_score\",\n",
    "        \"std_test_score\"\n",
    "    ]]\n",
    "    .assign(sem_test_score=accuracies_grid[\"std_test_score\"] / 5**(1/2))\n",
    "    .rename(columns={\"param_kneighborsclassifier__n_neighbors\": \"n_neighbors\"})\n",
    "    .drop(columns=[\"std_test_score\"])\n",
    ")\n",
    "\n",
    "# filters out the highest test score and returns the row\n",
    "accuracies_grid.loc[accuracies_grid['mean_test_score'].idxmax()]"
   ]
  },
  {
   "cell_type": "code",
   "execution_count": null,
   "id": "4d6ca678",
   "metadata": {},
   "outputs": [],
   "source": [
    "n = 21\n",
    "X = heart_disease_train[compared_categories]\n",
    "y = heart_disease_train[\"death_event\"]\n",
    "\n",
    "heart_disease_fit = make_pipeline(heart_disease_preprocessor, KNeighborsClassifier(n_neighbors = n))\n",
    "heart_disease_fit = heart_disease_fit.fit(X, y)\n",
    "\n",
    "heart_disease_test_predictions = heart_disease_test.assign(\n",
    "    predicted = heart_disease_fit.predict(heart_disease_test[compared_categories])\n",
    ")\n",
    "\n",
    "X_test = heart_disease_test_predictions[compared_categories]\n",
    "y_test = heart_disease_test_predictions[\"death_event\"]\n",
    "heart_disease_prediction_accuracy = heart_disease_fit.score(X_test, y_test)\n",
    "heart_disease_prediction_accuracy"
   ]
  },
  {
   "cell_type": "code",
   "execution_count": 18,
   "id": "16eda407",
   "metadata": {},
   "outputs": [
    {
     "data": {
      "text/html": [
       "<div>\n",
       "<style scoped>\n",
       "    .dataframe tbody tr th:only-of-type {\n",
       "        vertical-align: middle;\n",
       "    }\n",
       "\n",
       "    .dataframe tbody tr th {\n",
       "        vertical-align: top;\n",
       "    }\n",
       "\n",
       "    .dataframe thead th {\n",
       "        text-align: right;\n",
       "    }\n",
       "</style>\n",
       "<table border=\"1\" class=\"dataframe\">\n",
       "  <thead>\n",
       "    <tr style=\"text-align: right;\">\n",
       "      <th></th>\n",
       "      <th>category_1</th>\n",
       "      <th>category_2</th>\n",
       "      <th>train_accuracy</th>\n",
       "    </tr>\n",
       "  </thead>\n",
       "  <tbody>\n",
       "    <tr>\n",
       "      <th>0</th>\n",
       "      <td>ejection_fraction</td>\n",
       "      <td>serum_creatinine</td>\n",
       "      <td>0.626667</td>\n",
       "    </tr>\n",
       "    <tr>\n",
       "      <th>1</th>\n",
       "      <td>ejection_fraction</td>\n",
       "      <td>platelets</td>\n",
       "      <td>0.573333</td>\n",
       "    </tr>\n",
       "    <tr>\n",
       "      <th>2</th>\n",
       "      <td>ejection_fraction</td>\n",
       "      <td>serum_sodium</td>\n",
       "      <td>0.573333</td>\n",
       "    </tr>\n",
       "  </tbody>\n",
       "</table>\n",
       "</div>"
      ],
      "text/plain": [
       "          category_1        category_2  train_accuracy\n",
       "0  ejection_fraction  serum_creatinine        0.626667\n",
       "1  ejection_fraction         platelets        0.573333\n",
       "2  ejection_fraction      serum_sodium        0.573333"
      ]
     },
     "execution_count": 18,
     "metadata": {},
     "output_type": "execute_result"
    }
   ],
   "source": [
    "new_row = {'category_1' : 'ejection_fraction', 'category_2' : 'serum_sodium', 'prediction_accuracy' : heart_disease_prediction_accuracy }\n",
    "compared_categories_dataframe.loc[len(compared_categories_dataframe)] = new_row\n",
    "compared_categories_dataframe"
   ]
  },
  {
   "cell_type": "markdown",
   "id": "80dc75b1",
   "metadata": {},
   "source": [
    "### Comparison of Ejection Fraction and Creatinine Phosphokinase"
   ]
  },
  {
   "cell_type": "code",
   "execution_count": 19,
   "id": "9f172ffd",
   "metadata": {},
   "outputs": [
    {
     "data": {
      "text/plain": [
       "n_neighbors               8\n",
       "mean_test_score    0.781212\n",
       "sem_test_score     0.009871\n",
       "Name: 7, dtype: object"
      ]
     },
     "execution_count": 19,
     "metadata": {},
     "output_type": "execute_result"
    }
   ],
   "source": [
    "# the pair of variables we are now comparing\n",
    "compared_categories = ['ejection_fraction', 'creatinine_phosphokinase']\n",
    "\n",
    "heart_disease_preprocessor = make_column_transformer(\n",
    "     (StandardScaler(), compared_categories),\n",
    "     remainder= 'passthrough',\n",
    "     verbose_feature_names_out=False,\n",
    ")\n",
    "\n",
    "parameter_grid = {\n",
    "    \"kneighborsclassifier__n_neighbors\": range(1, 50, 1),\n",
    "}\n",
    "\n",
    "heart_disease_pipeline = make_pipeline(heart_disease_preprocessor, KNeighborsClassifier())\n",
    "\n",
    "heart_disease_tune_grid = GridSearchCV(\n",
    "    estimator=heart_disease_pipeline,\n",
    "    param_grid=parameter_grid,\n",
    "    cv=5\n",
    ")\n",
    "\n",
    "accuracies_grid = pd.DataFrame(\n",
    "    heart_disease_tune_grid.fit(\n",
    "        heart_disease_train[compared_categories],\n",
    "        heart_disease_train[\"death_event\"]\n",
    "    ).cv_results_\n",
    ")\n",
    "\n",
    "# makes the accuracies_grid easier to read\n",
    "accuracies_grid = (\n",
    "    accuracies_grid[[\n",
    "        \"param_kneighborsclassifier__n_neighbors\",\n",
    "        \"mean_test_score\",\n",
    "        \"std_test_score\"\n",
    "    ]]\n",
    "    .assign(sem_test_score=accuracies_grid[\"std_test_score\"] / 5**(1/2))\n",
    "    .rename(columns={\"param_kneighborsclassifier__n_neighbors\": \"n_neighbors\"})\n",
    "    .drop(columns=[\"std_test_score\"])\n",
    ")\n",
    "\n",
    "# filters out the highest test score and returns the row\n",
    "accuracies_grid.loc[accuracies_grid['mean_test_score'].idxmax()]"
   ]
  },
  {
   "cell_type": "code",
   "execution_count": 20,
   "id": "47cfc1a0",
   "metadata": {},
   "outputs": [
    {
     "data": {
      "text/plain": [
       "0.6133333333333333"
      ]
     },
     "execution_count": 20,
     "metadata": {},
     "output_type": "execute_result"
    }
   ],
   "source": [
    "n = 10\n",
    "X = heart_disease_train[compared_categories]\n",
    "y = heart_disease_train[\"death_event\"]\n",
    "\n",
    "heart_disease_fit = make_pipeline(heart_disease_preprocessor, KNeighborsClassifier(n_neighbors = n))\n",
    "heart_disease_fit = heart_disease_fit.fit(X, y)\n",
    "\n",
    "heart_disease_test_predictions = heart_disease_test.assign(\n",
    "    predicted = heart_disease_fit.predict(heart_disease_test[compared_categories])\n",
    ")\n",
    "\n",
    "X_test = heart_disease_test_predictions[compared_categories]\n",
    "y_test = heart_disease_test_predictions[\"death_event\"]\n",
    "heart_disease_prediction_accuracy = heart_disease_fit.score(X_test, y_test)\n",
    "heart_disease_prediction_accuracy"
   ]
  },
  {
   "cell_type": "code",
   "execution_count": 21,
   "id": "0b6b3a01",
   "metadata": {},
   "outputs": [
    {
     "data": {
      "text/html": [
       "<div>\n",
       "<style scoped>\n",
       "    .dataframe tbody tr th:only-of-type {\n",
       "        vertical-align: middle;\n",
       "    }\n",
       "\n",
       "    .dataframe tbody tr th {\n",
       "        vertical-align: top;\n",
       "    }\n",
       "\n",
       "    .dataframe thead th {\n",
       "        text-align: right;\n",
       "    }\n",
       "</style>\n",
       "<table border=\"1\" class=\"dataframe\">\n",
       "  <thead>\n",
       "    <tr style=\"text-align: right;\">\n",
       "      <th></th>\n",
       "      <th>category_1</th>\n",
       "      <th>category_2</th>\n",
       "      <th>train_accuracy</th>\n",
       "    </tr>\n",
       "  </thead>\n",
       "  <tbody>\n",
       "    <tr>\n",
       "      <th>0</th>\n",
       "      <td>ejection_fraction</td>\n",
       "      <td>serum_creatinine</td>\n",
       "      <td>0.626667</td>\n",
       "    </tr>\n",
       "    <tr>\n",
       "      <th>1</th>\n",
       "      <td>ejection_fraction</td>\n",
       "      <td>platelets</td>\n",
       "      <td>0.573333</td>\n",
       "    </tr>\n",
       "    <tr>\n",
       "      <th>2</th>\n",
       "      <td>ejection_fraction</td>\n",
       "      <td>serum_sodium</td>\n",
       "      <td>0.573333</td>\n",
       "    </tr>\n",
       "    <tr>\n",
       "      <th>3</th>\n",
       "      <td>ejection_fraction</td>\n",
       "      <td>creatinine_phosphokinase</td>\n",
       "      <td>0.613333</td>\n",
       "    </tr>\n",
       "  </tbody>\n",
       "</table>\n",
       "</div>"
      ],
      "text/plain": [
       "          category_1                category_2  train_accuracy\n",
       "0  ejection_fraction          serum_creatinine        0.626667\n",
       "1  ejection_fraction                 platelets        0.573333\n",
       "2  ejection_fraction              serum_sodium        0.573333\n",
       "3  ejection_fraction  creatinine_phosphokinase        0.613333"
      ]
     },
     "execution_count": 21,
     "metadata": {},
     "output_type": "execute_result"
    }
   ],
   "source": [
    "new_row = {'category_1' : 'ejection_fraction', 'category_2' : 'creatinine_phosphokinase', 'prediction_accuracy' : heart_disease_prediction_accuracy }\n",
    "compared_categories_dataframe.loc[len(compared_categories_dataframe)] = new_row\n",
    "compared_categories_dataframe"
   ]
  },
  {
   "cell_type": "markdown",
   "id": "98d86535",
   "metadata": {},
   "source": [
    "### Comparison of Creatinine Phosphokinase and Serum Creatinine"
   ]
  },
  {
   "cell_type": "code",
   "execution_count": 22,
   "id": "0129a00a",
   "metadata": {},
   "outputs": [
    {
     "data": {
      "text/plain": [
       "n_neighbors              14\n",
       "mean_test_score    0.749899\n",
       "sem_test_score     0.017382\n",
       "Name: 13, dtype: object"
      ]
     },
     "execution_count": 22,
     "metadata": {},
     "output_type": "execute_result"
    }
   ],
   "source": [
    "# the pair of variables we are now comparing\n",
    "compared_categories = ['creatinine_phosphokinase', 'serum_creatinine']\n",
    "\n",
    "heart_disease_preprocessor = make_column_transformer(\n",
    "     (StandardScaler(), compared_categories),\n",
    "     remainder= 'passthrough',\n",
    "     verbose_feature_names_out=False,\n",
    ")\n",
    "\n",
    "parameter_grid = {\n",
    "    \"kneighborsclassifier__n_neighbors\": range(1, 50, 1),\n",
    "}\n",
    "\n",
    "heart_disease_pipeline = make_pipeline(heart_disease_preprocessor, KNeighborsClassifier())\n",
    "\n",
    "heart_disease_tune_grid = GridSearchCV(\n",
    "    estimator=heart_disease_pipeline,\n",
    "    param_grid=parameter_grid,\n",
    "    cv=5\n",
    ")\n",
    "\n",
    "accuracies_grid = pd.DataFrame(\n",
    "    heart_disease_tune_grid.fit(\n",
    "        heart_disease_train[compared_categories],\n",
    "        heart_disease_train[\"death_event\"]\n",
    "    ).cv_results_\n",
    ")\n",
    "\n",
    "# makes the accuracies_grid easier to read\n",
    "accuracies_grid = (\n",
    "    accuracies_grid[[\n",
    "        \"param_kneighborsclassifier__n_neighbors\",\n",
    "        \"mean_test_score\",\n",
    "        \"std_test_score\"\n",
    "    ]]\n",
    "    .assign(sem_test_score=accuracies_grid[\"std_test_score\"] / 5**(1/2))\n",
    "    .rename(columns={\"param_kneighborsclassifier__n_neighbors\": \"n_neighbors\"})\n",
    "    .drop(columns=[\"std_test_score\"])\n",
    ")\n",
    "\n",
    "# filters out the highest test score and returns the row\n",
    "accuracies_grid.loc[accuracies_grid['mean_test_score'].idxmax()]"
   ]
  },
  {
   "cell_type": "code",
   "execution_count": 23,
   "id": "0c081dc4",
   "metadata": {},
   "outputs": [
    {
     "data": {
      "text/plain": [
       "0.5866666666666667"
      ]
     },
     "execution_count": 23,
     "metadata": {},
     "output_type": "execute_result"
    }
   ],
   "source": [
    "n = 14\n",
    "X = heart_disease_train[compared_categories]\n",
    "y = heart_disease_train[\"death_event\"]\n",
    "\n",
    "heart_disease_fit = make_pipeline(heart_disease_preprocessor, KNeighborsClassifier(n_neighbors = n))\n",
    "heart_disease_fit = heart_disease_fit.fit(X, y)\n",
    "\n",
    "heart_disease_test_predictions = heart_disease_test.assign(\n",
    "    predicted = heart_disease_fit.predict(heart_disease_test[compared_categories])\n",
    ")\n",
    "\n",
    "X_test = heart_disease_test_predictions[compared_categories]\n",
    "y_test = heart_disease_test_predictions[\"death_event\"]\n",
    "heart_disease_prediction_accuracy = heart_disease_fit.score(X_test, y_test)\n",
    "heart_disease_prediction_accuracy"
   ]
  },
  {
   "cell_type": "code",
   "execution_count": null,
   "id": "4d4a5f48",
   "metadata": {},
   "outputs": [],
   "source": [
    "new_row = {'category_1' : 'creatine_phosphokinase', 'category_2' : 'serum_creatine', 'prediction_accuracy' : heart_disease_prediction_accuracy }\n",
    "compared_categories_dataframe.loc[len(compared_categories_dataframe)] = new_row\n",
    "compared_categories_dataframe"
   ]
  },
  {
   "cell_type": "markdown",
   "id": "ad3d2f1e",
   "metadata": {},
   "source": [
    "### Comparison of Platelets with Serum Creatinine"
   ]
  },
  {
   "cell_type": "code",
   "execution_count": 24,
   "id": "caf09894",
   "metadata": {},
   "outputs": [
    {
     "data": {
      "text/plain": [
       "n_neighbors               7\n",
       "mean_test_score    0.731919\n",
       "sem_test_score     0.024886\n",
       "Name: 6, dtype: object"
      ]
     },
     "execution_count": 24,
     "metadata": {},
     "output_type": "execute_result"
    }
   ],
   "source": [
    "# the pair of variables we are now comparing\n",
    "compared_categories = ['platelets', 'serum_creatinine']\n",
    "\n",
    "heart_disease_preprocessor = make_column_transformer(\n",
    "     (StandardScaler(), compared_categories),\n",
    "     remainder= 'passthrough',\n",
    "     verbose_feature_names_out=False,\n",
    ")\n",
    "\n",
    "parameter_grid = {\n",
    "    \"kneighborsclassifier__n_neighbors\": range(1, 50, 1),\n",
    "}\n",
    "\n",
    "heart_disease_pipeline = make_pipeline(heart_disease_preprocessor, KNeighborsClassifier())\n",
    "\n",
    "heart_disease_tune_grid = GridSearchCV(\n",
    "    estimator=heart_disease_pipeline,\n",
    "    param_grid=parameter_grid,\n",
    "    cv=5\n",
    ")\n",
    "\n",
    "accuracies_grid = pd.DataFrame(\n",
    "    heart_disease_tune_grid.fit(\n",
    "        heart_disease_train[compared_categories],\n",
    "        heart_disease_train[\"death_event\"]\n",
    "    ).cv_results_\n",
    ")\n",
    "\n",
    "# makes the accuracies_grid easier to read\n",
    "accuracies_grid = (\n",
    "    accuracies_grid[[\n",
    "        \"param_kneighborsclassifier__n_neighbors\",\n",
    "        \"mean_test_score\",\n",
    "        \"std_test_score\"\n",
    "    ]]\n",
    "    .assign(sem_test_score=accuracies_grid[\"std_test_score\"] / 5**(1/2))\n",
    "    .rename(columns={\"param_kneighborsclassifier__n_neighbors\": \"n_neighbors\"})\n",
    "    .drop(columns=[\"std_test_score\"])\n",
    ")\n",
    "\n",
    "# filters out the highest test score and returns the row\n",
    "accuracies_grid.loc[accuracies_grid['mean_test_score'].idxmax()]"
   ]
  },
  {
   "cell_type": "code",
   "execution_count": 25,
   "id": "826112b7",
   "metadata": {},
   "outputs": [
    {
     "data": {
      "text/plain": [
       "0.6666666666666666"
      ]
     },
     "execution_count": 25,
     "metadata": {},
     "output_type": "execute_result"
    }
   ],
   "source": [
    "n = 7\n",
    "X = heart_disease_train[compared_categories]\n",
    "y = heart_disease_train[\"death_event\"]\n",
    "\n",
    "heart_disease_fit = make_pipeline(heart_disease_preprocessor, KNeighborsClassifier(n_neighbors = n))\n",
    "heart_disease_fit = heart_disease_fit.fit(X, y)\n",
    "\n",
    "heart_disease_test_predictions = heart_disease_test.assign(\n",
    "    predicted = heart_disease_fit.predict(heart_disease_test[compared_categories])\n",
    ")\n",
    "\n",
    "X_test = heart_disease_test_predictions[compared_categories]\n",
    "y_test = heart_disease_test_predictions[\"death_event\"]\n",
    "heart_disease_prediction_accuracy = heart_disease_fit.score(X_test, y_test)\n",
    "heart_disease_prediction_accuracy"
   ]
  },
  {
   "cell_type": "code",
   "execution_count": 26,
   "id": "72878740",
   "metadata": {},
   "outputs": [
    {
     "data": {
      "text/html": [
       "<div>\n",
       "<style scoped>\n",
       "    .dataframe tbody tr th:only-of-type {\n",
       "        vertical-align: middle;\n",
       "    }\n",
       "\n",
       "    .dataframe tbody tr th {\n",
       "        vertical-align: top;\n",
       "    }\n",
       "\n",
       "    .dataframe thead th {\n",
       "        text-align: right;\n",
       "    }\n",
       "</style>\n",
       "<table border=\"1\" class=\"dataframe\">\n",
       "  <thead>\n",
       "    <tr style=\"text-align: right;\">\n",
       "      <th></th>\n",
       "      <th>category_1</th>\n",
       "      <th>category_2</th>\n",
       "      <th>train_accuracy</th>\n",
       "    </tr>\n",
       "  </thead>\n",
       "  <tbody>\n",
       "    <tr>\n",
       "      <th>0</th>\n",
       "      <td>ejection_fraction</td>\n",
       "      <td>serum_creatinine</td>\n",
       "      <td>0.626667</td>\n",
       "    </tr>\n",
       "    <tr>\n",
       "      <th>1</th>\n",
       "      <td>ejection_fraction</td>\n",
       "      <td>platelets</td>\n",
       "      <td>0.573333</td>\n",
       "    </tr>\n",
       "    <tr>\n",
       "      <th>2</th>\n",
       "      <td>ejection_fraction</td>\n",
       "      <td>serum_sodium</td>\n",
       "      <td>0.573333</td>\n",
       "    </tr>\n",
       "    <tr>\n",
       "      <th>3</th>\n",
       "      <td>ejection_fraction</td>\n",
       "      <td>creatinine_phosphokinase</td>\n",
       "      <td>0.613333</td>\n",
       "    </tr>\n",
       "    <tr>\n",
       "      <th>4</th>\n",
       "      <td>platelets</td>\n",
       "      <td>serum_creatinine</td>\n",
       "      <td>0.666667</td>\n",
       "    </tr>\n",
       "  </tbody>\n",
       "</table>\n",
       "</div>"
      ],
      "text/plain": [
       "          category_1                category_2  train_accuracy\n",
       "0  ejection_fraction          serum_creatinine        0.626667\n",
       "1  ejection_fraction                 platelets        0.573333\n",
       "2  ejection_fraction              serum_sodium        0.573333\n",
       "3  ejection_fraction  creatinine_phosphokinase        0.613333\n",
       "4          platelets          serum_creatinine        0.666667"
      ]
     },
     "execution_count": 26,
     "metadata": {},
     "output_type": "execute_result"
    }
   ],
   "source": [
    "new_row = {'category_1' : 'platelets', 'category_2' : 'serum_creatinine', 'prediction_accuracy' : heart_disease_prediction_accuracy }\n",
    "compared_categories_dataframe.loc[len(compared_categories_dataframe)] = new_row\n",
    "compared_categories_dataframe"
   ]
  },
  {
   "cell_type": "markdown",
   "id": "94bb38ff",
   "metadata": {},
   "source": [
    "### Comparison of Serum Creatinine and Serum Sodium"
   ]
  },
  {
   "cell_type": "code",
   "execution_count": 27,
   "id": "022210c7",
   "metadata": {},
   "outputs": [
    {
     "data": {
      "text/plain": [
       "n_neighbors               7\n",
       "mean_test_score    0.741212\n",
       "sem_test_score     0.026856\n",
       "Name: 6, dtype: object"
      ]
     },
     "execution_count": 27,
     "metadata": {},
     "output_type": "execute_result"
    }
   ],
   "source": [
    "# the pair of variables we are now comparing\n",
    "compared_categories = ['serum_creatinine', 'serum_sodium']\n",
    "\n",
    "heart_disease_preprocessor = make_column_transformer(\n",
    "     (StandardScaler(), compared_categories),\n",
    "     remainder= 'passthrough',\n",
    "     verbose_feature_names_out=False,\n",
    ")\n",
    "\n",
    "parameter_grid = {\n",
    "    \"kneighborsclassifier__n_neighbors\": range(1, 50, 1),\n",
    "}\n",
    "\n",
    "heart_disease_pipeline = make_pipeline(heart_disease_preprocessor, KNeighborsClassifier())\n",
    "\n",
    "heart_disease_tune_grid = GridSearchCV(\n",
    "    estimator=heart_disease_pipeline,\n",
    "    param_grid=parameter_grid,\n",
    "    cv=5\n",
    ")\n",
    "\n",
    "accuracies_grid = pd.DataFrame(\n",
    "    heart_disease_tune_grid.fit(\n",
    "        heart_disease_train[compared_categories],\n",
    "        heart_disease_train[\"death_event\"]\n",
    "    ).cv_results_\n",
    ")\n",
    "\n",
    "# makes the accuracies_grid easier to read\n",
    "accuracies_grid = (\n",
    "    accuracies_grid[[\n",
    "        \"param_kneighborsclassifier__n_neighbors\",\n",
    "        \"mean_test_score\",\n",
    "        \"std_test_score\"\n",
    "    ]]\n",
    "    .assign(sem_test_score=accuracies_grid[\"std_test_score\"] / 5**(1/2))\n",
    "    .rename(columns={\"param_kneighborsclassifier__n_neighbors\": \"n_neighbors\"})\n",
    "    .drop(columns=[\"std_test_score\"])\n",
    ")\n",
    "\n",
    "# filters out the highest test score and returns the row\n",
    "accuracies_grid.loc[accuracies_grid['mean_test_score'].idxmax()]"
   ]
  },
  {
   "cell_type": "code",
   "execution_count": 28,
   "id": "9214e9f0",
   "metadata": {},
   "outputs": [
    {
     "data": {
      "text/plain": [
       "0.7066666666666667"
      ]
     },
     "execution_count": 28,
     "metadata": {},
     "output_type": "execute_result"
    }
   ],
   "source": [
    "n = 7\n",
    "X = heart_disease_train[compared_categories]\n",
    "y = heart_disease_train[\"death_event\"]\n",
    "\n",
    "heart_disease_fit = make_pipeline(heart_disease_preprocessor, KNeighborsClassifier(n_neighbors = n))\n",
    "heart_disease_fit = heart_disease_fit.fit(X, y)\n",
    "\n",
    "heart_disease_test_predictions = heart_disease_test.assign(\n",
    "    predicted = heart_disease_fit.predict(heart_disease_test[compared_categories])\n",
    ")\n",
    "\n",
    "X_test = heart_disease_test_predictions[compared_categories]\n",
    "y_test = heart_disease_test_predictions[\"death_event\"]\n",
    "heart_disease_prediction_accuracy = heart_disease_fit.score(X_test, y_test)\n",
    "heart_disease_prediction_accuracy"
   ]
  },
  {
   "cell_type": "code",
   "execution_count": 29,
   "id": "d906095f",
   "metadata": {},
   "outputs": [
    {
     "data": {
      "text/html": [
       "<div>\n",
       "<style scoped>\n",
       "    .dataframe tbody tr th:only-of-type {\n",
       "        vertical-align: middle;\n",
       "    }\n",
       "\n",
       "    .dataframe tbody tr th {\n",
       "        vertical-align: top;\n",
       "    }\n",
       "\n",
       "    .dataframe thead th {\n",
       "        text-align: right;\n",
       "    }\n",
       "</style>\n",
       "<table border=\"1\" class=\"dataframe\">\n",
       "  <thead>\n",
       "    <tr style=\"text-align: right;\">\n",
       "      <th></th>\n",
       "      <th>category_1</th>\n",
       "      <th>category_2</th>\n",
       "      <th>train_accuracy</th>\n",
       "    </tr>\n",
       "  </thead>\n",
       "  <tbody>\n",
       "    <tr>\n",
       "      <th>0</th>\n",
       "      <td>ejection_fraction</td>\n",
       "      <td>serum_creatinine</td>\n",
       "      <td>0.626667</td>\n",
       "    </tr>\n",
       "    <tr>\n",
       "      <th>1</th>\n",
       "      <td>ejection_fraction</td>\n",
       "      <td>platelets</td>\n",
       "      <td>0.573333</td>\n",
       "    </tr>\n",
       "    <tr>\n",
       "      <th>2</th>\n",
       "      <td>ejection_fraction</td>\n",
       "      <td>serum_sodium</td>\n",
       "      <td>0.573333</td>\n",
       "    </tr>\n",
       "    <tr>\n",
       "      <th>3</th>\n",
       "      <td>ejection_fraction</td>\n",
       "      <td>creatinine_phosphokinase</td>\n",
       "      <td>0.613333</td>\n",
       "    </tr>\n",
       "    <tr>\n",
       "      <th>4</th>\n",
       "      <td>platelets</td>\n",
       "      <td>serum_creatinine</td>\n",
       "      <td>0.666667</td>\n",
       "    </tr>\n",
       "    <tr>\n",
       "      <th>5</th>\n",
       "      <td>serum_creatinine</td>\n",
       "      <td>serum_sodium</td>\n",
       "      <td>0.706667</td>\n",
       "    </tr>\n",
       "  </tbody>\n",
       "</table>\n",
       "</div>"
      ],
      "text/plain": [
       "          category_1                category_2  train_accuracy\n",
       "0  ejection_fraction          serum_creatinine        0.626667\n",
       "1  ejection_fraction                 platelets        0.573333\n",
       "2  ejection_fraction              serum_sodium        0.573333\n",
       "3  ejection_fraction  creatinine_phosphokinase        0.613333\n",
       "4          platelets          serum_creatinine        0.666667\n",
       "5   serum_creatinine              serum_sodium        0.706667"
      ]
     },
     "execution_count": 29,
     "metadata": {},
     "output_type": "execute_result"
    }
   ],
   "source": [
    "new_row = {'category_1' : 'serum_creatinine', 'category_2' : 'serum_sodium', 'prediction_accuracy' : heart_disease_prediction_accuracy }\n",
    "compared_categories_dataframe.loc[len(compared_categories_dataframe)] = new_row\n",
    "compared_categories_dataframe"
   ]
  },
  {
   "cell_type": "markdown",
   "id": "1be6421a",
   "metadata": {},
   "source": [
    "### Comparison of Creatinine Phosphokinase and Platelets"
   ]
  },
  {
   "cell_type": "code",
   "execution_count": 30,
   "id": "275b1ab9",
   "metadata": {},
   "outputs": [
    {
     "data": {
      "text/plain": [
       "n_neighbors              14\n",
       "mean_test_score    0.714242\n",
       "sem_test_score     0.004418\n",
       "Name: 13, dtype: object"
      ]
     },
     "execution_count": 30,
     "metadata": {},
     "output_type": "execute_result"
    }
   ],
   "source": [
    "# the pair of variables we are now comparing\n",
    "compared_categories = ['creatinine_phosphokinase', 'platelets']\n",
    "\n",
    "heart_disease_preprocessor = make_column_transformer(\n",
    "     (StandardScaler(), compared_categories),\n",
    "     remainder= 'passthrough',\n",
    "     verbose_feature_names_out=False,\n",
    ")\n",
    "\n",
    "parameter_grid = {\n",
    "    \"kneighborsclassifier__n_neighbors\": range(1, 50, 1),\n",
    "}\n",
    "\n",
    "heart_disease_pipeline = make_pipeline(heart_disease_preprocessor, KNeighborsClassifier())\n",
    "\n",
    "heart_disease_tune_grid = GridSearchCV(\n",
    "    estimator=heart_disease_pipeline,\n",
    "    param_grid=parameter_grid,\n",
    "    cv=5\n",
    ")\n",
    "\n",
    "accuracies_grid = pd.DataFrame(\n",
    "    heart_disease_tune_grid.fit(\n",
    "        heart_disease_train[compared_categories],\n",
    "        heart_disease_train[\"death_event\"]\n",
    "    ).cv_results_\n",
    ")\n",
    "\n",
    "# makes the accuracies_grid easier to read\n",
    "accuracies_grid = (\n",
    "    accuracies_grid[[\n",
    "        \"param_kneighborsclassifier__n_neighbors\",\n",
    "        \"mean_test_score\",\n",
    "        \"std_test_score\"\n",
    "    ]]\n",
    "    .assign(sem_test_score=accuracies_grid[\"std_test_score\"] / 5**(1/2))\n",
    "    .rename(columns={\"param_kneighborsclassifier__n_neighbors\": \"n_neighbors\"})\n",
    "    .drop(columns=[\"std_test_score\"])\n",
    ")\n",
    "\n",
    "# filters out the highest test score and returns the row\n",
    "accuracies_grid.loc[accuracies_grid['mean_test_score'].idxmax()]"
   ]
  },
  {
   "cell_type": "code",
   "execution_count": 31,
   "id": "5c022c44",
   "metadata": {},
   "outputs": [
    {
     "data": {
      "text/plain": [
       "0.5466666666666666"
      ]
     },
     "execution_count": 31,
     "metadata": {},
     "output_type": "execute_result"
    }
   ],
   "source": [
    "n = 14\n",
    "X = heart_disease_train[compared_categories]\n",
    "y = heart_disease_train[\"death_event\"]\n",
    "\n",
    "heart_disease_fit = make_pipeline(heart_disease_preprocessor, KNeighborsClassifier(n_neighbors = n))\n",
    "heart_disease_fit = heart_disease_fit.fit(X, y)\n",
    "\n",
    "heart_disease_test_predictions = heart_disease_test.assign(\n",
    "    predicted = heart_disease_fit.predict(heart_disease_test[compared_categories])\n",
    ")\n",
    "\n",
    "X_test = heart_disease_test_predictions[compared_categories]\n",
    "y_test = heart_disease_test_predictions[\"death_event\"]\n",
    "heart_disease_prediction_accuracy = heart_disease_fit.score(X_test, y_test)\n",
    "heart_disease_prediction_accuracy"
   ]
  },
  {
   "cell_type": "code",
   "execution_count": 32,
   "id": "4cebcc8c",
   "metadata": {},
   "outputs": [
    {
     "data": {
      "text/html": [
       "<div>\n",
       "<style scoped>\n",
       "    .dataframe tbody tr th:only-of-type {\n",
       "        vertical-align: middle;\n",
       "    }\n",
       "\n",
       "    .dataframe tbody tr th {\n",
       "        vertical-align: top;\n",
       "    }\n",
       "\n",
       "    .dataframe thead th {\n",
       "        text-align: right;\n",
       "    }\n",
       "</style>\n",
       "<table border=\"1\" class=\"dataframe\">\n",
       "  <thead>\n",
       "    <tr style=\"text-align: right;\">\n",
       "      <th></th>\n",
       "      <th>category_1</th>\n",
       "      <th>category_2</th>\n",
       "      <th>train_accuracy</th>\n",
       "    </tr>\n",
       "  </thead>\n",
       "  <tbody>\n",
       "    <tr>\n",
       "      <th>0</th>\n",
       "      <td>ejection_fraction</td>\n",
       "      <td>serum_creatinine</td>\n",
       "      <td>0.626667</td>\n",
       "    </tr>\n",
       "    <tr>\n",
       "      <th>1</th>\n",
       "      <td>ejection_fraction</td>\n",
       "      <td>platelets</td>\n",
       "      <td>0.573333</td>\n",
       "    </tr>\n",
       "    <tr>\n",
       "      <th>2</th>\n",
       "      <td>ejection_fraction</td>\n",
       "      <td>serum_sodium</td>\n",
       "      <td>0.573333</td>\n",
       "    </tr>\n",
       "    <tr>\n",
       "      <th>3</th>\n",
       "      <td>ejection_fraction</td>\n",
       "      <td>creatinine_phosphokinase</td>\n",
       "      <td>0.613333</td>\n",
       "    </tr>\n",
       "    <tr>\n",
       "      <th>4</th>\n",
       "      <td>platelets</td>\n",
       "      <td>serum_creatinine</td>\n",
       "      <td>0.666667</td>\n",
       "    </tr>\n",
       "    <tr>\n",
       "      <th>5</th>\n",
       "      <td>serum_creatinine</td>\n",
       "      <td>serum_sodium</td>\n",
       "      <td>0.706667</td>\n",
       "    </tr>\n",
       "    <tr>\n",
       "      <th>6</th>\n",
       "      <td>creatinine_phosphokinase</td>\n",
       "      <td>platelets</td>\n",
       "      <td>0.546667</td>\n",
       "    </tr>\n",
       "  </tbody>\n",
       "</table>\n",
       "</div>"
      ],
      "text/plain": [
       "                 category_1                category_2  train_accuracy\n",
       "0         ejection_fraction          serum_creatinine        0.626667\n",
       "1         ejection_fraction                 platelets        0.573333\n",
       "2         ejection_fraction              serum_sodium        0.573333\n",
       "3         ejection_fraction  creatinine_phosphokinase        0.613333\n",
       "4                 platelets          serum_creatinine        0.666667\n",
       "5          serum_creatinine              serum_sodium        0.706667\n",
       "6  creatinine_phosphokinase                 platelets        0.546667"
      ]
     },
     "execution_count": 32,
     "metadata": {},
     "output_type": "execute_result"
    }
   ],
   "source": [
    "new_row = {'category_1' : 'creatinine_phosphokinase', 'category_2' : 'platelets', 'prediction_accuracy' : heart_disease_prediction_accuracy }\n",
    "compared_categories_dataframe.loc[len(compared_categories_dataframe)] = new_row\n",
    "compared_categories_dataframe"
   ]
  },
  {
   "cell_type": "markdown",
   "id": "fca34b4b",
   "metadata": {},
   "source": [
    "### Comparison of Creatinine Phosphokinase and Serum Sodium"
   ]
  },
  {
   "cell_type": "code",
   "execution_count": 33,
   "id": "d6096c91",
   "metadata": {},
   "outputs": [
    {
     "data": {
      "text/plain": [
       "n_neighbors              17\n",
       "mean_test_score    0.723434\n",
       "sem_test_score     0.012688\n",
       "Name: 16, dtype: object"
      ]
     },
     "execution_count": 33,
     "metadata": {},
     "output_type": "execute_result"
    }
   ],
   "source": [
    "# the pair of variables we are now comparing\n",
    "compared_categories = ['creatinine_phosphokinase', 'serum_sodium']\n",
    "\n",
    "heart_disease_preprocessor = make_column_transformer(\n",
    "     (StandardScaler(), compared_categories),\n",
    "     remainder= 'passthrough',\n",
    "     verbose_feature_names_out=False,\n",
    ")\n",
    "\n",
    "parameter_grid = {\n",
    "    \"kneighborsclassifier__n_neighbors\": range(1, 50, 1),\n",
    "}\n",
    "\n",
    "heart_disease_pipeline = make_pipeline(heart_disease_preprocessor, KNeighborsClassifier())\n",
    "\n",
    "heart_disease_tune_grid = GridSearchCV(\n",
    "    estimator=heart_disease_pipeline,\n",
    "    param_grid=parameter_grid,\n",
    "    cv=5\n",
    ")\n",
    "\n",
    "accuracies_grid = pd.DataFrame(\n",
    "    heart_disease_tune_grid.fit(\n",
    "        heart_disease_train[compared_categories],\n",
    "        heart_disease_train[\"death_event\"]\n",
    "    ).cv_results_\n",
    ")\n",
    "\n",
    "# makes the accuracies_grid easier to read\n",
    "accuracies_grid = (\n",
    "    accuracies_grid[[\n",
    "        \"param_kneighborsclassifier__n_neighbors\",\n",
    "        \"mean_test_score\",\n",
    "        \"std_test_score\"\n",
    "    ]]\n",
    "    .assign(sem_test_score=accuracies_grid[\"std_test_score\"] / 5**(1/2))\n",
    "    .rename(columns={\"param_kneighborsclassifier__n_neighbors\": \"n_neighbors\"})\n",
    "    .drop(columns=[\"std_test_score\"])\n",
    ")\n",
    "\n",
    "# filters out the highest test score and returns the row\n",
    "accuracies_grid.loc[accuracies_grid['mean_test_score'].idxmax()]"
   ]
  },
  {
   "cell_type": "code",
   "execution_count": 34,
   "id": "d3198c68",
   "metadata": {},
   "outputs": [
    {
     "data": {
      "text/plain": [
       "0.6266666666666667"
      ]
     },
     "execution_count": 34,
     "metadata": {},
     "output_type": "execute_result"
    }
   ],
   "source": [
    "n = 17\n",
    "X = heart_disease_train[compared_categories]\n",
    "y = heart_disease_train[\"death_event\"]\n",
    "\n",
    "heart_disease_fit = make_pipeline(heart_disease_preprocessor, KNeighborsClassifier(n_neighbors = n))\n",
    "heart_disease_fit = heart_disease_fit.fit(X, y)\n",
    "\n",
    "heart_disease_test_predictions = heart_disease_test.assign(\n",
    "    predicted = heart_disease_fit.predict(heart_disease_test[compared_categories])\n",
    ")\n",
    "\n",
    "X_test = heart_disease_test_predictions[compared_categories]\n",
    "y_test = heart_disease_test_predictions[\"death_event\"]\n",
    "heart_disease_prediction_accuracy = heart_disease_fit.score(X_test, y_test)\n",
    "heart_disease_prediction_accuracy"
   ]
  },
  {
   "cell_type": "code",
   "execution_count": 35,
   "id": "929a62cc",
   "metadata": {},
   "outputs": [
    {
     "data": {
      "text/html": [
       "<div>\n",
       "<style scoped>\n",
       "    .dataframe tbody tr th:only-of-type {\n",
       "        vertical-align: middle;\n",
       "    }\n",
       "\n",
       "    .dataframe tbody tr th {\n",
       "        vertical-align: top;\n",
       "    }\n",
       "\n",
       "    .dataframe thead th {\n",
       "        text-align: right;\n",
       "    }\n",
       "</style>\n",
       "<table border=\"1\" class=\"dataframe\">\n",
       "  <thead>\n",
       "    <tr style=\"text-align: right;\">\n",
       "      <th></th>\n",
       "      <th>category_1</th>\n",
       "      <th>category_2</th>\n",
       "      <th>train_accuracy</th>\n",
       "    </tr>\n",
       "  </thead>\n",
       "  <tbody>\n",
       "    <tr>\n",
       "      <th>0</th>\n",
       "      <td>ejection_fraction</td>\n",
       "      <td>serum_creatinine</td>\n",
       "      <td>0.626667</td>\n",
       "    </tr>\n",
       "    <tr>\n",
       "      <th>1</th>\n",
       "      <td>ejection_fraction</td>\n",
       "      <td>platelets</td>\n",
       "      <td>0.573333</td>\n",
       "    </tr>\n",
       "    <tr>\n",
       "      <th>2</th>\n",
       "      <td>ejection_fraction</td>\n",
       "      <td>serum_sodium</td>\n",
       "      <td>0.573333</td>\n",
       "    </tr>\n",
       "    <tr>\n",
       "      <th>3</th>\n",
       "      <td>ejection_fraction</td>\n",
       "      <td>creatinine_phosphokinase</td>\n",
       "      <td>0.613333</td>\n",
       "    </tr>\n",
       "    <tr>\n",
       "      <th>4</th>\n",
       "      <td>platelets</td>\n",
       "      <td>serum_creatinine</td>\n",
       "      <td>0.666667</td>\n",
       "    </tr>\n",
       "    <tr>\n",
       "      <th>5</th>\n",
       "      <td>serum_creatinine</td>\n",
       "      <td>serum_sodium</td>\n",
       "      <td>0.706667</td>\n",
       "    </tr>\n",
       "    <tr>\n",
       "      <th>6</th>\n",
       "      <td>creatinine_phosphokinase</td>\n",
       "      <td>platelets</td>\n",
       "      <td>0.546667</td>\n",
       "    </tr>\n",
       "    <tr>\n",
       "      <th>7</th>\n",
       "      <td>creatinine_phosphokinase</td>\n",
       "      <td>serum_sodium</td>\n",
       "      <td>0.626667</td>\n",
       "    </tr>\n",
       "  </tbody>\n",
       "</table>\n",
       "</div>"
      ],
      "text/plain": [
       "                 category_1                category_2  train_accuracy\n",
       "0         ejection_fraction          serum_creatinine        0.626667\n",
       "1         ejection_fraction                 platelets        0.573333\n",
       "2         ejection_fraction              serum_sodium        0.573333\n",
       "3         ejection_fraction  creatinine_phosphokinase        0.613333\n",
       "4                 platelets          serum_creatinine        0.666667\n",
       "5          serum_creatinine              serum_sodium        0.706667\n",
       "6  creatinine_phosphokinase                 platelets        0.546667\n",
       "7  creatinine_phosphokinase              serum_sodium        0.626667"
      ]
     },
     "execution_count": 35,
     "metadata": {},
     "output_type": "execute_result"
    }
   ],
   "source": [
    "new_row = {'category_1' : 'creatinine_phosphokinase', 'category_2' : 'serum_sodium', 'prediction_accuracy' : heart_disease_prediction_accuracy }\n",
    "compared_categories_dataframe.loc[len(compared_categories_dataframe)] = new_row\n",
    "compared_categories_dataframe"
   ]
  },
  {
   "cell_type": "markdown",
   "id": "1ce32701-da2b-4405-8b51-c7b3b7cd20c3",
   "metadata": {},
   "source": [
    "### Comparison of Platelets and Serum Sodium"
   ]
  },
  {
   "cell_type": "code",
   "execution_count": 36,
   "id": "b7f5b6cc",
   "metadata": {},
   "outputs": [
    {
     "data": {
      "text/plain": [
       "n_neighbors              20\n",
       "mean_test_score    0.714242\n",
       "sem_test_score     0.009926\n",
       "Name: 19, dtype: object"
      ]
     },
     "execution_count": 36,
     "metadata": {},
     "output_type": "execute_result"
    }
   ],
   "source": [
    "# the pair of variables we are now comparing\n",
    "compared_categories = ['platelets', 'serum_sodium']\n",
    "\n",
    "heart_disease_preprocessor = make_column_transformer(\n",
    "     (StandardScaler(), compared_categories),\n",
    "     remainder= 'passthrough',\n",
    "     verbose_feature_names_out=False,\n",
    ")\n",
    "\n",
    "parameter_grid = {\n",
    "    \"kneighborsclassifier__n_neighbors\": range(1, 50, 1),\n",
    "}\n",
    "\n",
    "heart_disease_pipeline = make_pipeline(heart_disease_preprocessor, KNeighborsClassifier())\n",
    "\n",
    "heart_disease_tune_grid = GridSearchCV(\n",
    "    estimator=heart_disease_pipeline,\n",
    "    param_grid=parameter_grid,\n",
    "    cv=5\n",
    ")\n",
    "\n",
    "accuracies_grid = pd.DataFrame(\n",
    "    heart_disease_tune_grid.fit(\n",
    "        heart_disease_train[compared_categories],\n",
    "        heart_disease_train[\"death_event\"]\n",
    "    ).cv_results_\n",
    ")\n",
    "\n",
    "# makes the accuracies_grid easier to read\n",
    "accuracies_grid = (\n",
    "    accuracies_grid[[\n",
    "        \"param_kneighborsclassifier__n_neighbors\",\n",
    "        \"mean_test_score\",\n",
    "        \"std_test_score\"\n",
    "    ]]\n",
    "    .assign(sem_test_score=accuracies_grid[\"std_test_score\"] / 5**(1/2))\n",
    "    .rename(columns={\"param_kneighborsclassifier__n_neighbors\": \"n_neighbors\"})\n",
    "    .drop(columns=[\"std_test_score\"])\n",
    ")\n",
    "\n",
    "# filters out the highest test score and returns the row\n",
    "accuracies_grid.loc[accuracies_grid['mean_test_score'].idxmax()]"
   ]
  },
  {
   "cell_type": "code",
   "execution_count": 37,
   "id": "7437017a",
   "metadata": {},
   "outputs": [
    {
     "data": {
      "text/plain": [
       "0.6"
      ]
     },
     "execution_count": 37,
     "metadata": {},
     "output_type": "execute_result"
    }
   ],
   "source": [
    "n = 20\n",
    "X = heart_disease_train[compared_categories]\n",
    "y = heart_disease_train[\"death_event\"]\n",
    "\n",
    "heart_disease_fit = make_pipeline(heart_disease_preprocessor, KNeighborsClassifier(n_neighbors = n))\n",
    "heart_disease_fit = heart_disease_fit.fit(X, y)\n",
    "\n",
    "heart_disease_test_predictions = heart_disease_test.assign(\n",
    "    predicted = heart_disease_fit.predict(heart_disease_test[compared_categories])\n",
    ")\n",
    "\n",
    "X_test = heart_disease_test_predictions[compared_categories]\n",
    "y_test = heart_disease_test_predictions[\"death_event\"]\n",
    "heart_disease_prediction_accuracy = heart_disease_fit.score(X_test, y_test)\n",
    "heart_disease_prediction_accuracy"
   ]
  },
  {
   "cell_type": "code",
   "execution_count": 38,
   "id": "eae725e2",
   "metadata": {},
   "outputs": [
    {
     "data": {
      "text/html": [
       "<div>\n",
       "<style scoped>\n",
       "    .dataframe tbody tr th:only-of-type {\n",
       "        vertical-align: middle;\n",
       "    }\n",
       "\n",
       "    .dataframe tbody tr th {\n",
       "        vertical-align: top;\n",
       "    }\n",
       "\n",
       "    .dataframe thead th {\n",
       "        text-align: right;\n",
       "    }\n",
       "</style>\n",
       "<table border=\"1\" class=\"dataframe\">\n",
       "  <thead>\n",
       "    <tr style=\"text-align: right;\">\n",
       "      <th></th>\n",
       "      <th>category_1</th>\n",
       "      <th>category_2</th>\n",
       "      <th>train_accuracy</th>\n",
       "    </tr>\n",
       "  </thead>\n",
       "  <tbody>\n",
       "    <tr>\n",
       "      <th>0</th>\n",
       "      <td>ejection_fraction</td>\n",
       "      <td>serum_creatinine</td>\n",
       "      <td>0.626667</td>\n",
       "    </tr>\n",
       "    <tr>\n",
       "      <th>1</th>\n",
       "      <td>ejection_fraction</td>\n",
       "      <td>platelets</td>\n",
       "      <td>0.573333</td>\n",
       "    </tr>\n",
       "    <tr>\n",
       "      <th>2</th>\n",
       "      <td>ejection_fraction</td>\n",
       "      <td>serum_sodium</td>\n",
       "      <td>0.573333</td>\n",
       "    </tr>\n",
       "    <tr>\n",
       "      <th>3</th>\n",
       "      <td>ejection_fraction</td>\n",
       "      <td>creatinine_phosphokinase</td>\n",
       "      <td>0.613333</td>\n",
       "    </tr>\n",
       "    <tr>\n",
       "      <th>4</th>\n",
       "      <td>platelets</td>\n",
       "      <td>serum_creatinine</td>\n",
       "      <td>0.666667</td>\n",
       "    </tr>\n",
       "    <tr>\n",
       "      <th>5</th>\n",
       "      <td>serum_creatinine</td>\n",
       "      <td>serum_sodium</td>\n",
       "      <td>0.706667</td>\n",
       "    </tr>\n",
       "    <tr>\n",
       "      <th>6</th>\n",
       "      <td>creatinine_phosphokinase</td>\n",
       "      <td>platelets</td>\n",
       "      <td>0.546667</td>\n",
       "    </tr>\n",
       "    <tr>\n",
       "      <th>7</th>\n",
       "      <td>creatinine_phosphokinase</td>\n",
       "      <td>serum_sodium</td>\n",
       "      <td>0.626667</td>\n",
       "    </tr>\n",
       "    <tr>\n",
       "      <th>8</th>\n",
       "      <td>platelets</td>\n",
       "      <td>serum_sodium</td>\n",
       "      <td>0.600000</td>\n",
       "    </tr>\n",
       "  </tbody>\n",
       "</table>\n",
       "</div>"
      ],
      "text/plain": [
       "                 category_1                category_2  train_accuracy\n",
       "0         ejection_fraction          serum_creatinine        0.626667\n",
       "1         ejection_fraction                 platelets        0.573333\n",
       "2         ejection_fraction              serum_sodium        0.573333\n",
       "3         ejection_fraction  creatinine_phosphokinase        0.613333\n",
       "4                 platelets          serum_creatinine        0.666667\n",
       "5          serum_creatinine              serum_sodium        0.706667\n",
       "6  creatinine_phosphokinase                 platelets        0.546667\n",
       "7  creatinine_phosphokinase              serum_sodium        0.626667\n",
       "8                 platelets              serum_sodium        0.600000"
      ]
     },
     "execution_count": 38,
     "metadata": {},
     "output_type": "execute_result"
    }
   ],
   "source": [
    "new_row = {'category_1' : 'platelets', 'category_2' : 'serum_sodium', 'prediction_accuracy' : heart_disease_prediction_accuracy }\n",
    "compared_categories_dataframe.loc[len(compared_categories_dataframe)] = new_row\n",
    "compared_categories_dataframe"
   ]
  },
  {
   "cell_type": "markdown",
   "id": "804804f7-e7b9-4d08-8cca-a40a532c14fb",
   "metadata": {
    "tags": []
   },
   "source": [
    "### Comparison of Age and Creatinine phosphokinase"
   ]
  },
  {
   "cell_type": "code",
   "execution_count": 39,
   "id": "834e65d6-052f-49d9-8440-9d3e8214502e",
   "metadata": {
    "tags": []
   },
   "outputs": [
    {
     "data": {
      "text/plain": [
       "n_neighbors               2\n",
       "mean_test_score    0.723131\n",
       "sem_test_score     0.016405\n",
       "Name: 1, dtype: object"
      ]
     },
     "execution_count": 39,
     "metadata": {},
     "output_type": "execute_result"
    }
   ],
   "source": [
    "# the pair of variables we are now comparing\n",
    "compared_categories = ['age', 'creatinine_phosphokinase']\n",
    "\n",
    "heart_disease_preprocessor = make_column_transformer(\n",
    "     (StandardScaler(), compared_categories),\n",
    "     remainder= 'passthrough',\n",
    "     verbose_feature_names_out=False,\n",
    ")\n",
    "\n",
    "parameter_grid = {\n",
    "    \"kneighborsclassifier__n_neighbors\": range(1, 50, 1),\n",
    "}\n",
    "\n",
    "heart_disease_pipeline = make_pipeline(heart_disease_preprocessor, KNeighborsClassifier())\n",
    "\n",
    "heart_disease_tune_grid = GridSearchCV(\n",
    "    estimator=heart_disease_pipeline,\n",
    "    param_grid=parameter_grid,\n",
    "    cv=5\n",
    ")\n",
    "\n",
    "accuracies_grid = pd.DataFrame(\n",
    "    heart_disease_tune_grid.fit(\n",
    "        heart_disease_train[compared_categories],\n",
    "        heart_disease_train[\"death_event\"]\n",
    "    ).cv_results_\n",
    ")\n",
    "\n",
    "# makes the accuracies_grid easier to read\n",
    "accuracies_grid = (\n",
    "    accuracies_grid[[\n",
    "        \"param_kneighborsclassifier__n_neighbors\",\n",
    "        \"mean_test_score\",\n",
    "        \"std_test_score\"\n",
    "    ]]\n",
    "    .assign(sem_test_score=accuracies_grid[\"std_test_score\"] / 5**(1/2))\n",
    "    .rename(columns={\"param_kneighborsclassifier__n_neighbors\": \"n_neighbors\"})\n",
    "    .drop(columns=[\"std_test_score\"])\n",
    ")\n",
    "\n",
    "# filters out the highest test score and returns the row\n",
    "accuracies_grid.loc[accuracies_grid['mean_test_score'].idxmax()]"
   ]
  },
  {
   "cell_type": "code",
   "execution_count": 40,
   "id": "3ee39787-98a4-4b64-a507-26f33f868571",
   "metadata": {
    "tags": []
   },
   "outputs": [
    {
     "data": {
      "text/plain": [
       "0.5733333333333334"
      ]
     },
     "execution_count": 40,
     "metadata": {},
     "output_type": "execute_result"
    }
   ],
   "source": [
    "n = 2\n",
    "X = heart_disease_train[compared_categories]\n",
    "y = heart_disease_train[\"death_event\"]\n",
    "\n",
    "heart_disease_fit = make_pipeline(heart_disease_preprocessor, KNeighborsClassifier(n_neighbors = n))\n",
    "heart_disease_fit = heart_disease_fit.fit(X, y)\n",
    "\n",
    "heart_disease_test_predictions = heart_disease_test.assign(\n",
    "    predicted = heart_disease_fit.predict(heart_disease_test[compared_categories])\n",
    ")\n",
    "\n",
    "X_test = heart_disease_test_predictions[compared_categories]\n",
    "y_test = heart_disease_test_predictions[\"death_event\"]\n",
    "heart_disease_prediction_accuracy = heart_disease_fit.score(X_test, y_test)\n",
    "heart_disease_prediction_accuracy"
   ]
  },
  {
   "cell_type": "code",
   "execution_count": 41,
   "id": "2e491368-54ec-4676-934d-00c8c7c31ce8",
   "metadata": {
    "tags": []
   },
   "outputs": [
    {
     "data": {
      "text/html": [
       "<div>\n",
       "<style scoped>\n",
       "    .dataframe tbody tr th:only-of-type {\n",
       "        vertical-align: middle;\n",
       "    }\n",
       "\n",
       "    .dataframe tbody tr th {\n",
       "        vertical-align: top;\n",
       "    }\n",
       "\n",
       "    .dataframe thead th {\n",
       "        text-align: right;\n",
       "    }\n",
       "</style>\n",
       "<table border=\"1\" class=\"dataframe\">\n",
       "  <thead>\n",
       "    <tr style=\"text-align: right;\">\n",
       "      <th></th>\n",
       "      <th>category_1</th>\n",
       "      <th>category_2</th>\n",
       "      <th>train_accuracy</th>\n",
       "    </tr>\n",
       "  </thead>\n",
       "  <tbody>\n",
       "    <tr>\n",
       "      <th>0</th>\n",
       "      <td>ejection_fraction</td>\n",
       "      <td>serum_creatinine</td>\n",
       "      <td>0.626667</td>\n",
       "    </tr>\n",
       "    <tr>\n",
       "      <th>1</th>\n",
       "      <td>ejection_fraction</td>\n",
       "      <td>platelets</td>\n",
       "      <td>0.573333</td>\n",
       "    </tr>\n",
       "    <tr>\n",
       "      <th>2</th>\n",
       "      <td>ejection_fraction</td>\n",
       "      <td>serum_sodium</td>\n",
       "      <td>0.573333</td>\n",
       "    </tr>\n",
       "    <tr>\n",
       "      <th>3</th>\n",
       "      <td>ejection_fraction</td>\n",
       "      <td>creatinine_phosphokinase</td>\n",
       "      <td>0.613333</td>\n",
       "    </tr>\n",
       "    <tr>\n",
       "      <th>4</th>\n",
       "      <td>platelets</td>\n",
       "      <td>serum_creatinine</td>\n",
       "      <td>0.666667</td>\n",
       "    </tr>\n",
       "    <tr>\n",
       "      <th>5</th>\n",
       "      <td>serum_creatinine</td>\n",
       "      <td>serum_sodium</td>\n",
       "      <td>0.706667</td>\n",
       "    </tr>\n",
       "    <tr>\n",
       "      <th>6</th>\n",
       "      <td>creatinine_phosphokinase</td>\n",
       "      <td>platelets</td>\n",
       "      <td>0.546667</td>\n",
       "    </tr>\n",
       "    <tr>\n",
       "      <th>7</th>\n",
       "      <td>creatinine_phosphokinase</td>\n",
       "      <td>serum_sodium</td>\n",
       "      <td>0.626667</td>\n",
       "    </tr>\n",
       "    <tr>\n",
       "      <th>8</th>\n",
       "      <td>platelets</td>\n",
       "      <td>serum_sodium</td>\n",
       "      <td>0.600000</td>\n",
       "    </tr>\n",
       "    <tr>\n",
       "      <th>9</th>\n",
       "      <td>age</td>\n",
       "      <td>creatinine_phosphokinase</td>\n",
       "      <td>0.573333</td>\n",
       "    </tr>\n",
       "  </tbody>\n",
       "</table>\n",
       "</div>"
      ],
      "text/plain": [
       "                 category_1                category_2  train_accuracy\n",
       "0         ejection_fraction          serum_creatinine        0.626667\n",
       "1         ejection_fraction                 platelets        0.573333\n",
       "2         ejection_fraction              serum_sodium        0.573333\n",
       "3         ejection_fraction  creatinine_phosphokinase        0.613333\n",
       "4                 platelets          serum_creatinine        0.666667\n",
       "5          serum_creatinine              serum_sodium        0.706667\n",
       "6  creatinine_phosphokinase                 platelets        0.546667\n",
       "7  creatinine_phosphokinase              serum_sodium        0.626667\n",
       "8                 platelets              serum_sodium        0.600000\n",
       "9                       age  creatinine_phosphokinase        0.573333"
      ]
     },
     "execution_count": 41,
     "metadata": {},
     "output_type": "execute_result"
    }
   ],
   "source": [
    "new_row = {'category_1' : 'age', 'category_2' : 'creatinine_phosphokinase', 'prediction_accuracy' : heart_disease_prediction_accuracy }\n",
    "compared_categories_dataframe.loc[len(compared_categories_dataframe)] = new_row\n",
    "compared_categories_dataframe"
   ]
  },
  {
   "cell_type": "markdown",
   "id": "3bbafce4-fea3-4ed6-a265-d328bc9bfe58",
   "metadata": {},
   "source": [
    "### Comparison of Age and Ejection Fraction"
   ]
  },
  {
   "cell_type": "code",
   "execution_count": 42,
   "id": "917ad761-686f-4455-a381-4c7aab29b870",
   "metadata": {
    "tags": []
   },
   "outputs": [
    {
     "data": {
      "text/plain": [
       "n_neighbors              14\n",
       "mean_test_score     0.79899\n",
       "sem_test_score     0.011328\n",
       "Name: 13, dtype: object"
      ]
     },
     "execution_count": 42,
     "metadata": {},
     "output_type": "execute_result"
    }
   ],
   "source": [
    "# the pair of variables we are now comparing\n",
    "compared_categories = ['age', 'ejection_fraction']\n",
    "\n",
    "heart_disease_preprocessor = make_column_transformer(\n",
    "     (StandardScaler(), compared_categories),\n",
    "     remainder= 'passthrough',\n",
    "     verbose_feature_names_out=False,\n",
    ")\n",
    "\n",
    "parameter_grid = {\n",
    "    \"kneighborsclassifier__n_neighbors\": range(1, 50, 1),\n",
    "}\n",
    "\n",
    "heart_disease_pipeline = make_pipeline(heart_disease_preprocessor, KNeighborsClassifier())\n",
    "\n",
    "heart_disease_tune_grid = GridSearchCV(\n",
    "    estimator=heart_disease_pipeline,\n",
    "    param_grid=parameter_grid,\n",
    "    cv=5\n",
    ")\n",
    "\n",
    "accuracies_grid = pd.DataFrame(\n",
    "    heart_disease_tune_grid.fit(\n",
    "        heart_disease_train[compared_categories],\n",
    "        heart_disease_train[\"death_event\"]\n",
    "    ).cv_results_\n",
    ")\n",
    "\n",
    "# makes the accuracies_grid easier to read\n",
    "accuracies_grid = (\n",
    "    accuracies_grid[[\n",
    "        \"param_kneighborsclassifier__n_neighbors\",\n",
    "        \"mean_test_score\",\n",
    "        \"std_test_score\"\n",
    "    ]]\n",
    "    .assign(sem_test_score=accuracies_grid[\"std_test_score\"] / 5**(1/2))\n",
    "    .rename(columns={\"param_kneighborsclassifier__n_neighbors\": \"n_neighbors\"})\n",
    "    .drop(columns=[\"std_test_score\"])\n",
    ")\n",
    "\n",
    "# filters out the highest test score and returns the row\n",
    "accuracies_grid.loc[accuracies_grid['mean_test_score'].idxmax()]"
   ]
  },
  {
   "cell_type": "code",
   "execution_count": 43,
   "id": "867eb95a-f95d-4a66-8442-db7df223b87d",
   "metadata": {
    "tags": []
   },
   "outputs": [
    {
     "data": {
      "text/plain": [
       "0.6266666666666667"
      ]
     },
     "execution_count": 43,
     "metadata": {},
     "output_type": "execute_result"
    }
   ],
   "source": [
    "n = 14\n",
    "X = heart_disease_train[compared_categories]\n",
    "y = heart_disease_train[\"death_event\"]\n",
    "\n",
    "heart_disease_fit = make_pipeline(heart_disease_preprocessor, KNeighborsClassifier(n_neighbors = n))\n",
    "heart_disease_fit = heart_disease_fit.fit(X, y)\n",
    "\n",
    "heart_disease_test_predictions = heart_disease_test.assign(\n",
    "    predicted = heart_disease_fit.predict(heart_disease_test[compared_categories])\n",
    ")\n",
    "\n",
    "X_test = heart_disease_test_predictions[compared_categories]\n",
    "y_test = heart_disease_test_predictions[\"death_event\"]\n",
    "heart_disease_prediction_accuracy = heart_disease_fit.score(X_test, y_test)\n",
    "heart_disease_prediction_accuracy"
   ]
  },
  {
   "cell_type": "code",
   "execution_count": 44,
   "id": "ae5c0611-5673-4bc6-a4ec-02c3a8ac9774",
   "metadata": {
    "tags": []
   },
   "outputs": [
    {
     "data": {
      "text/html": [
       "<div>\n",
       "<style scoped>\n",
       "    .dataframe tbody tr th:only-of-type {\n",
       "        vertical-align: middle;\n",
       "    }\n",
       "\n",
       "    .dataframe tbody tr th {\n",
       "        vertical-align: top;\n",
       "    }\n",
       "\n",
       "    .dataframe thead th {\n",
       "        text-align: right;\n",
       "    }\n",
       "</style>\n",
       "<table border=\"1\" class=\"dataframe\">\n",
       "  <thead>\n",
       "    <tr style=\"text-align: right;\">\n",
       "      <th></th>\n",
       "      <th>category_1</th>\n",
       "      <th>category_2</th>\n",
       "      <th>train_accuracy</th>\n",
       "    </tr>\n",
       "  </thead>\n",
       "  <tbody>\n",
       "    <tr>\n",
       "      <th>0</th>\n",
       "      <td>ejection_fraction</td>\n",
       "      <td>serum_creatinine</td>\n",
       "      <td>0.626667</td>\n",
       "    </tr>\n",
       "    <tr>\n",
       "      <th>1</th>\n",
       "      <td>ejection_fraction</td>\n",
       "      <td>platelets</td>\n",
       "      <td>0.573333</td>\n",
       "    </tr>\n",
       "    <tr>\n",
       "      <th>2</th>\n",
       "      <td>ejection_fraction</td>\n",
       "      <td>serum_sodium</td>\n",
       "      <td>0.573333</td>\n",
       "    </tr>\n",
       "    <tr>\n",
       "      <th>3</th>\n",
       "      <td>ejection_fraction</td>\n",
       "      <td>creatinine_phosphokinase</td>\n",
       "      <td>0.613333</td>\n",
       "    </tr>\n",
       "    <tr>\n",
       "      <th>4</th>\n",
       "      <td>platelets</td>\n",
       "      <td>serum_creatinine</td>\n",
       "      <td>0.666667</td>\n",
       "    </tr>\n",
       "    <tr>\n",
       "      <th>5</th>\n",
       "      <td>serum_creatinine</td>\n",
       "      <td>serum_sodium</td>\n",
       "      <td>0.706667</td>\n",
       "    </tr>\n",
       "    <tr>\n",
       "      <th>6</th>\n",
       "      <td>creatinine_phosphokinase</td>\n",
       "      <td>platelets</td>\n",
       "      <td>0.546667</td>\n",
       "    </tr>\n",
       "    <tr>\n",
       "      <th>7</th>\n",
       "      <td>creatinine_phosphokinase</td>\n",
       "      <td>serum_sodium</td>\n",
       "      <td>0.626667</td>\n",
       "    </tr>\n",
       "    <tr>\n",
       "      <th>8</th>\n",
       "      <td>platelets</td>\n",
       "      <td>serum_sodium</td>\n",
       "      <td>0.600000</td>\n",
       "    </tr>\n",
       "    <tr>\n",
       "      <th>9</th>\n",
       "      <td>age</td>\n",
       "      <td>creatinine_phosphokinase</td>\n",
       "      <td>0.573333</td>\n",
       "    </tr>\n",
       "    <tr>\n",
       "      <th>10</th>\n",
       "      <td>age</td>\n",
       "      <td>ejection_fraction</td>\n",
       "      <td>0.626667</td>\n",
       "    </tr>\n",
       "  </tbody>\n",
       "</table>\n",
       "</div>"
      ],
      "text/plain": [
       "                  category_1                category_2  train_accuracy\n",
       "0          ejection_fraction          serum_creatinine        0.626667\n",
       "1          ejection_fraction                 platelets        0.573333\n",
       "2          ejection_fraction              serum_sodium        0.573333\n",
       "3          ejection_fraction  creatinine_phosphokinase        0.613333\n",
       "4                  platelets          serum_creatinine        0.666667\n",
       "5           serum_creatinine              serum_sodium        0.706667\n",
       "6   creatinine_phosphokinase                 platelets        0.546667\n",
       "7   creatinine_phosphokinase              serum_sodium        0.626667\n",
       "8                  platelets              serum_sodium        0.600000\n",
       "9                        age  creatinine_phosphokinase        0.573333\n",
       "10                       age         ejection_fraction        0.626667"
      ]
     },
     "execution_count": 44,
     "metadata": {},
     "output_type": "execute_result"
    }
   ],
   "source": [
    "new_row = {'category_1' : 'age', 'category_2' : 'ejection_fraction', 'prediction_accuracy' : heart_disease_prediction_accuracy }\n",
    "compared_categories_dataframe.loc[len(compared_categories_dataframe)] = new_row\n",
    "compared_categories_dataframe"
   ]
  },
  {
   "cell_type": "markdown",
   "id": "b259db47-b6a7-43cc-8142-e5893220e32c",
   "metadata": {},
   "source": [
    "### Comparison of Age and Platelets"
   ]
  },
  {
   "cell_type": "code",
   "execution_count": 45,
   "id": "2a8df0a5-a84e-4fa3-a60a-25574a3534f8",
   "metadata": {
    "tags": []
   },
   "outputs": [
    {
     "data": {
      "text/plain": [
       "n_neighbors              40\n",
       "mean_test_score    0.709798\n",
       "sem_test_score     0.001175\n",
       "Name: 39, dtype: object"
      ]
     },
     "execution_count": 45,
     "metadata": {},
     "output_type": "execute_result"
    }
   ],
   "source": [
    "# the pair of variables we are now comparing\n",
    "compared_categories = ['age', 'platelets']\n",
    "\n",
    "heart_disease_preprocessor = make_column_transformer(\n",
    "     (StandardScaler(), compared_categories),\n",
    "     remainder= 'passthrough',\n",
    "     verbose_feature_names_out=False,\n",
    ")\n",
    "\n",
    "parameter_grid = {\n",
    "    \"kneighborsclassifier__n_neighbors\": range(1, 50, 1),\n",
    "}\n",
    "\n",
    "heart_disease_pipeline = make_pipeline(heart_disease_preprocessor, KNeighborsClassifier())\n",
    "\n",
    "heart_disease_tune_grid = GridSearchCV(\n",
    "    estimator=heart_disease_pipeline,\n",
    "    param_grid=parameter_grid,\n",
    "    cv=5\n",
    ")\n",
    "\n",
    "accuracies_grid = pd.DataFrame(\n",
    "    heart_disease_tune_grid.fit(\n",
    "        heart_disease_train[compared_categories],\n",
    "        heart_disease_train[\"death_event\"]\n",
    "    ).cv_results_\n",
    ")\n",
    "\n",
    "# makes the accuracies_grid easier to read\n",
    "accuracies_grid = (\n",
    "    accuracies_grid[[\n",
    "        \"param_kneighborsclassifier__n_neighbors\",\n",
    "        \"mean_test_score\",\n",
    "        \"std_test_score\"\n",
    "    ]]\n",
    "    .assign(sem_test_score=accuracies_grid[\"std_test_score\"] / 5**(1/2))\n",
    "    .rename(columns={\"param_kneighborsclassifier__n_neighbors\": \"n_neighbors\"})\n",
    "    .drop(columns=[\"std_test_score\"])\n",
    ")\n",
    "\n",
    "# filters out the highest test score and returns the row\n",
    "accuracies_grid.loc[accuracies_grid['mean_test_score'].idxmax()]"
   ]
  },
  {
   "cell_type": "code",
   "execution_count": 46,
   "id": "878eefe8-37bf-4701-8ba8-cdba2c7da896",
   "metadata": {
    "tags": []
   },
   "outputs": [
    {
     "data": {
      "text/plain": [
       "0.6133333333333333"
      ]
     },
     "execution_count": 46,
     "metadata": {},
     "output_type": "execute_result"
    }
   ],
   "source": [
    "n = 40\n",
    "X = heart_disease_train[compared_categories]\n",
    "y = heart_disease_train[\"death_event\"]\n",
    "\n",
    "heart_disease_fit = make_pipeline(heart_disease_preprocessor, KNeighborsClassifier(n_neighbors = n))\n",
    "heart_disease_fit = heart_disease_fit.fit(X, y)\n",
    "\n",
    "heart_disease_test_predictions = heart_disease_test.assign(\n",
    "    predicted = heart_disease_fit.predict(heart_disease_test[compared_categories])\n",
    ")\n",
    "\n",
    "X_test = heart_disease_test_predictions[compared_categories]\n",
    "y_test = heart_disease_test_predictions[\"death_event\"]\n",
    "heart_disease_prediction_accuracy = heart_disease_fit.score(X_test, y_test)\n",
    "heart_disease_prediction_accuracy"
   ]
  },
  {
   "cell_type": "code",
   "execution_count": 47,
   "id": "180e0e7d-4c5f-4440-bff4-a452148541e5",
   "metadata": {
    "tags": []
   },
   "outputs": [
    {
     "data": {
      "text/html": [
       "<div>\n",
       "<style scoped>\n",
       "    .dataframe tbody tr th:only-of-type {\n",
       "        vertical-align: middle;\n",
       "    }\n",
       "\n",
       "    .dataframe tbody tr th {\n",
       "        vertical-align: top;\n",
       "    }\n",
       "\n",
       "    .dataframe thead th {\n",
       "        text-align: right;\n",
       "    }\n",
       "</style>\n",
       "<table border=\"1\" class=\"dataframe\">\n",
       "  <thead>\n",
       "    <tr style=\"text-align: right;\">\n",
       "      <th></th>\n",
       "      <th>category_1</th>\n",
       "      <th>category_2</th>\n",
       "      <th>train_accuracy</th>\n",
       "    </tr>\n",
       "  </thead>\n",
       "  <tbody>\n",
       "    <tr>\n",
       "      <th>0</th>\n",
       "      <td>ejection_fraction</td>\n",
       "      <td>serum_creatinine</td>\n",
       "      <td>0.626667</td>\n",
       "    </tr>\n",
       "    <tr>\n",
       "      <th>1</th>\n",
       "      <td>ejection_fraction</td>\n",
       "      <td>platelets</td>\n",
       "      <td>0.573333</td>\n",
       "    </tr>\n",
       "    <tr>\n",
       "      <th>2</th>\n",
       "      <td>ejection_fraction</td>\n",
       "      <td>serum_sodium</td>\n",
       "      <td>0.573333</td>\n",
       "    </tr>\n",
       "    <tr>\n",
       "      <th>3</th>\n",
       "      <td>ejection_fraction</td>\n",
       "      <td>creatinine_phosphokinase</td>\n",
       "      <td>0.613333</td>\n",
       "    </tr>\n",
       "    <tr>\n",
       "      <th>4</th>\n",
       "      <td>platelets</td>\n",
       "      <td>serum_creatinine</td>\n",
       "      <td>0.666667</td>\n",
       "    </tr>\n",
       "    <tr>\n",
       "      <th>5</th>\n",
       "      <td>serum_creatinine</td>\n",
       "      <td>serum_sodium</td>\n",
       "      <td>0.706667</td>\n",
       "    </tr>\n",
       "    <tr>\n",
       "      <th>6</th>\n",
       "      <td>creatinine_phosphokinase</td>\n",
       "      <td>platelets</td>\n",
       "      <td>0.546667</td>\n",
       "    </tr>\n",
       "    <tr>\n",
       "      <th>7</th>\n",
       "      <td>creatinine_phosphokinase</td>\n",
       "      <td>serum_sodium</td>\n",
       "      <td>0.626667</td>\n",
       "    </tr>\n",
       "    <tr>\n",
       "      <th>8</th>\n",
       "      <td>platelets</td>\n",
       "      <td>serum_sodium</td>\n",
       "      <td>0.600000</td>\n",
       "    </tr>\n",
       "    <tr>\n",
       "      <th>9</th>\n",
       "      <td>age</td>\n",
       "      <td>creatinine_phosphokinase</td>\n",
       "      <td>0.573333</td>\n",
       "    </tr>\n",
       "    <tr>\n",
       "      <th>10</th>\n",
       "      <td>age</td>\n",
       "      <td>ejection_fraction</td>\n",
       "      <td>0.626667</td>\n",
       "    </tr>\n",
       "    <tr>\n",
       "      <th>11</th>\n",
       "      <td>age</td>\n",
       "      <td>platelets</td>\n",
       "      <td>0.613333</td>\n",
       "    </tr>\n",
       "  </tbody>\n",
       "</table>\n",
       "</div>"
      ],
      "text/plain": [
       "                  category_1                category_2  train_accuracy\n",
       "0          ejection_fraction          serum_creatinine        0.626667\n",
       "1          ejection_fraction                 platelets        0.573333\n",
       "2          ejection_fraction              serum_sodium        0.573333\n",
       "3          ejection_fraction  creatinine_phosphokinase        0.613333\n",
       "4                  platelets          serum_creatinine        0.666667\n",
       "5           serum_creatinine              serum_sodium        0.706667\n",
       "6   creatinine_phosphokinase                 platelets        0.546667\n",
       "7   creatinine_phosphokinase              serum_sodium        0.626667\n",
       "8                  platelets              serum_sodium        0.600000\n",
       "9                        age  creatinine_phosphokinase        0.573333\n",
       "10                       age         ejection_fraction        0.626667\n",
       "11                       age                 platelets        0.613333"
      ]
     },
     "execution_count": 47,
     "metadata": {},
     "output_type": "execute_result"
    }
   ],
   "source": [
    "new_row = {'category_1' : 'age', 'category_2' : 'platelets', 'prediction_accuracy' : heart_disease_prediction_accuracy }\n",
    "compared_categories_dataframe.loc[len(compared_categories_dataframe)] = new_row\n",
    "compared_categories_dataframe"
   ]
  },
  {
   "cell_type": "markdown",
   "id": "06682a94-749a-40db-a4ff-0791885b83e7",
   "metadata": {},
   "source": [
    "### Comparison of Age and Serum Creatinine"
   ]
  },
  {
   "cell_type": "code",
   "execution_count": 48,
   "id": "0b5aeab9-b1f6-46d2-bc4f-25850cfc50eb",
   "metadata": {
    "tags": []
   },
   "outputs": [
    {
     "data": {
      "text/plain": [
       "n_neighbors              33\n",
       "mean_test_score    0.727576\n",
       "sem_test_score     0.010273\n",
       "Name: 32, dtype: object"
      ]
     },
     "execution_count": 48,
     "metadata": {},
     "output_type": "execute_result"
    }
   ],
   "source": [
    "# the pair of variables we are now comparing\n",
    "compared_categories = ['age', 'serum_creatinine']\n",
    "\n",
    "heart_disease_preprocessor = make_column_transformer(\n",
    "     (StandardScaler(), compared_categories),\n",
    "     remainder= 'passthrough',\n",
    "     verbose_feature_names_out=False,\n",
    ")\n",
    "\n",
    "parameter_grid = {\n",
    "    \"kneighborsclassifier__n_neighbors\": range(1, 50, 1),\n",
    "}\n",
    "\n",
    "heart_disease_pipeline = make_pipeline(heart_disease_preprocessor, KNeighborsClassifier())\n",
    "\n",
    "heart_disease_tune_grid = GridSearchCV(\n",
    "    estimator=heart_disease_pipeline,\n",
    "    param_grid=parameter_grid,\n",
    "    cv=5\n",
    ")\n",
    "\n",
    "accuracies_grid = pd.DataFrame(\n",
    "    heart_disease_tune_grid.fit(\n",
    "        heart_disease_train[compared_categories],\n",
    "        heart_disease_train[\"death_event\"]\n",
    "    ).cv_results_\n",
    ")\n",
    "\n",
    "# makes the accuracies_grid easier to read\n",
    "accuracies_grid = (\n",
    "    accuracies_grid[[\n",
    "        \"param_kneighborsclassifier__n_neighbors\",\n",
    "        \"mean_test_score\",\n",
    "        \"std_test_score\"\n",
    "    ]]\n",
    "    .assign(sem_test_score=accuracies_grid[\"std_test_score\"] / 5**(1/2))\n",
    "    .rename(columns={\"param_kneighborsclassifier__n_neighbors\": \"n_neighbors\"})\n",
    "    .drop(columns=[\"std_test_score\"])\n",
    ")\n",
    "\n",
    "# filters out the highest test score and returns the row\n",
    "accuracies_grid.loc[accuracies_grid['mean_test_score'].idxmax()]"
   ]
  },
  {
   "cell_type": "code",
   "execution_count": 49,
   "id": "4fedb91f-a0b8-431e-9548-e611b1da3d14",
   "metadata": {
    "tags": []
   },
   "outputs": [
    {
     "data": {
      "text/plain": [
       "0.6266666666666667"
      ]
     },
     "execution_count": 49,
     "metadata": {},
     "output_type": "execute_result"
    }
   ],
   "source": [
    "n = 33\n",
    "X = heart_disease_train[compared_categories]\n",
    "y = heart_disease_train[\"death_event\"]\n",
    "\n",
    "heart_disease_fit = make_pipeline(heart_disease_preprocessor, KNeighborsClassifier(n_neighbors = n))\n",
    "heart_disease_fit = heart_disease_fit.fit(X, y)\n",
    "\n",
    "heart_disease_test_predictions = heart_disease_test.assign(\n",
    "    predicted = heart_disease_fit.predict(heart_disease_test[compared_categories])\n",
    ")\n",
    "\n",
    "X_test = heart_disease_test_predictions[compared_categories]\n",
    "y_test = heart_disease_test_predictions[\"death_event\"]\n",
    "heart_disease_prediction_accuracy = heart_disease_fit.score(X_test, y_test)\n",
    "heart_disease_prediction_accuracy"
   ]
  },
  {
   "cell_type": "code",
   "execution_count": 50,
   "id": "1ef70c46-8fd1-433b-a8ea-0f054bda817a",
   "metadata": {
    "tags": []
   },
   "outputs": [
    {
     "data": {
      "text/html": [
       "<div>\n",
       "<style scoped>\n",
       "    .dataframe tbody tr th:only-of-type {\n",
       "        vertical-align: middle;\n",
       "    }\n",
       "\n",
       "    .dataframe tbody tr th {\n",
       "        vertical-align: top;\n",
       "    }\n",
       "\n",
       "    .dataframe thead th {\n",
       "        text-align: right;\n",
       "    }\n",
       "</style>\n",
       "<table border=\"1\" class=\"dataframe\">\n",
       "  <thead>\n",
       "    <tr style=\"text-align: right;\">\n",
       "      <th></th>\n",
       "      <th>category_1</th>\n",
       "      <th>category_2</th>\n",
       "      <th>train_accuracy</th>\n",
       "    </tr>\n",
       "  </thead>\n",
       "  <tbody>\n",
       "    <tr>\n",
       "      <th>0</th>\n",
       "      <td>ejection_fraction</td>\n",
       "      <td>serum_creatinine</td>\n",
       "      <td>0.626667</td>\n",
       "    </tr>\n",
       "    <tr>\n",
       "      <th>1</th>\n",
       "      <td>ejection_fraction</td>\n",
       "      <td>platelets</td>\n",
       "      <td>0.573333</td>\n",
       "    </tr>\n",
       "    <tr>\n",
       "      <th>2</th>\n",
       "      <td>ejection_fraction</td>\n",
       "      <td>serum_sodium</td>\n",
       "      <td>0.573333</td>\n",
       "    </tr>\n",
       "    <tr>\n",
       "      <th>3</th>\n",
       "      <td>ejection_fraction</td>\n",
       "      <td>creatinine_phosphokinase</td>\n",
       "      <td>0.613333</td>\n",
       "    </tr>\n",
       "    <tr>\n",
       "      <th>4</th>\n",
       "      <td>platelets</td>\n",
       "      <td>serum_creatinine</td>\n",
       "      <td>0.666667</td>\n",
       "    </tr>\n",
       "    <tr>\n",
       "      <th>5</th>\n",
       "      <td>serum_creatinine</td>\n",
       "      <td>serum_sodium</td>\n",
       "      <td>0.706667</td>\n",
       "    </tr>\n",
       "    <tr>\n",
       "      <th>6</th>\n",
       "      <td>creatinine_phosphokinase</td>\n",
       "      <td>platelets</td>\n",
       "      <td>0.546667</td>\n",
       "    </tr>\n",
       "    <tr>\n",
       "      <th>7</th>\n",
       "      <td>creatinine_phosphokinase</td>\n",
       "      <td>serum_sodium</td>\n",
       "      <td>0.626667</td>\n",
       "    </tr>\n",
       "    <tr>\n",
       "      <th>8</th>\n",
       "      <td>platelets</td>\n",
       "      <td>serum_sodium</td>\n",
       "      <td>0.600000</td>\n",
       "    </tr>\n",
       "    <tr>\n",
       "      <th>9</th>\n",
       "      <td>age</td>\n",
       "      <td>creatinine_phosphokinase</td>\n",
       "      <td>0.573333</td>\n",
       "    </tr>\n",
       "    <tr>\n",
       "      <th>10</th>\n",
       "      <td>age</td>\n",
       "      <td>ejection_fraction</td>\n",
       "      <td>0.626667</td>\n",
       "    </tr>\n",
       "    <tr>\n",
       "      <th>11</th>\n",
       "      <td>age</td>\n",
       "      <td>platelets</td>\n",
       "      <td>0.613333</td>\n",
       "    </tr>\n",
       "    <tr>\n",
       "      <th>12</th>\n",
       "      <td>age</td>\n",
       "      <td>serum_creatinine</td>\n",
       "      <td>0.626667</td>\n",
       "    </tr>\n",
       "  </tbody>\n",
       "</table>\n",
       "</div>"
      ],
      "text/plain": [
       "                  category_1                category_2  train_accuracy\n",
       "0          ejection_fraction          serum_creatinine        0.626667\n",
       "1          ejection_fraction                 platelets        0.573333\n",
       "2          ejection_fraction              serum_sodium        0.573333\n",
       "3          ejection_fraction  creatinine_phosphokinase        0.613333\n",
       "4                  platelets          serum_creatinine        0.666667\n",
       "5           serum_creatinine              serum_sodium        0.706667\n",
       "6   creatinine_phosphokinase                 platelets        0.546667\n",
       "7   creatinine_phosphokinase              serum_sodium        0.626667\n",
       "8                  platelets              serum_sodium        0.600000\n",
       "9                        age  creatinine_phosphokinase        0.573333\n",
       "10                       age         ejection_fraction        0.626667\n",
       "11                       age                 platelets        0.613333\n",
       "12                       age          serum_creatinine        0.626667"
      ]
     },
     "execution_count": 50,
     "metadata": {},
     "output_type": "execute_result"
    }
   ],
   "source": [
    "new_row = {'category_1' : 'age', 'category_2' : 'serum_creatinine', 'prediction_accuracy' : heart_disease_prediction_accuracy }\n",
    "compared_categories_dataframe.loc[len(compared_categories_dataframe)] = new_row\n",
    "compared_categories_dataframe"
   ]
  },
  {
   "cell_type": "markdown",
   "id": "afa87786-2b4c-420a-a93f-4be1c4975592",
   "metadata": {},
   "source": [
    "### Comparison of Age and Serum Serum Sodium"
   ]
  },
  {
   "cell_type": "code",
   "execution_count": 51,
   "id": "516880e0-1fcb-4f4a-9f18-9dd25e46cbd3",
   "metadata": {
    "tags": []
   },
   "outputs": [
    {
     "data": {
      "text/plain": [
       "n_neighbors               8\n",
       "mean_test_score    0.727273\n",
       "sem_test_score     0.021623\n",
       "Name: 7, dtype: object"
      ]
     },
     "execution_count": 51,
     "metadata": {},
     "output_type": "execute_result"
    }
   ],
   "source": [
    "# the pair of variables we are now comparing\n",
    "compared_categories = ['age', 'serum_sodium']\n",
    "\n",
    "heart_disease_preprocessor = make_column_transformer(\n",
    "     (StandardScaler(), compared_categories),\n",
    "     remainder= 'passthrough',\n",
    "     verbose_feature_names_out=False,\n",
    ")\n",
    "\n",
    "parameter_grid = {\n",
    "    \"kneighborsclassifier__n_neighbors\": range(1, 50, 1),\n",
    "}\n",
    "\n",
    "heart_disease_pipeline = make_pipeline(heart_disease_preprocessor, KNeighborsClassifier())\n",
    "\n",
    "heart_disease_tune_grid = GridSearchCV(\n",
    "    estimator=heart_disease_pipeline,\n",
    "    param_grid=parameter_grid,\n",
    "    cv=5\n",
    ")\n",
    "\n",
    "accuracies_grid = pd.DataFrame(\n",
    "    heart_disease_tune_grid.fit(\n",
    "        heart_disease_train[compared_categories],\n",
    "        heart_disease_train[\"death_event\"]\n",
    "    ).cv_results_\n",
    ")\n",
    "\n",
    "# makes the accuracies_grid easier to read\n",
    "accuracies_grid = (\n",
    "    accuracies_grid[[\n",
    "        \"param_kneighborsclassifier__n_neighbors\",\n",
    "        \"mean_test_score\",\n",
    "        \"std_test_score\"\n",
    "    ]]\n",
    "    .assign(sem_test_score=accuracies_grid[\"std_test_score\"] / 5**(1/2))\n",
    "    .rename(columns={\"param_kneighborsclassifier__n_neighbors\": \"n_neighbors\"})\n",
    "    .drop(columns=[\"std_test_score\"])\n",
    ")\n",
    "\n",
    "# filters out the highest test score and returns the row\n",
    "accuracies_grid.loc[accuracies_grid['mean_test_score'].idxmax()]"
   ]
  },
  {
   "cell_type": "code",
   "execution_count": 52,
   "id": "290c6b93-819b-4664-8be5-ac923a59e44d",
   "metadata": {
    "tags": []
   },
   "outputs": [
    {
     "data": {
      "text/plain": [
       "0.64"
      ]
     },
     "execution_count": 52,
     "metadata": {},
     "output_type": "execute_result"
    }
   ],
   "source": [
    "n = 8\n",
    "X = heart_disease_train[compared_categories]\n",
    "y = heart_disease_train[\"death_event\"]\n",
    "\n",
    "heart_disease_fit = make_pipeline(heart_disease_preprocessor, KNeighborsClassifier(n_neighbors = n))\n",
    "heart_disease_fit = heart_disease_fit.fit(X, y)\n",
    "\n",
    "heart_disease_test_predictions = heart_disease_test.assign(\n",
    "    predicted = heart_disease_fit.predict(heart_disease_test[compared_categories])\n",
    ")\n",
    "\n",
    "X_test = heart_disease_test_predictions[compared_categories]\n",
    "y_test = heart_disease_test_predictions[\"death_event\"]\n",
    "heart_disease_prediction_accuracy = heart_disease_fit.score(X_test, y_test)\n",
    "heart_disease_prediction_accuracy"
   ]
  },
  {
   "cell_type": "code",
   "execution_count": 53,
   "id": "06611f3e-8000-4e93-985d-c2ed3911a79d",
   "metadata": {
    "tags": []
   },
   "outputs": [
    {
     "data": {
      "text/html": [
       "<div>\n",
       "<style scoped>\n",
       "    .dataframe tbody tr th:only-of-type {\n",
       "        vertical-align: middle;\n",
       "    }\n",
       "\n",
       "    .dataframe tbody tr th {\n",
       "        vertical-align: top;\n",
       "    }\n",
       "\n",
       "    .dataframe thead th {\n",
       "        text-align: right;\n",
       "    }\n",
       "</style>\n",
       "<table border=\"1\" class=\"dataframe\">\n",
       "  <thead>\n",
       "    <tr style=\"text-align: right;\">\n",
       "      <th></th>\n",
       "      <th>category_1</th>\n",
       "      <th>category_2</th>\n",
       "      <th>train_accuracy</th>\n",
       "    </tr>\n",
       "  </thead>\n",
       "  <tbody>\n",
       "    <tr>\n",
       "      <th>0</th>\n",
       "      <td>ejection_fraction</td>\n",
       "      <td>serum_creatinine</td>\n",
       "      <td>0.626667</td>\n",
       "    </tr>\n",
       "    <tr>\n",
       "      <th>1</th>\n",
       "      <td>ejection_fraction</td>\n",
       "      <td>platelets</td>\n",
       "      <td>0.573333</td>\n",
       "    </tr>\n",
       "    <tr>\n",
       "      <th>2</th>\n",
       "      <td>ejection_fraction</td>\n",
       "      <td>serum_sodium</td>\n",
       "      <td>0.573333</td>\n",
       "    </tr>\n",
       "    <tr>\n",
       "      <th>3</th>\n",
       "      <td>ejection_fraction</td>\n",
       "      <td>creatinine_phosphokinase</td>\n",
       "      <td>0.613333</td>\n",
       "    </tr>\n",
       "    <tr>\n",
       "      <th>4</th>\n",
       "      <td>platelets</td>\n",
       "      <td>serum_creatinine</td>\n",
       "      <td>0.666667</td>\n",
       "    </tr>\n",
       "    <tr>\n",
       "      <th>5</th>\n",
       "      <td>serum_creatinine</td>\n",
       "      <td>serum_sodium</td>\n",
       "      <td>0.706667</td>\n",
       "    </tr>\n",
       "    <tr>\n",
       "      <th>6</th>\n",
       "      <td>creatinine_phosphokinase</td>\n",
       "      <td>platelets</td>\n",
       "      <td>0.546667</td>\n",
       "    </tr>\n",
       "    <tr>\n",
       "      <th>7</th>\n",
       "      <td>creatinine_phosphokinase</td>\n",
       "      <td>serum_sodium</td>\n",
       "      <td>0.626667</td>\n",
       "    </tr>\n",
       "    <tr>\n",
       "      <th>8</th>\n",
       "      <td>platelets</td>\n",
       "      <td>serum_sodium</td>\n",
       "      <td>0.600000</td>\n",
       "    </tr>\n",
       "    <tr>\n",
       "      <th>9</th>\n",
       "      <td>age</td>\n",
       "      <td>creatinine_phosphokinase</td>\n",
       "      <td>0.573333</td>\n",
       "    </tr>\n",
       "    <tr>\n",
       "      <th>10</th>\n",
       "      <td>age</td>\n",
       "      <td>ejection_fraction</td>\n",
       "      <td>0.626667</td>\n",
       "    </tr>\n",
       "    <tr>\n",
       "      <th>11</th>\n",
       "      <td>age</td>\n",
       "      <td>platelets</td>\n",
       "      <td>0.613333</td>\n",
       "    </tr>\n",
       "    <tr>\n",
       "      <th>12</th>\n",
       "      <td>age</td>\n",
       "      <td>serum_creatinine</td>\n",
       "      <td>0.626667</td>\n",
       "    </tr>\n",
       "    <tr>\n",
       "      <th>13</th>\n",
       "      <td>age</td>\n",
       "      <td>serum_sodium</td>\n",
       "      <td>0.640000</td>\n",
       "    </tr>\n",
       "  </tbody>\n",
       "</table>\n",
       "</div>"
      ],
      "text/plain": [
       "                  category_1                category_2  train_accuracy\n",
       "0          ejection_fraction          serum_creatinine        0.626667\n",
       "1          ejection_fraction                 platelets        0.573333\n",
       "2          ejection_fraction              serum_sodium        0.573333\n",
       "3          ejection_fraction  creatinine_phosphokinase        0.613333\n",
       "4                  platelets          serum_creatinine        0.666667\n",
       "5           serum_creatinine              serum_sodium        0.706667\n",
       "6   creatinine_phosphokinase                 platelets        0.546667\n",
       "7   creatinine_phosphokinase              serum_sodium        0.626667\n",
       "8                  platelets              serum_sodium        0.600000\n",
       "9                        age  creatinine_phosphokinase        0.573333\n",
       "10                       age         ejection_fraction        0.626667\n",
       "11                       age                 platelets        0.613333\n",
       "12                       age          serum_creatinine        0.626667\n",
       "13                       age              serum_sodium        0.640000"
      ]
     },
     "execution_count": 53,
     "metadata": {},
     "output_type": "execute_result"
    }
   ],
   "source": [
    "new_row = {'category_1' : 'age', 'category_2' : 'serum_sodium', 'prediction_accuracy' : heart_disease_prediction_accuracy }\n",
    "compared_categories_dataframe.loc[len(compared_categories_dataframe)] = new_row\n",
    "compared_categories_dataframe"
   ]
  },
  {
   "cell_type": "markdown",
   "id": "7396446e",
   "metadata": {},
   "source": [
    "Having went through all the possible pairs, we see from the table that the category of Serum Creatinine and Serum Sodium produces the highest accuracy score out of all the other possible pairs. Thus, **Serum Creatinine and Serum Sodium** is the pair we will use to further analyze how it affect the death event."
   ]
  },
  {
   "cell_type": "markdown",
   "id": "a9abc528",
   "metadata": {},
   "source": [
    "### Visuailzation of planned analysis"
   ]
  },
  {
   "cell_type": "markdown",
   "id": "b668b990",
   "metadata": {},
   "source": [
    "Below is a chart that visualizes the relationship between Ejection Fraction and Serum Creatinine and how they both relate to the death event."
   ]
  },
  {
   "cell_type": "code",
   "execution_count": null,
   "id": "62def64e",
   "metadata": {},
   "outputs": [],
   "source": [
    "plot = alt.Chart(data).mark_point(opacity = 0.5).encode(\n",
    "    x = alt.X('serum_creatinine', title = \"Ejection Fraction in percentage (%)\"),\n",
    "    y = alt.Y('serum_sodium', title = \"Serum Creatinine in mg/dL\").scale(zero=False),\n",
    "     color = alt.Color('death_event', title = 'Death event')\n",
    ")\n",
    "plot"
   ]
  },
  {
   "cell_type": "markdown",
   "id": "f9866011",
   "metadata": {},
   "source": [
    "As we can tell from the plot, we can easily see why these two variables allow for such high accuracy when predicting the death event. The points in which the death event is negative are bunched together, making the work of the KNeighborsClassifier algorithm easier."
   ]
  },
  {
   "cell_type": "markdown",
   "id": "a3ec0674",
   "metadata": {},
   "source": [
    "Here, we also compute the accuracy, precision, and recall of the classifier, using the optimal <i>K</i> value and training the model again to work with Serum Creatinine and Serum Sodium."
   ]
  },
  {
   "cell_type": "code",
   "execution_count": null,
   "id": "ba4462e1",
   "metadata": {},
   "outputs": [],
   "source": [
    "from sklearn.metrics import ConfusionMatrixDisplay\n",
    "compared_categories = ['serum_creatinine', 'serum_sodium']\n",
    "\n",
    "heart_disease_preprocessor = make_column_transformer(\n",
    "     (StandardScaler(), compared_categories),\n",
    "     remainder= 'passthrough',\n",
    "     verbose_feature_names_out=False,\n",
    ")\n",
    "\n",
    "heart_disease_fit = make_pipeline(heart_disease_preprocessor, KNeighborsClassifier(n_neighbors = 7))\n",
    "heart_disease_fit = heart_disease_fit.fit(\n",
    "    heart_disease_train[compared_categories], \n",
    "    heart_disease_train[\"death_event\"]\n",
    ")\n",
    "\n",
    "confusion_matrix = ConfusionMatrixDisplay.from_estimator(\n",
    "    heart_disease_fit, \n",
    "    heart_disease_test_predictions[compared_categories], \n",
    "    heart_disease_test_predictions[\"death_event\"]\n",
    ")"
   ]
  },
  {
   "cell_type": "code",
   "execution_count": null,
   "id": "31c611c7",
   "metadata": {},
   "outputs": [],
   "source": [
    "accuracy = (38 + 15)/(38 + 6 + 16 + 15)\n",
    "precision = (15)/(16 + 15)\n",
    "recall = (15)/(15 + 6)\n",
    "print(\"Accuracy:\", accuracy, \"Precision:\", precision, \"Recall:\", recall)"
   ]
  },
  {
   "cell_type": "markdown",
   "id": "8420607a",
   "metadata": {},
   "source": [
    "From the confusion matrix, we can see that the accuracy is 70%, the precision is 48%, and the recall is 71%. This means that if our classifier predicts a death event, we can be 71% sure that this death event is going to be a death event."
   ]
  },
  {
   "cell_type": "markdown",
   "id": "1a5e5eec-0a09-4bf8-af08-3d1960c2f37a",
   "metadata": {
    "tags": []
   },
   "source": [
    "### Discussion"
   ]
  },
  {
   "cell_type": "markdown",
   "id": "0f133135-f0a7-409a-b9d2-10bf3a936ae3",
   "metadata": {},
   "source": [
    "\n",
    "In our group project, we focused on analyzing a dataset of 299 heart failure patients. Our primary objective was to assess which pair out of creatinine phosphokinase, ejection fraction, platelets, serum creatinine, and serum sodium greatly influence the mortality rate of a patient. To achieve this, we employed the K-nearest neighbors algorithm for each pair and scored the accuracy. Out of the 10 possible pairs, we found that serum sodium and serum creatinine predict the death event better than the others. Our findings confirmed the importance of these biomarkers in predicting death events. The model's performance was evaluated using a confusion matrix, which indicated an accuracy of 70%, precision of 48%, and a recall rate of 71%. This suggests that when our model predicts a death event, there is a 71% chance of it actually occurring, underscoring its potential value in clinical environments. This aligns with what we had originally expected to find, that is the known ability of machine learning to leverage electronic medical records for pattern recognition and future patient outcome predictions, thereby aiding doctors in identifying crucial health aspects (Davide Chicco & Giuseppe Jurman, 2020).\n",
    "\n",
    "\n",
    "The implications of these results are significant for clinical practice. As examined, serum creatinine and serum sodium are reliable indicators of survival rate of patients in heart failure cases. This means that clinicians can prioritize these measurements in their initial assessments towards the patients. This approach could streamline the diagnostic process, reduce costs by minimizing unnecessary tests, and enhance patient care. Moreover, identifying patients at high risk of mortality based on these parameters allows healthcare professionals to allocate resources and treatments more effectively. An important question arising from our study asks how does the variability of serum creatinine and serum sodium levels over time impact the predictive accuracy of mortality in heart failure patients."
   ]
  },
  {
   "cell_type": "markdown",
   "id": "0b98b9b3",
   "metadata": {},
   "source": [
    "## Reference"
   ]
  },
  {
   "cell_type": "markdown",
   "id": "39c63d10-6e0e-4b43-8f41-bafbe39448a1",
   "metadata": {},
   "source": [
    "Chicco, D., & Jurman, G. (2020). Machine learning can predict survival of patients with heart \n",
    "failure from serum creatinine and ejection fraction alone. &nbsp;&nbsp;&nbsp;&nbsp;*BMC Medical Informatics and \n",
    "Decision Making, 20.*\n",
    "\n",
    "Sud, M., Tangri, N., Pintilie, M., Levey, A. S., & Naimark, D. M. (2015). ESRD and death after heart failure in CKD. *Journal of the American Society of &nbsp;&nbsp;&nbsp;&nbsp;Nephrology: JASN, 26*(3), 715–722. https://doi.org/10.1681/ASN.2014030253\n",
    "\n",
    "Lassnigg, A., Schmidlin, D., Mouhieddine, M., Bachmann, L. M., Druml, W., Bauer, P., & Hiesmayr, M. (2004). Minimal changes of serum &nbsp;&nbsp;&nbsp;&nbsp;creatinine predict prognosis in patients after cardiothoracic surgery: A prospective cohort study. *Journal of the American Society of Nephrology, &nbsp;&nbsp;&nbsp;&nbsp;15*(6), 1597-1605. https://doi.org/10.1097/01.ASN.0000130340.93930.DD\n",
    "\n",
    "Bozkurt, B. (2021). Universal definition and classification of heart failure: a report of the Heart Failure Society of America, Heart Failure Association of &nbsp;&nbsp;&nbsp;&nbsp;the European Society of Cardiology, Japanese Heart Failure Society and Writing Committee of the Universal Definition of Heart Failure Endorsed by &nbsp;&nbsp;&nbsp;&nbsp;the Canadian Heart Failure Society, Heart Failure Association of India, Cardiac Society of Australia and New Zealand, and Chinese Heart Failure &nbsp;&nbsp;&nbsp;&nbsp;Association. *European Journal of Heart Failure, 23*(3), 352-380. 10.1002/ejhf.2115"
   ]
  },
  {
   "cell_type": "code",
   "execution_count": null,
   "id": "6f3c7b35-05ca-4d2f-aa44-3b066d84162d",
   "metadata": {},
   "outputs": [],
   "source": []
  }
 ],
 "metadata": {
  "kernelspec": {
   "display_name": "Python 3 (ipykernel)",
   "language": "python",
   "name": "python3"
  },
  "language_info": {
   "codemirror_mode": {
    "name": "ipython",
    "version": 3
   },
   "file_extension": ".py",
   "mimetype": "text/x-python",
   "name": "python",
   "nbconvert_exporter": "python",
   "pygments_lexer": "ipython3",
   "version": "3.10.8"
  }
 },
 "nbformat": 4,
 "nbformat_minor": 5
}
