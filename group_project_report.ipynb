{
 "cells": [
  {
   "cell_type": "markdown",
   "id": "a137b350-59e5-498f-b53c-e297b72d028f",
   "metadata": {
    "tags": []
   },
   "source": [
    "Group 25 Project\n",
    "\n",
    "Doris (33996984)\n",
    "\n",
    "Verness Chin (52924784)\n",
    "\n",
    "Mackenzie Dy (62709126)\n",
    "\n",
    "Kunyue Liu (94258175)\n"
   ]
  },
  {
   "cell_type": "markdown",
   "id": "85769bf2-1cb2-42c0-bc65-0e5a03f8eb10",
   "metadata": {
    "tags": []
   },
   "source": [
    "# Title: Heart Failure"
   ]
  },
  {
   "cell_type": "markdown",
   "id": "760ecedb-6129-4715-b050-feda59f49dd1",
   "metadata": {},
   "source": [
    "## Introduction\n",
    "Around 17 million people in the world die of cardiovascular diseases every year, most of whom are bearing myocardial infractions and heart failures. Cardiovascular Diseases refer to the disorders of the heart and blood vessels, such as heart attacks, stroke, and heart failure. Of all the cardiovascular diseases, heart failure is one of the most common and risky ones. Heart failure refers to a condition in which the heart can’t pump enough blood for the body. According to research, patients who experience heart failure bear higher risks of mortality compared to patients without HF. We are going to explore which specific variables can be used to predict the death event for patients with HF. \n",
    "\n",
    "The dataset we selected includes medical records of 299 patients with heart failure. The dataset has 11 columns, of which, except for the age of patients, all the variables can be classified as quantitative or categorical. Of all the variables, we select several quantitative features as potential predictors based on background research. \n",
    "\n",
    "Based on the dataset we have, we selected creatinine phosphokinase, ejection fraction, platelets, serum creatinine, and serum sodium as potential predictors for several reasons. Firstly, an obvious risky factor contributing to HF is ejection fraction. It’s common sense that when recommending treatments in medical practices, heart failure can be subcategorized according to ejection fraction. So, ejection fraction is one of the key variables when we consider HF. Also several conditions are also seen as symptoms of heart failure and thus contribute to mortality. High CPK caused by damaged muscle tissue always indicates heart failure or injury. The easiness of bleeding caused by low platelets is one of the dimensions of heart failure. Secondly, research shows that HF will increase ESRD and rates of mortality for patients with CKD. Even minimal changes in serum creatinine of patients with HF after surgeries will cause differences in mortality. In other words, it shows a close association between CKD and heart failure. Serum sodium is tested to be an important feature with respect to heart failure. So, as targets to assess the degree of CKD, serum creatinine and serum sodium are selected to predict the death event of patients with HF. \n",
    "\n",
    "We are going to incorporate the methodology of K-nearest neighbors to answer the question. After comparing different combinations of selected features, we will choose the most optimistic one to build a classification model and conduct the prediction.\n"
   ]
  },
  {
   "cell_type": "code",
   "execution_count": 145,
   "id": "32537803",
   "metadata": {},
   "outputs": [],
   "source": [
    "# pip install -U scikit-learn\n",
    "# pip install matplotlib\n",
    "# pip install ucimlrepo"
   ]
  },
  {
   "cell_type": "markdown",
   "id": "355a0d5f",
   "metadata": {},
   "source": [
    "## Methods and Results"
   ]
  },
  {
   "cell_type": "code",
   "execution_count": 4,
   "id": "9db3f4b1-5dd8-446c-a14c-00940980c18c",
   "metadata": {},
   "outputs": [],
   "source": [
    "import altair as alt\n",
    "import numpy as np\n",
    "import pandas as pd\n",
    "from sklearn import set_config\n",
    "from sklearn.compose import make_column_transformer\n",
    "from sklearn.model_selection import (\n",
    "    GridSearchCV,\n",
    "    train_test_split,\n",
    ")\n",
    "from sklearn.neighbors import KNeighborsClassifier\n",
    "from sklearn.pipeline import make_pipeline\n",
    "from sklearn.preprocessing import StandardScaler\n",
    "\n",
    "# Simplify working with large datasets in Altair\n",
    "alt.data_transformers.disable_max_rows()\n",
    "\n",
    "# Output dataframes instead of arrays\n",
    "set_config(transform_output=\"pandas\")"
   ]
  },
  {
   "cell_type": "markdown",
   "id": "b366c251",
   "metadata": {},
   "source": [
    "Below, we read the data from the original source on the web."
   ]
  },
  {
   "cell_type": "code",
   "execution_count": 5,
   "id": "7f561cfb-3c45-41a6-9adc-0eea0ea6a572",
   "metadata": {
    "tags": []
   },
   "outputs": [
    {
     "data": {
      "text/html": [
       "<div>\n",
       "<style scoped>\n",
       "    .dataframe tbody tr th:only-of-type {\n",
       "        vertical-align: middle;\n",
       "    }\n",
       "\n",
       "    .dataframe tbody tr th {\n",
       "        vertical-align: top;\n",
       "    }\n",
       "\n",
       "    .dataframe thead th {\n",
       "        text-align: right;\n",
       "    }\n",
       "</style>\n",
       "<table border=\"1\" class=\"dataframe\">\n",
       "  <thead>\n",
       "    <tr style=\"text-align: right;\">\n",
       "      <th></th>\n",
       "      <th>age</th>\n",
       "      <th>anaemia</th>\n",
       "      <th>creatinine_phosphokinase</th>\n",
       "      <th>diabetes</th>\n",
       "      <th>ejection_fraction</th>\n",
       "      <th>high_blood_pressure</th>\n",
       "      <th>platelets</th>\n",
       "      <th>serum_creatinine</th>\n",
       "      <th>serum_sodium</th>\n",
       "      <th>sex</th>\n",
       "      <th>smoking</th>\n",
       "      <th>time</th>\n",
       "      <th>death_event</th>\n",
       "    </tr>\n",
       "  </thead>\n",
       "  <tbody>\n",
       "    <tr>\n",
       "      <th>0</th>\n",
       "      <td>75.0</td>\n",
       "      <td>0</td>\n",
       "      <td>582</td>\n",
       "      <td>0</td>\n",
       "      <td>20</td>\n",
       "      <td>1</td>\n",
       "      <td>265000.00</td>\n",
       "      <td>1.9</td>\n",
       "      <td>130</td>\n",
       "      <td>1</td>\n",
       "      <td>0</td>\n",
       "      <td>4</td>\n",
       "      <td>1</td>\n",
       "    </tr>\n",
       "    <tr>\n",
       "      <th>1</th>\n",
       "      <td>55.0</td>\n",
       "      <td>0</td>\n",
       "      <td>7861</td>\n",
       "      <td>0</td>\n",
       "      <td>38</td>\n",
       "      <td>0</td>\n",
       "      <td>263358.03</td>\n",
       "      <td>1.1</td>\n",
       "      <td>136</td>\n",
       "      <td>1</td>\n",
       "      <td>0</td>\n",
       "      <td>6</td>\n",
       "      <td>1</td>\n",
       "    </tr>\n",
       "    <tr>\n",
       "      <th>2</th>\n",
       "      <td>65.0</td>\n",
       "      <td>0</td>\n",
       "      <td>146</td>\n",
       "      <td>0</td>\n",
       "      <td>20</td>\n",
       "      <td>0</td>\n",
       "      <td>162000.00</td>\n",
       "      <td>1.3</td>\n",
       "      <td>129</td>\n",
       "      <td>1</td>\n",
       "      <td>1</td>\n",
       "      <td>7</td>\n",
       "      <td>1</td>\n",
       "    </tr>\n",
       "    <tr>\n",
       "      <th>3</th>\n",
       "      <td>50.0</td>\n",
       "      <td>1</td>\n",
       "      <td>111</td>\n",
       "      <td>0</td>\n",
       "      <td>20</td>\n",
       "      <td>0</td>\n",
       "      <td>210000.00</td>\n",
       "      <td>1.9</td>\n",
       "      <td>137</td>\n",
       "      <td>1</td>\n",
       "      <td>0</td>\n",
       "      <td>7</td>\n",
       "      <td>1</td>\n",
       "    </tr>\n",
       "    <tr>\n",
       "      <th>4</th>\n",
       "      <td>65.0</td>\n",
       "      <td>1</td>\n",
       "      <td>160</td>\n",
       "      <td>1</td>\n",
       "      <td>20</td>\n",
       "      <td>0</td>\n",
       "      <td>327000.00</td>\n",
       "      <td>2.7</td>\n",
       "      <td>116</td>\n",
       "      <td>0</td>\n",
       "      <td>0</td>\n",
       "      <td>8</td>\n",
       "      <td>1</td>\n",
       "    </tr>\n",
       "    <tr>\n",
       "      <th>...</th>\n",
       "      <td>...</td>\n",
       "      <td>...</td>\n",
       "      <td>...</td>\n",
       "      <td>...</td>\n",
       "      <td>...</td>\n",
       "      <td>...</td>\n",
       "      <td>...</td>\n",
       "      <td>...</td>\n",
       "      <td>...</td>\n",
       "      <td>...</td>\n",
       "      <td>...</td>\n",
       "      <td>...</td>\n",
       "      <td>...</td>\n",
       "    </tr>\n",
       "    <tr>\n",
       "      <th>294</th>\n",
       "      <td>62.0</td>\n",
       "      <td>0</td>\n",
       "      <td>61</td>\n",
       "      <td>1</td>\n",
       "      <td>38</td>\n",
       "      <td>1</td>\n",
       "      <td>155000.00</td>\n",
       "      <td>1.1</td>\n",
       "      <td>143</td>\n",
       "      <td>1</td>\n",
       "      <td>1</td>\n",
       "      <td>270</td>\n",
       "      <td>0</td>\n",
       "    </tr>\n",
       "    <tr>\n",
       "      <th>295</th>\n",
       "      <td>55.0</td>\n",
       "      <td>0</td>\n",
       "      <td>1820</td>\n",
       "      <td>0</td>\n",
       "      <td>38</td>\n",
       "      <td>0</td>\n",
       "      <td>270000.00</td>\n",
       "      <td>1.2</td>\n",
       "      <td>139</td>\n",
       "      <td>0</td>\n",
       "      <td>0</td>\n",
       "      <td>271</td>\n",
       "      <td>0</td>\n",
       "    </tr>\n",
       "    <tr>\n",
       "      <th>296</th>\n",
       "      <td>45.0</td>\n",
       "      <td>0</td>\n",
       "      <td>2060</td>\n",
       "      <td>1</td>\n",
       "      <td>60</td>\n",
       "      <td>0</td>\n",
       "      <td>742000.00</td>\n",
       "      <td>0.8</td>\n",
       "      <td>138</td>\n",
       "      <td>0</td>\n",
       "      <td>0</td>\n",
       "      <td>278</td>\n",
       "      <td>0</td>\n",
       "    </tr>\n",
       "    <tr>\n",
       "      <th>297</th>\n",
       "      <td>45.0</td>\n",
       "      <td>0</td>\n",
       "      <td>2413</td>\n",
       "      <td>0</td>\n",
       "      <td>38</td>\n",
       "      <td>0</td>\n",
       "      <td>140000.00</td>\n",
       "      <td>1.4</td>\n",
       "      <td>140</td>\n",
       "      <td>1</td>\n",
       "      <td>1</td>\n",
       "      <td>280</td>\n",
       "      <td>0</td>\n",
       "    </tr>\n",
       "    <tr>\n",
       "      <th>298</th>\n",
       "      <td>50.0</td>\n",
       "      <td>0</td>\n",
       "      <td>196</td>\n",
       "      <td>0</td>\n",
       "      <td>45</td>\n",
       "      <td>0</td>\n",
       "      <td>395000.00</td>\n",
       "      <td>1.6</td>\n",
       "      <td>136</td>\n",
       "      <td>1</td>\n",
       "      <td>1</td>\n",
       "      <td>285</td>\n",
       "      <td>0</td>\n",
       "    </tr>\n",
       "  </tbody>\n",
       "</table>\n",
       "<p>299 rows × 13 columns</p>\n",
       "</div>"
      ],
      "text/plain": [
       "      age  anaemia  creatinine_phosphokinase  diabetes  ejection_fraction  \\\n",
       "0    75.0        0                       582         0                 20   \n",
       "1    55.0        0                      7861         0                 38   \n",
       "2    65.0        0                       146         0                 20   \n",
       "3    50.0        1                       111         0                 20   \n",
       "4    65.0        1                       160         1                 20   \n",
       "..    ...      ...                       ...       ...                ...   \n",
       "294  62.0        0                        61         1                 38   \n",
       "295  55.0        0                      1820         0                 38   \n",
       "296  45.0        0                      2060         1                 60   \n",
       "297  45.0        0                      2413         0                 38   \n",
       "298  50.0        0                       196         0                 45   \n",
       "\n",
       "     high_blood_pressure  platelets  serum_creatinine  serum_sodium  sex  \\\n",
       "0                      1  265000.00               1.9           130    1   \n",
       "1                      0  263358.03               1.1           136    1   \n",
       "2                      0  162000.00               1.3           129    1   \n",
       "3                      0  210000.00               1.9           137    1   \n",
       "4                      0  327000.00               2.7           116    0   \n",
       "..                   ...        ...               ...           ...  ...   \n",
       "294                    1  155000.00               1.1           143    1   \n",
       "295                    0  270000.00               1.2           139    0   \n",
       "296                    0  742000.00               0.8           138    0   \n",
       "297                    0  140000.00               1.4           140    1   \n",
       "298                    0  395000.00               1.6           136    1   \n",
       "\n",
       "     smoking  time  death_event  \n",
       "0          0     4            1  \n",
       "1          0     6            1  \n",
       "2          1     7            1  \n",
       "3          0     7            1  \n",
       "4          0     8            1  \n",
       "..       ...   ...          ...  \n",
       "294        1   270            0  \n",
       "295        0   271            0  \n",
       "296        0   278            0  \n",
       "297        1   280            0  \n",
       "298        1   285            0  \n",
       "\n",
       "[299 rows x 13 columns]"
      ]
     },
     "execution_count": 5,
     "metadata": {},
     "output_type": "execute_result"
    }
   ],
   "source": [
    "url = 'https://archive.ics.uci.edu/static/public/519/data.csv'\n",
    "data = pd.read_csv(url)\n",
    "data"
   ]
  },
  {
   "cell_type": "markdown",
   "id": "789dd496",
   "metadata": {},
   "source": [
    "In this analysis, we will be focusing on quantitative variables rather than the boolean variables as that is the subject of our attention.\n",
    "\n",
    "We've also converted the death event to a more readable format (yes and no)."
   ]
  },
  {
   "cell_type": "code",
   "execution_count": 6,
   "id": "3eb11441-3aef-4cb9-ad3f-89584a84e871",
   "metadata": {
    "tags": []
   },
   "outputs": [
    {
     "data": {
      "text/html": [
       "<div>\n",
       "<style scoped>\n",
       "    .dataframe tbody tr th:only-of-type {\n",
       "        vertical-align: middle;\n",
       "    }\n",
       "\n",
       "    .dataframe tbody tr th {\n",
       "        vertical-align: top;\n",
       "    }\n",
       "\n",
       "    .dataframe thead th {\n",
       "        text-align: right;\n",
       "    }\n",
       "</style>\n",
       "<table border=\"1\" class=\"dataframe\">\n",
       "  <thead>\n",
       "    <tr style=\"text-align: right;\">\n",
       "      <th></th>\n",
       "      <th>creatinine_phosphokinase</th>\n",
       "      <th>ejection_fraction</th>\n",
       "      <th>platelets</th>\n",
       "      <th>serum_creatinine</th>\n",
       "      <th>serum_sodium</th>\n",
       "      <th>death_event</th>\n",
       "    </tr>\n",
       "  </thead>\n",
       "  <tbody>\n",
       "    <tr>\n",
       "      <th>0</th>\n",
       "      <td>582</td>\n",
       "      <td>20</td>\n",
       "      <td>265000.00</td>\n",
       "      <td>1.9</td>\n",
       "      <td>130</td>\n",
       "      <td>Yes</td>\n",
       "    </tr>\n",
       "    <tr>\n",
       "      <th>1</th>\n",
       "      <td>7861</td>\n",
       "      <td>38</td>\n",
       "      <td>263358.03</td>\n",
       "      <td>1.1</td>\n",
       "      <td>136</td>\n",
       "      <td>Yes</td>\n",
       "    </tr>\n",
       "    <tr>\n",
       "      <th>2</th>\n",
       "      <td>146</td>\n",
       "      <td>20</td>\n",
       "      <td>162000.00</td>\n",
       "      <td>1.3</td>\n",
       "      <td>129</td>\n",
       "      <td>Yes</td>\n",
       "    </tr>\n",
       "    <tr>\n",
       "      <th>3</th>\n",
       "      <td>111</td>\n",
       "      <td>20</td>\n",
       "      <td>210000.00</td>\n",
       "      <td>1.9</td>\n",
       "      <td>137</td>\n",
       "      <td>Yes</td>\n",
       "    </tr>\n",
       "    <tr>\n",
       "      <th>4</th>\n",
       "      <td>160</td>\n",
       "      <td>20</td>\n",
       "      <td>327000.00</td>\n",
       "      <td>2.7</td>\n",
       "      <td>116</td>\n",
       "      <td>Yes</td>\n",
       "    </tr>\n",
       "    <tr>\n",
       "      <th>...</th>\n",
       "      <td>...</td>\n",
       "      <td>...</td>\n",
       "      <td>...</td>\n",
       "      <td>...</td>\n",
       "      <td>...</td>\n",
       "      <td>...</td>\n",
       "    </tr>\n",
       "    <tr>\n",
       "      <th>294</th>\n",
       "      <td>61</td>\n",
       "      <td>38</td>\n",
       "      <td>155000.00</td>\n",
       "      <td>1.1</td>\n",
       "      <td>143</td>\n",
       "      <td>No</td>\n",
       "    </tr>\n",
       "    <tr>\n",
       "      <th>295</th>\n",
       "      <td>1820</td>\n",
       "      <td>38</td>\n",
       "      <td>270000.00</td>\n",
       "      <td>1.2</td>\n",
       "      <td>139</td>\n",
       "      <td>No</td>\n",
       "    </tr>\n",
       "    <tr>\n",
       "      <th>296</th>\n",
       "      <td>2060</td>\n",
       "      <td>60</td>\n",
       "      <td>742000.00</td>\n",
       "      <td>0.8</td>\n",
       "      <td>138</td>\n",
       "      <td>No</td>\n",
       "    </tr>\n",
       "    <tr>\n",
       "      <th>297</th>\n",
       "      <td>2413</td>\n",
       "      <td>38</td>\n",
       "      <td>140000.00</td>\n",
       "      <td>1.4</td>\n",
       "      <td>140</td>\n",
       "      <td>No</td>\n",
       "    </tr>\n",
       "    <tr>\n",
       "      <th>298</th>\n",
       "      <td>196</td>\n",
       "      <td>45</td>\n",
       "      <td>395000.00</td>\n",
       "      <td>1.6</td>\n",
       "      <td>136</td>\n",
       "      <td>No</td>\n",
       "    </tr>\n",
       "  </tbody>\n",
       "</table>\n",
       "<p>299 rows × 6 columns</p>\n",
       "</div>"
      ],
      "text/plain": [
       "     creatinine_phosphokinase  ejection_fraction  platelets  serum_creatinine  \\\n",
       "0                         582                 20  265000.00               1.9   \n",
       "1                        7861                 38  263358.03               1.1   \n",
       "2                         146                 20  162000.00               1.3   \n",
       "3                         111                 20  210000.00               1.9   \n",
       "4                         160                 20  327000.00               2.7   \n",
       "..                        ...                ...        ...               ...   \n",
       "294                        61                 38  155000.00               1.1   \n",
       "295                      1820                 38  270000.00               1.2   \n",
       "296                      2060                 60  742000.00               0.8   \n",
       "297                      2413                 38  140000.00               1.4   \n",
       "298                       196                 45  395000.00               1.6   \n",
       "\n",
       "     serum_sodium death_event  \n",
       "0             130         Yes  \n",
       "1             136         Yes  \n",
       "2             129         Yes  \n",
       "3             137         Yes  \n",
       "4             116         Yes  \n",
       "..            ...         ...  \n",
       "294           143          No  \n",
       "295           139          No  \n",
       "296           138          No  \n",
       "297           140          No  \n",
       "298           136          No  \n",
       "\n",
       "[299 rows x 6 columns]"
      ]
     },
     "execution_count": 6,
     "metadata": {},
     "output_type": "execute_result"
    }
   ],
   "source": [
    "data[\"death_event\"] = data[\"death_event\"].astype(str).replace({\n",
    "    '1': 'Yes',\n",
    "    '0': 'No'\n",
    "})\n",
    "data[['creatinine_phosphokinase', 'ejection_fraction', 'platelets', 'serum_creatinine', 'serum_sodium', 'death_event']]"
   ]
  },
  {
   "cell_type": "markdown",
   "id": "cb893ba4",
   "metadata": {},
   "source": [
    "This is where we split the data into the test (25%) and training data (75%)."
   ]
  },
  {
   "cell_type": "code",
   "execution_count": 7,
   "id": "78da0eba-0c1c-4b73-a2eb-4ea80f9421e9",
   "metadata": {
    "tags": []
   },
   "outputs": [],
   "source": [
    "heart_disease_train, heart_disease_test = train_test_split(data, test_size=0.25, random_state=123)"
   ]
  },
  {
   "cell_type": "markdown",
   "id": "6e3b637b",
   "metadata": {},
   "source": [
    "For our preferred analysis, we want two variables that will help us accurately predict a death event. However, we cannot randomly select a pair of variables, as there could exist another pair of variables that might predict the death event more accurately. To solve this, we will compare all possible pairs and determine which one has the higher accuracy.\n",
    "\n",
    "Below, we initialize a dataframe to store all the possible pairs and their accuracies."
   ]
  },
  {
   "cell_type": "code",
   "execution_count": 8,
   "id": "0ccebc78",
   "metadata": {},
   "outputs": [],
   "source": [
    "compared_categories_dataframe = pd.DataFrame(columns=['category_1', 'category_2', 'accuracy'])"
   ]
  },
  {
   "cell_type": "markdown",
   "id": "a419408e",
   "metadata": {},
   "source": [
    "### Comparison of Ejection Fraction and Serum Creatinine"
   ]
  },
  {
   "cell_type": "markdown",
   "id": "fb352fd0",
   "metadata": {},
   "source": [
    "In order to find the best value of <i>K</i> for the KNeighborsClassifier, we first initialize the preprocessor (to standardize the values) and the parameter grid (with a range of 1 to 49)."
   ]
  },
  {
   "cell_type": "code",
   "execution_count": 9,
   "id": "db6eb704",
   "metadata": {},
   "outputs": [],
   "source": [
    "compared_categories = ['ejection_fraction', 'serum_creatinine']\n",
    "\n",
    "heart_disease_preprocessor = make_column_transformer(\n",
    "     (StandardScaler(), compared_categories),\n",
    "     remainder= 'passthrough',\n",
    "     verbose_feature_names_out=False,\n",
    ")\n",
    "\n",
    "parameter_grid = {\n",
    "    \"kneighborsclassifier__n_neighbors\": range(1, 50, 1),\n",
    "}"
   ]
  },
  {
   "cell_type": "markdown",
   "id": "d0274a25",
   "metadata": {},
   "source": [
    "In optimizing our model, we devised a sophisticated pipeline that integrates preprocessing and classification components. Employing the GridSearchCV methodology, we fine-tuned our model's hyperparameters with a choice of 5 folds for cross-validation on the training set. Through this process, we computed mean test scores for varying values of the hyperparameter <i>K</i>. Our objective was to pinpoint the <i>K</i> that maximized the test score, thereby ensuring optimal predictive performance. "
   ]
  },
  {
   "cell_type": "code",
   "execution_count": 11,
   "id": "9f45c1ad",
   "metadata": {},
   "outputs": [
    {
     "data": {
      "text/plain": [
       "n_neighbors               8\n",
       "mean_test_score    0.794646\n",
       "sem_test_score     0.021199\n",
       "Name: 7, dtype: object"
      ]
     },
     "execution_count": 11,
     "metadata": {},
     "output_type": "execute_result"
    }
   ],
   "source": [
    "heart_disease_pipeline = make_pipeline(heart_disease_preprocessor, KNeighborsClassifier())\n",
    "\n",
    "heart_disease_tune_grid = GridSearchCV(\n",
    "    estimator=heart_disease_pipeline,\n",
    "    param_grid=parameter_grid,\n",
    "    cv=5\n",
    ")\n",
    "\n",
    "accuracies_grid = pd.DataFrame(\n",
    "    heart_disease_tune_grid.fit(\n",
    "        heart_disease_train[compared_categories],\n",
    "        heart_disease_train[\"death_event\"]\n",
    "    ).cv_results_\n",
    ")\n",
    "\n",
    "# makes the accuracies_grid easier to read\n",
    "accuracies_grid = (\n",
    "    accuracies_grid[[\n",
    "        \"param_kneighborsclassifier__n_neighbors\",\n",
    "        \"mean_test_score\",\n",
    "        \"std_test_score\"\n",
    "    ]]\n",
    "    .assign(sem_test_score=accuracies_grid[\"std_test_score\"] / 5**(1/2))\n",
    "    .rename(columns={\"param_kneighborsclassifier__n_neighbors\": \"n_neighbors\"})\n",
    "    .drop(columns=[\"std_test_score\"])\n",
    ")\n",
    "\n",
    "# filters out the highest test score and returns the row\n",
    "accuracies_grid.loc[accuracies_grid['mean_test_score'].idxmax()]"
   ]
  },
  {
   "cell_type": "markdown",
   "id": "c434c106",
   "metadata": {},
   "source": [
    "Here is a plot that visually shows the <i>K</i> value and its mean test score."
   ]
  },
  {
   "cell_type": "code",
   "execution_count": 44,
   "id": "13656c89",
   "metadata": {},
   "outputs": [
    {
     "data": {
      "text/html": [
       "\n",
       "<style>\n",
       "  #altair-viz-cbbdb1d49371435d839746a8b8117ab4.vega-embed {\n",
       "    width: 100%;\n",
       "    display: flex;\n",
       "  }\n",
       "\n",
       "  #altair-viz-cbbdb1d49371435d839746a8b8117ab4.vega-embed details,\n",
       "  #altair-viz-cbbdb1d49371435d839746a8b8117ab4.vega-embed details summary {\n",
       "    position: relative;\n",
       "  }\n",
       "</style>\n",
       "<div id=\"altair-viz-cbbdb1d49371435d839746a8b8117ab4\"></div>\n",
       "<script type=\"text/javascript\">\n",
       "  var VEGA_DEBUG = (typeof VEGA_DEBUG == \"undefined\") ? {} : VEGA_DEBUG;\n",
       "  (function(spec, embedOpt){\n",
       "    let outputDiv = document.currentScript.previousElementSibling;\n",
       "    if (outputDiv.id !== \"altair-viz-cbbdb1d49371435d839746a8b8117ab4\") {\n",
       "      outputDiv = document.getElementById(\"altair-viz-cbbdb1d49371435d839746a8b8117ab4\");\n",
       "    }\n",
       "    const paths = {\n",
       "      \"vega\": \"https://cdn.jsdelivr.net/npm/vega@5?noext\",\n",
       "      \"vega-lib\": \"https://cdn.jsdelivr.net/npm/vega-lib?noext\",\n",
       "      \"vega-lite\": \"https://cdn.jsdelivr.net/npm/vega-lite@5.16.3?noext\",\n",
       "      \"vega-embed\": \"https://cdn.jsdelivr.net/npm/vega-embed@6?noext\",\n",
       "    };\n",
       "\n",
       "    function maybeLoadScript(lib, version) {\n",
       "      var key = `${lib.replace(\"-\", \"\")}_version`;\n",
       "      return (VEGA_DEBUG[key] == version) ?\n",
       "        Promise.resolve(paths[lib]) :\n",
       "        new Promise(function(resolve, reject) {\n",
       "          var s = document.createElement('script');\n",
       "          document.getElementsByTagName(\"head\")[0].appendChild(s);\n",
       "          s.async = true;\n",
       "          s.onload = () => {\n",
       "            VEGA_DEBUG[key] = version;\n",
       "            return resolve(paths[lib]);\n",
       "          };\n",
       "          s.onerror = () => reject(`Error loading script: ${paths[lib]}`);\n",
       "          s.src = paths[lib];\n",
       "        });\n",
       "    }\n",
       "\n",
       "    function showError(err) {\n",
       "      outputDiv.innerHTML = `<div class=\"error\" style=\"color:red;\">${err}</div>`;\n",
       "      throw err;\n",
       "    }\n",
       "\n",
       "    function displayChart(vegaEmbed) {\n",
       "      vegaEmbed(outputDiv, spec, embedOpt)\n",
       "        .catch(err => showError(`Javascript Error: ${err.message}<br>This usually means there's a typo in your chart specification. See the javascript console for the full traceback.`));\n",
       "    }\n",
       "\n",
       "    if(typeof define === \"function\" && define.amd) {\n",
       "      requirejs.config({paths});\n",
       "      require([\"vega-embed\"], displayChart, err => showError(`Error loading script: ${err.message}`));\n",
       "    } else {\n",
       "      maybeLoadScript(\"vega\", \"5\")\n",
       "        .then(() => maybeLoadScript(\"vega-lite\", \"5.16.3\"))\n",
       "        .then(() => maybeLoadScript(\"vega-embed\", \"6\"))\n",
       "        .catch(showError)\n",
       "        .then(() => displayChart(vegaEmbed));\n",
       "    }\n",
       "  })({\"config\": {\"view\": {\"continuousWidth\": 300, \"continuousHeight\": 300}}, \"data\": {\"name\": \"data-c7ba7f3718dec579352fd63bfa134ef4\"}, \"mark\": {\"type\": \"line\", \"point\": true}, \"encoding\": {\"x\": {\"field\": \"n_neighbors\", \"scale\": {\"zero\": false}, \"title\": \"Number of Neighbors (k)\", \"type\": \"quantitative\"}, \"y\": {\"field\": \"mean_test_score\", \"scale\": {\"zero\": false}, \"title\": \"Accuracy\", \"type\": \"quantitative\"}}, \"$schema\": \"https://vega.github.io/schema/vega-lite/v5.16.3.json\", \"datasets\": {\"data-c7ba7f3718dec579352fd63bfa134ef4\": [{\"n_neighbors\": 1, \"mean_test_score\": 0.6027272727272728, \"sem_test_score\": 0.011156564513400125}, {\"n_neighbors\": 2, \"mean_test_score\": 0.7006060606060606, \"sem_test_score\": 0.02140575402734117}, {\"n_neighbors\": 3, \"mean_test_score\": 0.656060606060606, \"sem_test_score\": 0.026126297285611232}, {\"n_neighbors\": 4, \"mean_test_score\": 0.6738383838383839, \"sem_test_score\": 0.024005747024728973}, {\"n_neighbors\": 5, \"mean_test_score\": 0.6829292929292929, \"sem_test_score\": 0.023280757593233222}, {\"n_neighbors\": 6, \"mean_test_score\": 0.6919191919191918, \"sem_test_score\": 0.017218000608212134}, {\"n_neighbors\": 7, \"mean_test_score\": 0.6694949494949495, \"sem_test_score\": 0.019765795319846322}, {\"n_neighbors\": 8, \"mean_test_score\": 0.7140404040404041, \"sem_test_score\": 0.01564607012172883}, {\"n_neighbors\": 9, \"mean_test_score\": 0.7141414141414142, \"sem_test_score\": 0.012288409152117614}, {\"n_neighbors\": 10, \"mean_test_score\": 0.7095959595959597, \"sem_test_score\": 0.015043385204954716}, {\"n_neighbors\": 11, \"mean_test_score\": 0.7096969696969697, \"sem_test_score\": 0.014549943190691913}, {\"n_neighbors\": 12, \"mean_test_score\": 0.7141414141414142, \"sem_test_score\": 0.012288409152117614}, {\"n_neighbors\": 13, \"mean_test_score\": 0.7141414141414142, \"sem_test_score\": 0.012288409152117614}, {\"n_neighbors\": 14, \"mean_test_score\": 0.7095959595959597, \"sem_test_score\": 0.015043385204954716}, {\"n_neighbors\": 15, \"mean_test_score\": 0.7141414141414142, \"sem_test_score\": 0.012288409152117614}, {\"n_neighbors\": 16, \"mean_test_score\": 0.7096969696969697, \"sem_test_score\": 0.0115190494908803}, {\"n_neighbors\": 17, \"mean_test_score\": 0.7095959595959597, \"sem_test_score\": 0.015043385204954716}, {\"n_neighbors\": 18, \"mean_test_score\": 0.7096969696969697, \"sem_test_score\": 0.0115190494908803}, {\"n_neighbors\": 19, \"mean_test_score\": 0.7096969696969697, \"sem_test_score\": 0.0115190494908803}, {\"n_neighbors\": 20, \"mean_test_score\": 0.7142424242424243, \"sem_test_score\": 0.0099261634864143}, {\"n_neighbors\": 21, \"mean_test_score\": 0.7142424242424243, \"sem_test_score\": 0.0099261634864143}, {\"n_neighbors\": 22, \"mean_test_score\": 0.7142424242424243, \"sem_test_score\": 0.0099261634864143}, {\"n_neighbors\": 23, \"mean_test_score\": 0.7142424242424243, \"sem_test_score\": 0.0099261634864143}, {\"n_neighbors\": 24, \"mean_test_score\": 0.7142424242424243, \"sem_test_score\": 0.0099261634864143}, {\"n_neighbors\": 25, \"mean_test_score\": 0.7142424242424243, \"sem_test_score\": 0.0099261634864143}, {\"n_neighbors\": 26, \"mean_test_score\": 0.7142424242424243, \"sem_test_score\": 0.0099261634864143}, {\"n_neighbors\": 27, \"mean_test_score\": 0.7142424242424243, \"sem_test_score\": 0.0099261634864143}, {\"n_neighbors\": 28, \"mean_test_score\": 0.7097979797979798, \"sem_test_score\": 0.0063941867282655135}, {\"n_neighbors\": 29, \"mean_test_score\": 0.7142424242424243, \"sem_test_score\": 0.0099261634864143}, {\"n_neighbors\": 30, \"mean_test_score\": 0.7097979797979799, \"sem_test_score\": 0.001174500351818069}, {\"n_neighbors\": 31, \"mean_test_score\": 0.7097979797979799, \"sem_test_score\": 0.001174500351818069}, {\"n_neighbors\": 32, \"mean_test_score\": 0.7097979797979799, \"sem_test_score\": 0.001174500351818069}, {\"n_neighbors\": 33, \"mean_test_score\": 0.7097979797979798, \"sem_test_score\": 0.0063941867282655135}, {\"n_neighbors\": 34, \"mean_test_score\": 0.7053535353535353, \"sem_test_score\": 0.0038532407846427505}, {\"n_neighbors\": 35, \"mean_test_score\": 0.7097979797979798, \"sem_test_score\": 0.0063941867282655135}, {\"n_neighbors\": 36, \"mean_test_score\": 0.7053535353535353, \"sem_test_score\": 0.0038532407846427505}, {\"n_neighbors\": 37, \"mean_test_score\": 0.7053535353535353, \"sem_test_score\": 0.0038532407846427505}, {\"n_neighbors\": 38, \"mean_test_score\": 0.7053535353535353, \"sem_test_score\": 0.0038532407846427505}, {\"n_neighbors\": 39, \"mean_test_score\": 0.7053535353535353, \"sem_test_score\": 0.0038532407846427505}, {\"n_neighbors\": 40, \"mean_test_score\": 0.7097979797979799, \"sem_test_score\": 0.001174500351818069}, {\"n_neighbors\": 41, \"mean_test_score\": 0.7097979797979799, \"sem_test_score\": 0.001174500351818069}, {\"n_neighbors\": 42, \"mean_test_score\": 0.7097979797979799, \"sem_test_score\": 0.001174500351818069}, {\"n_neighbors\": 43, \"mean_test_score\": 0.7097979797979799, \"sem_test_score\": 0.001174500351818069}, {\"n_neighbors\": 44, \"mean_test_score\": 0.7097979797979799, \"sem_test_score\": 0.001174500351818069}, {\"n_neighbors\": 45, \"mean_test_score\": 0.7097979797979799, \"sem_test_score\": 0.001174500351818069}, {\"n_neighbors\": 46, \"mean_test_score\": 0.7097979797979799, \"sem_test_score\": 0.001174500351818069}, {\"n_neighbors\": 47, \"mean_test_score\": 0.7097979797979799, \"sem_test_score\": 0.001174500351818069}, {\"n_neighbors\": 48, \"mean_test_score\": 0.7097979797979799, \"sem_test_score\": 0.001174500351818069}, {\"n_neighbors\": 49, \"mean_test_score\": 0.7097979797979799, \"sem_test_score\": 0.001174500351818069}]}}, {\"mode\": \"vega-lite\"});\n",
       "</script>"
      ],
      "text/plain": [
       "alt.Chart(...)"
      ]
     },
     "execution_count": 44,
     "metadata": {},
     "output_type": "execute_result"
    }
   ],
   "source": [
    "cross_val_plot = alt.Chart(accuracies_grid).mark_line(point=True).encode(\n",
    "    x = alt.X(\"n_neighbors\").title(\"Number of Neighbors (k)\").scale(zero = False),\n",
    "    y = alt.Y(\"mean_test_score\").title(\"Accuracy\").scale(zero = False)\n",
    ")\n",
    "cross_val_plot"
   ]
  },
  {
   "cell_type": "markdown",
   "id": "0237d986",
   "metadata": {},
   "source": [
    "As we can see above, the best <i>K</i> value is 8 with a mean test score of 0.79. We will use this <i>K</i> value to train a model on the training data, predict test values, and score the accuracy of the classifier."
   ]
  },
  {
   "cell_type": "code",
   "execution_count": 12,
   "id": "94bae3da-e14d-4e63-a29a-dbdb393b5e87",
   "metadata": {
    "tags": []
   },
   "outputs": [
    {
     "data": {
      "text/plain": [
       "0.64"
      ]
     },
     "execution_count": 12,
     "metadata": {},
     "output_type": "execute_result"
    }
   ],
   "source": [
    "n = 8\n",
    "X = heart_disease_train[compared_categories]\n",
    "y = heart_disease_train[\"death_event\"]\n",
    "\n",
    "heart_disease_fit = make_pipeline(heart_disease_preprocessor, KNeighborsClassifier(n_neighbors = n))\n",
    "heart_disease_fit = heart_disease_fit.fit(X, y)\n",
    "\n",
    "heart_disease_test_predictions = heart_disease_test.assign(\n",
    "    predicted = heart_disease_fit.predict(heart_disease_test[compared_categories])\n",
    ")\n",
    "\n",
    "X_test = heart_disease_test_predictions[compared_categories]\n",
    "y_test = heart_disease_test_predictions[\"death_event\"]\n",
    "heart_disease_prediction_accuracy = heart_disease_fit.score(X_test, y_test)\n",
    "heart_disease_prediction_accuracy"
   ]
  },
  {
   "cell_type": "markdown",
   "id": "1c9ed83f",
   "metadata": {},
   "source": [
    "Now that we have our accuracy score, we store it in a database for further analysis."
   ]
  },
  {
   "cell_type": "code",
   "execution_count": 13,
   "id": "a786ad61-2656-4079-a52f-ec3d5e54976b",
   "metadata": {
    "tags": []
   },
   "outputs": [
    {
     "data": {
      "text/html": [
       "<div>\n",
       "<style scoped>\n",
       "    .dataframe tbody tr th:only-of-type {\n",
       "        vertical-align: middle;\n",
       "    }\n",
       "\n",
       "    .dataframe tbody tr th {\n",
       "        vertical-align: top;\n",
       "    }\n",
       "\n",
       "    .dataframe thead th {\n",
       "        text-align: right;\n",
       "    }\n",
       "</style>\n",
       "<table border=\"1\" class=\"dataframe\">\n",
       "  <thead>\n",
       "    <tr style=\"text-align: right;\">\n",
       "      <th></th>\n",
       "      <th>category_1</th>\n",
       "      <th>category_2</th>\n",
       "      <th>accuracy</th>\n",
       "    </tr>\n",
       "  </thead>\n",
       "  <tbody>\n",
       "    <tr>\n",
       "      <th>0</th>\n",
       "      <td>ejection_fraction</td>\n",
       "      <td>serum_creatinine</td>\n",
       "      <td>0.64</td>\n",
       "    </tr>\n",
       "  </tbody>\n",
       "</table>\n",
       "</div>"
      ],
      "text/plain": [
       "          category_1        category_2  accuracy\n",
       "0  ejection_fraction  serum_creatinine      0.64"
      ]
     },
     "execution_count": 13,
     "metadata": {},
     "output_type": "execute_result"
    }
   ],
   "source": [
    "new_row = {\"category_1\" : \"ejection_fraction\", \"category_2\" : \"serum_creatinine\", \"accuracy\" : heart_disease_prediction_accuracy }\n",
    "compared_categories_dataframe.loc[len(compared_categories_dataframe)] = new_row\n",
    "compared_categories_dataframe"
   ]
  },
  {
   "cell_type": "markdown",
   "id": "952485e7",
   "metadata": {},
   "source": [
    "We will now repeat this process for all possible pairs."
   ]
  },
  {
   "cell_type": "markdown",
   "id": "7c4e86c8",
   "metadata": {},
   "source": [
    "### Comparsion of Ejection Fraction and Platelets"
   ]
  },
  {
   "cell_type": "code",
   "execution_count": 14,
   "id": "596a9636",
   "metadata": {},
   "outputs": [
    {
     "data": {
      "text/plain": [
       "n_neighbors              15\n",
       "mean_test_score    0.776869\n",
       "sem_test_score     0.015153\n",
       "Name: 14, dtype: object"
      ]
     },
     "execution_count": 14,
     "metadata": {},
     "output_type": "execute_result"
    }
   ],
   "source": [
    "# the pair of variables we are now comparing\n",
    "compared_categories = ['ejection_fraction', 'platelets']\n",
    "\n",
    "heart_disease_preprocessor = make_column_transformer(\n",
    "     (StandardScaler(), compared_categories),\n",
    "     remainder= 'passthrough',\n",
    "     verbose_feature_names_out=False,\n",
    ")\n",
    "\n",
    "parameter_grid = {\n",
    "    \"kneighborsclassifier__n_neighbors\": range(1, 50, 1),\n",
    "}\n",
    "\n",
    "heart_disease_pipeline = make_pipeline(heart_disease_preprocessor, KNeighborsClassifier())\n",
    "\n",
    "heart_disease_tune_grid = GridSearchCV(\n",
    "    estimator=heart_disease_pipeline,\n",
    "    param_grid=parameter_grid,\n",
    "    cv=5\n",
    ")\n",
    "\n",
    "accuracies_grid = pd.DataFrame(\n",
    "    heart_disease_tune_grid.fit(\n",
    "        heart_disease_train[compared_categories],\n",
    "        heart_disease_train[\"death_event\"]\n",
    "    ).cv_results_\n",
    ")\n",
    "\n",
    "# makes the accuracies_grid easier to read\n",
    "accuracies_grid = (\n",
    "    accuracies_grid[[\n",
    "        \"param_kneighborsclassifier__n_neighbors\",\n",
    "        \"mean_test_score\",\n",
    "        \"std_test_score\"\n",
    "    ]]\n",
    "    .assign(sem_test_score=accuracies_grid[\"std_test_score\"] / 5**(1/2))\n",
    "    .rename(columns={\"param_kneighborsclassifier__n_neighbors\": \"n_neighbors\"})\n",
    "    .drop(columns=[\"std_test_score\"])\n",
    ")\n",
    "\n",
    "# filters out the highest test score and returns the row\n",
    "accuracies_grid.loc[accuracies_grid['mean_test_score'].idxmax()]"
   ]
  },
  {
   "cell_type": "code",
   "execution_count": 15,
   "id": "f10ee3a3",
   "metadata": {},
   "outputs": [
    {
     "data": {
      "text/plain": [
       "0.5733333333333334"
      ]
     },
     "execution_count": 15,
     "metadata": {},
     "output_type": "execute_result"
    }
   ],
   "source": [
    "n = 15\n",
    "X = heart_disease_train[compared_categories]\n",
    "y = heart_disease_train[\"death_event\"]\n",
    "\n",
    "heart_disease_fit = make_pipeline(heart_disease_preprocessor, KNeighborsClassifier(n_neighbors = n))\n",
    "heart_disease_fit = heart_disease_fit.fit(X, y)\n",
    "\n",
    "heart_disease_test_predictions = heart_disease_test.assign(\n",
    "    predicted = heart_disease_fit.predict(heart_disease_test[compared_categories])\n",
    ")\n",
    "\n",
    "X_test = heart_disease_test_predictions[compared_categories]\n",
    "y_test = heart_disease_test_predictions[\"death_event\"]\n",
    "heart_disease_prediction_accuracy = heart_disease_fit.score(X_test, y_test)\n",
    "heart_disease_prediction_accuracy"
   ]
  },
  {
   "cell_type": "code",
   "execution_count": 16,
   "id": "aff0896f",
   "metadata": {},
   "outputs": [
    {
     "data": {
      "text/html": [
       "<div>\n",
       "<style scoped>\n",
       "    .dataframe tbody tr th:only-of-type {\n",
       "        vertical-align: middle;\n",
       "    }\n",
       "\n",
       "    .dataframe tbody tr th {\n",
       "        vertical-align: top;\n",
       "    }\n",
       "\n",
       "    .dataframe thead th {\n",
       "        text-align: right;\n",
       "    }\n",
       "</style>\n",
       "<table border=\"1\" class=\"dataframe\">\n",
       "  <thead>\n",
       "    <tr style=\"text-align: right;\">\n",
       "      <th></th>\n",
       "      <th>category_1</th>\n",
       "      <th>category_2</th>\n",
       "      <th>accuracy</th>\n",
       "    </tr>\n",
       "  </thead>\n",
       "  <tbody>\n",
       "    <tr>\n",
       "      <th>0</th>\n",
       "      <td>ejection_fraction</td>\n",
       "      <td>serum_creatinine</td>\n",
       "      <td>0.640000</td>\n",
       "    </tr>\n",
       "    <tr>\n",
       "      <th>1</th>\n",
       "      <td>ejection_fraction</td>\n",
       "      <td>platelets</td>\n",
       "      <td>0.573333</td>\n",
       "    </tr>\n",
       "  </tbody>\n",
       "</table>\n",
       "</div>"
      ],
      "text/plain": [
       "          category_1        category_2  accuracy\n",
       "0  ejection_fraction  serum_creatinine  0.640000\n",
       "1  ejection_fraction         platelets  0.573333"
      ]
     },
     "execution_count": 16,
     "metadata": {},
     "output_type": "execute_result"
    }
   ],
   "source": [
    "new_row = {'category_1' : 'ejection_fraction', 'category_2' : 'platelets', 'accuracy' : heart_disease_prediction_accuracy }\n",
    "compared_categories_dataframe.loc[len(compared_categories_dataframe)] = new_row\n",
    "compared_categories_dataframe"
   ]
  },
  {
   "cell_type": "markdown",
   "id": "5cb86b25",
   "metadata": {},
   "source": [
    "### Comparison of Ejection Fraction and Serum Sodium"
   ]
  },
  {
   "cell_type": "code",
   "execution_count": 17,
   "id": "ef0958dd",
   "metadata": {},
   "outputs": [
    {
     "data": {
      "text/plain": [
       "n_neighbors              21\n",
       "mean_test_score    0.772323\n",
       "sem_test_score     0.009687\n",
       "Name: 20, dtype: object"
      ]
     },
     "execution_count": 17,
     "metadata": {},
     "output_type": "execute_result"
    }
   ],
   "source": [
    "# the pair of variables we are now comparing\n",
    "compared_categories = ['ejection_fraction', 'serum_sodium']\n",
    "\n",
    "heart_disease_preprocessor = make_column_transformer(\n",
    "     (StandardScaler(), compared_categories),\n",
    "     remainder= 'passthrough',\n",
    "     verbose_feature_names_out=False,\n",
    ")\n",
    "\n",
    "parameter_grid = {\n",
    "    \"kneighborsclassifier__n_neighbors\": range(1, 50, 1),\n",
    "}\n",
    "\n",
    "heart_disease_pipeline = make_pipeline(heart_disease_preprocessor, KNeighborsClassifier())\n",
    "\n",
    "heart_disease_tune_grid = GridSearchCV(\n",
    "    estimator=heart_disease_pipeline,\n",
    "    param_grid=parameter_grid,\n",
    "    cv=5\n",
    ")\n",
    "\n",
    "accuracies_grid = pd.DataFrame(\n",
    "    heart_disease_tune_grid.fit(\n",
    "        heart_disease_train[compared_categories],\n",
    "        heart_disease_train[\"death_event\"]\n",
    "    ).cv_results_\n",
    ")\n",
    "\n",
    "# makes the accuracies_grid easier to read\n",
    "accuracies_grid = (\n",
    "    accuracies_grid[[\n",
    "        \"param_kneighborsclassifier__n_neighbors\",\n",
    "        \"mean_test_score\",\n",
    "        \"std_test_score\"\n",
    "    ]]\n",
    "    .assign(sem_test_score=accuracies_grid[\"std_test_score\"] / 5**(1/2))\n",
    "    .rename(columns={\"param_kneighborsclassifier__n_neighbors\": \"n_neighbors\"})\n",
    "    .drop(columns=[\"std_test_score\"])\n",
    ")\n",
    "\n",
    "# filters out the highest test score and returns the row\n",
    "accuracies_grid.loc[accuracies_grid['mean_test_score'].idxmax()]"
   ]
  },
  {
   "cell_type": "code",
   "execution_count": 18,
   "id": "4d6ca678",
   "metadata": {},
   "outputs": [
    {
     "data": {
      "text/plain": [
       "0.6"
      ]
     },
     "execution_count": 18,
     "metadata": {},
     "output_type": "execute_result"
    }
   ],
   "source": [
    "n = 21\n",
    "X = heart_disease_train[compared_categories]\n",
    "y = heart_disease_train[\"death_event\"]\n",
    "\n",
    "heart_disease_fit = make_pipeline(heart_disease_preprocessor, KNeighborsClassifier(n_neighbors = n))\n",
    "heart_disease_fit = heart_disease_fit.fit(X, y)\n",
    "\n",
    "heart_disease_test_predictions = heart_disease_test.assign(\n",
    "    predicted = heart_disease_fit.predict(heart_disease_test[compared_categories])\n",
    ")\n",
    "\n",
    "X_test = heart_disease_test_predictions[compared_categories]\n",
    "y_test = heart_disease_test_predictions[\"death_event\"]\n",
    "heart_disease_prediction_accuracy = heart_disease_fit.score(X_test, y_test)\n",
    "heart_disease_prediction_accuracy"
   ]
  },
  {
   "cell_type": "code",
   "execution_count": 19,
   "id": "16eda407",
   "metadata": {},
   "outputs": [
    {
     "data": {
      "text/html": [
       "<div>\n",
       "<style scoped>\n",
       "    .dataframe tbody tr th:only-of-type {\n",
       "        vertical-align: middle;\n",
       "    }\n",
       "\n",
       "    .dataframe tbody tr th {\n",
       "        vertical-align: top;\n",
       "    }\n",
       "\n",
       "    .dataframe thead th {\n",
       "        text-align: right;\n",
       "    }\n",
       "</style>\n",
       "<table border=\"1\" class=\"dataframe\">\n",
       "  <thead>\n",
       "    <tr style=\"text-align: right;\">\n",
       "      <th></th>\n",
       "      <th>category_1</th>\n",
       "      <th>category_2</th>\n",
       "      <th>accuracy</th>\n",
       "    </tr>\n",
       "  </thead>\n",
       "  <tbody>\n",
       "    <tr>\n",
       "      <th>0</th>\n",
       "      <td>ejection_fraction</td>\n",
       "      <td>serum_creatinine</td>\n",
       "      <td>0.640000</td>\n",
       "    </tr>\n",
       "    <tr>\n",
       "      <th>1</th>\n",
       "      <td>ejection_fraction</td>\n",
       "      <td>platelets</td>\n",
       "      <td>0.573333</td>\n",
       "    </tr>\n",
       "    <tr>\n",
       "      <th>2</th>\n",
       "      <td>ejection_fraction</td>\n",
       "      <td>serum_sodium</td>\n",
       "      <td>0.600000</td>\n",
       "    </tr>\n",
       "  </tbody>\n",
       "</table>\n",
       "</div>"
      ],
      "text/plain": [
       "          category_1        category_2  accuracy\n",
       "0  ejection_fraction  serum_creatinine  0.640000\n",
       "1  ejection_fraction         platelets  0.573333\n",
       "2  ejection_fraction      serum_sodium  0.600000"
      ]
     },
     "execution_count": 19,
     "metadata": {},
     "output_type": "execute_result"
    }
   ],
   "source": [
    "new_row = {'category_1' : 'ejection_fraction', 'category_2' : 'serum_sodium', 'accuracy' : heart_disease_prediction_accuracy }\n",
    "compared_categories_dataframe.loc[len(compared_categories_dataframe)] = new_row\n",
    "compared_categories_dataframe"
   ]
  },
  {
   "cell_type": "markdown",
   "id": "80dc75b1",
   "metadata": {},
   "source": [
    "### Comparison of Ejection Fraction and Creatinine Phosphokinase"
   ]
  },
  {
   "cell_type": "code",
   "execution_count": 20,
   "id": "9f172ffd",
   "metadata": {},
   "outputs": [
    {
     "data": {
      "text/plain": [
       "n_neighbors              10\n",
       "mean_test_score    0.781414\n",
       "sem_test_score     0.009078\n",
       "Name: 9, dtype: object"
      ]
     },
     "execution_count": 20,
     "metadata": {},
     "output_type": "execute_result"
    }
   ],
   "source": [
    "# the pair of variables we are now comparing\n",
    "compared_categories = ['ejection_fraction', 'creatinine_phosphokinase']\n",
    "\n",
    "heart_disease_preprocessor = make_column_transformer(\n",
    "     (StandardScaler(), compared_categories),\n",
    "     remainder= 'passthrough',\n",
    "     verbose_feature_names_out=False,\n",
    ")\n",
    "\n",
    "parameter_grid = {\n",
    "    \"kneighborsclassifier__n_neighbors\": range(1, 50, 1),\n",
    "}\n",
    "\n",
    "heart_disease_pipeline = make_pipeline(heart_disease_preprocessor, KNeighborsClassifier())\n",
    "\n",
    "heart_disease_tune_grid = GridSearchCV(\n",
    "    estimator=heart_disease_pipeline,\n",
    "    param_grid=parameter_grid,\n",
    "    cv=5\n",
    ")\n",
    "\n",
    "accuracies_grid = pd.DataFrame(\n",
    "    heart_disease_tune_grid.fit(\n",
    "        heart_disease_train[compared_categories],\n",
    "        heart_disease_train[\"death_event\"]\n",
    "    ).cv_results_\n",
    ")\n",
    "\n",
    "# makes the accuracies_grid easier to read\n",
    "accuracies_grid = (\n",
    "    accuracies_grid[[\n",
    "        \"param_kneighborsclassifier__n_neighbors\",\n",
    "        \"mean_test_score\",\n",
    "        \"std_test_score\"\n",
    "    ]]\n",
    "    .assign(sem_test_score=accuracies_grid[\"std_test_score\"] / 5**(1/2))\n",
    "    .rename(columns={\"param_kneighborsclassifier__n_neighbors\": \"n_neighbors\"})\n",
    "    .drop(columns=[\"std_test_score\"])\n",
    ")\n",
    "\n",
    "# filters out the highest test score and returns the row\n",
    "accuracies_grid.loc[accuracies_grid['mean_test_score'].idxmax()]"
   ]
  },
  {
   "cell_type": "code",
   "execution_count": 21,
   "id": "47cfc1a0",
   "metadata": {},
   "outputs": [
    {
     "data": {
      "text/plain": [
       "0.6133333333333333"
      ]
     },
     "execution_count": 21,
     "metadata": {},
     "output_type": "execute_result"
    }
   ],
   "source": [
    "n = 10\n",
    "X = heart_disease_train[compared_categories]\n",
    "y = heart_disease_train[\"death_event\"]\n",
    "\n",
    "heart_disease_fit = make_pipeline(heart_disease_preprocessor, KNeighborsClassifier(n_neighbors = n))\n",
    "heart_disease_fit = heart_disease_fit.fit(X, y)\n",
    "\n",
    "heart_disease_test_predictions = heart_disease_test.assign(\n",
    "    predicted = heart_disease_fit.predict(heart_disease_test[compared_categories])\n",
    ")\n",
    "\n",
    "X_test = heart_disease_test_predictions[compared_categories]\n",
    "y_test = heart_disease_test_predictions[\"death_event\"]\n",
    "heart_disease_prediction_accuracy = heart_disease_fit.score(X_test, y_test)\n",
    "heart_disease_prediction_accuracy"
   ]
  },
  {
   "cell_type": "code",
   "execution_count": 22,
   "id": "0b6b3a01",
   "metadata": {},
   "outputs": [
    {
     "data": {
      "text/html": [
       "<div>\n",
       "<style scoped>\n",
       "    .dataframe tbody tr th:only-of-type {\n",
       "        vertical-align: middle;\n",
       "    }\n",
       "\n",
       "    .dataframe tbody tr th {\n",
       "        vertical-align: top;\n",
       "    }\n",
       "\n",
       "    .dataframe thead th {\n",
       "        text-align: right;\n",
       "    }\n",
       "</style>\n",
       "<table border=\"1\" class=\"dataframe\">\n",
       "  <thead>\n",
       "    <tr style=\"text-align: right;\">\n",
       "      <th></th>\n",
       "      <th>category_1</th>\n",
       "      <th>category_2</th>\n",
       "      <th>accuracy</th>\n",
       "    </tr>\n",
       "  </thead>\n",
       "  <tbody>\n",
       "    <tr>\n",
       "      <th>0</th>\n",
       "      <td>ejection_fraction</td>\n",
       "      <td>serum_creatinine</td>\n",
       "      <td>0.640000</td>\n",
       "    </tr>\n",
       "    <tr>\n",
       "      <th>1</th>\n",
       "      <td>ejection_fraction</td>\n",
       "      <td>platelets</td>\n",
       "      <td>0.573333</td>\n",
       "    </tr>\n",
       "    <tr>\n",
       "      <th>2</th>\n",
       "      <td>ejection_fraction</td>\n",
       "      <td>serum_sodium</td>\n",
       "      <td>0.600000</td>\n",
       "    </tr>\n",
       "    <tr>\n",
       "      <th>3</th>\n",
       "      <td>ejection_fraction</td>\n",
       "      <td>creatinine_phosphokinase</td>\n",
       "      <td>0.613333</td>\n",
       "    </tr>\n",
       "  </tbody>\n",
       "</table>\n",
       "</div>"
      ],
      "text/plain": [
       "          category_1                category_2  accuracy\n",
       "0  ejection_fraction          serum_creatinine  0.640000\n",
       "1  ejection_fraction                 platelets  0.573333\n",
       "2  ejection_fraction              serum_sodium  0.600000\n",
       "3  ejection_fraction  creatinine_phosphokinase  0.613333"
      ]
     },
     "execution_count": 22,
     "metadata": {},
     "output_type": "execute_result"
    }
   ],
   "source": [
    "new_row = {'category_1' : 'ejection_fraction', 'category_2' : 'creatinine_phosphokinase', 'accuracy' : heart_disease_prediction_accuracy }\n",
    "compared_categories_dataframe.loc[len(compared_categories_dataframe)] = new_row\n",
    "compared_categories_dataframe"
   ]
  },
  {
   "cell_type": "markdown",
   "id": "98d86535",
   "metadata": {},
   "source": [
    "### Comparison of Creatinine Phosphokinase and Serum Creatinine"
   ]
  },
  {
   "cell_type": "code",
   "execution_count": 23,
   "id": "0129a00a",
   "metadata": {},
   "outputs": [
    {
     "data": {
      "text/plain": [
       "n_neighbors              14\n",
       "mean_test_score    0.749899\n",
       "sem_test_score     0.017382\n",
       "Name: 13, dtype: object"
      ]
     },
     "execution_count": 23,
     "metadata": {},
     "output_type": "execute_result"
    }
   ],
   "source": [
    "# the pair of variables we are now comparing\n",
    "compared_categories = ['creatinine_phosphokinase', 'serum_creatinine']\n",
    "\n",
    "heart_disease_preprocessor = make_column_transformer(\n",
    "     (StandardScaler(), compared_categories),\n",
    "     remainder= 'passthrough',\n",
    "     verbose_feature_names_out=False,\n",
    ")\n",
    "\n",
    "parameter_grid = {\n",
    "    \"kneighborsclassifier__n_neighbors\": range(1, 50, 1),\n",
    "}\n",
    "\n",
    "heart_disease_pipeline = make_pipeline(heart_disease_preprocessor, KNeighborsClassifier())\n",
    "\n",
    "heart_disease_tune_grid = GridSearchCV(\n",
    "    estimator=heart_disease_pipeline,\n",
    "    param_grid=parameter_grid,\n",
    "    cv=5\n",
    ")\n",
    "\n",
    "accuracies_grid = pd.DataFrame(\n",
    "    heart_disease_tune_grid.fit(\n",
    "        heart_disease_train[compared_categories],\n",
    "        heart_disease_train[\"death_event\"]\n",
    "    ).cv_results_\n",
    ")\n",
    "\n",
    "# makes the accuracies_grid easier to read\n",
    "accuracies_grid = (\n",
    "    accuracies_grid[[\n",
    "        \"param_kneighborsclassifier__n_neighbors\",\n",
    "        \"mean_test_score\",\n",
    "        \"std_test_score\"\n",
    "    ]]\n",
    "    .assign(sem_test_score=accuracies_grid[\"std_test_score\"] / 5**(1/2))\n",
    "    .rename(columns={\"param_kneighborsclassifier__n_neighbors\": \"n_neighbors\"})\n",
    "    .drop(columns=[\"std_test_score\"])\n",
    ")\n",
    "\n",
    "# filters out the highest test score and returns the row\n",
    "accuracies_grid.loc[accuracies_grid['mean_test_score'].idxmax()]"
   ]
  },
  {
   "cell_type": "code",
   "execution_count": 24,
   "id": "0c081dc4",
   "metadata": {},
   "outputs": [
    {
     "data": {
      "text/plain": [
       "0.5866666666666667"
      ]
     },
     "execution_count": 24,
     "metadata": {},
     "output_type": "execute_result"
    }
   ],
   "source": [
    "n = 14\n",
    "X = heart_disease_train[compared_categories]\n",
    "y = heart_disease_train[\"death_event\"]\n",
    "\n",
    "heart_disease_fit = make_pipeline(heart_disease_preprocessor, KNeighborsClassifier(n_neighbors = n))\n",
    "heart_disease_fit = heart_disease_fit.fit(X, y)\n",
    "\n",
    "heart_disease_test_predictions = heart_disease_test.assign(\n",
    "    predicted = heart_disease_fit.predict(heart_disease_test[compared_categories])\n",
    ")\n",
    "\n",
    "X_test = heart_disease_test_predictions[compared_categories]\n",
    "y_test = heart_disease_test_predictions[\"death_event\"]\n",
    "heart_disease_prediction_accuracy = heart_disease_fit.score(X_test, y_test)\n",
    "heart_disease_prediction_accuracy"
   ]
  },
  {
   "cell_type": "code",
   "execution_count": 25,
   "id": "4d4a5f48",
   "metadata": {},
   "outputs": [
    {
     "data": {
      "text/html": [
       "<div>\n",
       "<style scoped>\n",
       "    .dataframe tbody tr th:only-of-type {\n",
       "        vertical-align: middle;\n",
       "    }\n",
       "\n",
       "    .dataframe tbody tr th {\n",
       "        vertical-align: top;\n",
       "    }\n",
       "\n",
       "    .dataframe thead th {\n",
       "        text-align: right;\n",
       "    }\n",
       "</style>\n",
       "<table border=\"1\" class=\"dataframe\">\n",
       "  <thead>\n",
       "    <tr style=\"text-align: right;\">\n",
       "      <th></th>\n",
       "      <th>category_1</th>\n",
       "      <th>category_2</th>\n",
       "      <th>accuracy</th>\n",
       "    </tr>\n",
       "  </thead>\n",
       "  <tbody>\n",
       "    <tr>\n",
       "      <th>0</th>\n",
       "      <td>ejection_fraction</td>\n",
       "      <td>serum_creatinine</td>\n",
       "      <td>0.640000</td>\n",
       "    </tr>\n",
       "    <tr>\n",
       "      <th>1</th>\n",
       "      <td>ejection_fraction</td>\n",
       "      <td>platelets</td>\n",
       "      <td>0.573333</td>\n",
       "    </tr>\n",
       "    <tr>\n",
       "      <th>2</th>\n",
       "      <td>ejection_fraction</td>\n",
       "      <td>serum_sodium</td>\n",
       "      <td>0.600000</td>\n",
       "    </tr>\n",
       "    <tr>\n",
       "      <th>3</th>\n",
       "      <td>ejection_fraction</td>\n",
       "      <td>creatinine_phosphokinase</td>\n",
       "      <td>0.613333</td>\n",
       "    </tr>\n",
       "    <tr>\n",
       "      <th>4</th>\n",
       "      <td>creatine_phosphokinase</td>\n",
       "      <td>serum_creatine</td>\n",
       "      <td>0.586667</td>\n",
       "    </tr>\n",
       "  </tbody>\n",
       "</table>\n",
       "</div>"
      ],
      "text/plain": [
       "               category_1                category_2  accuracy\n",
       "0       ejection_fraction          serum_creatinine  0.640000\n",
       "1       ejection_fraction                 platelets  0.573333\n",
       "2       ejection_fraction              serum_sodium  0.600000\n",
       "3       ejection_fraction  creatinine_phosphokinase  0.613333\n",
       "4  creatine_phosphokinase            serum_creatine  0.586667"
      ]
     },
     "execution_count": 25,
     "metadata": {},
     "output_type": "execute_result"
    }
   ],
   "source": [
    "new_row = {'category_1' : 'creatine_phosphokinase', 'category_2' : 'serum_creatine', 'accuracy' : heart_disease_prediction_accuracy }\n",
    "compared_categories_dataframe.loc[len(compared_categories_dataframe)] = new_row\n",
    "compared_categories_dataframe"
   ]
  },
  {
   "cell_type": "markdown",
   "id": "ad3d2f1e",
   "metadata": {},
   "source": [
    "### Comparison of Platelets with Serum Creatinine"
   ]
  },
  {
   "cell_type": "code",
   "execution_count": 26,
   "id": "caf09894",
   "metadata": {},
   "outputs": [
    {
     "data": {
      "text/plain": [
       "n_neighbors               7\n",
       "mean_test_score    0.731919\n",
       "sem_test_score     0.024886\n",
       "Name: 6, dtype: object"
      ]
     },
     "execution_count": 26,
     "metadata": {},
     "output_type": "execute_result"
    }
   ],
   "source": [
    "# the pair of variables we are now comparing\n",
    "compared_categories = ['platelets', 'serum_creatinine']\n",
    "\n",
    "heart_disease_preprocessor = make_column_transformer(\n",
    "     (StandardScaler(), compared_categories),\n",
    "     remainder= 'passthrough',\n",
    "     verbose_feature_names_out=False,\n",
    ")\n",
    "\n",
    "parameter_grid = {\n",
    "    \"kneighborsclassifier__n_neighbors\": range(1, 50, 1),\n",
    "}\n",
    "\n",
    "heart_disease_pipeline = make_pipeline(heart_disease_preprocessor, KNeighborsClassifier())\n",
    "\n",
    "heart_disease_tune_grid = GridSearchCV(\n",
    "    estimator=heart_disease_pipeline,\n",
    "    param_grid=parameter_grid,\n",
    "    cv=5\n",
    ")\n",
    "\n",
    "accuracies_grid = pd.DataFrame(\n",
    "    heart_disease_tune_grid.fit(\n",
    "        heart_disease_train[compared_categories],\n",
    "        heart_disease_train[\"death_event\"]\n",
    "    ).cv_results_\n",
    ")\n",
    "\n",
    "# makes the accuracies_grid easier to read\n",
    "accuracies_grid = (\n",
    "    accuracies_grid[[\n",
    "        \"param_kneighborsclassifier__n_neighbors\",\n",
    "        \"mean_test_score\",\n",
    "        \"std_test_score\"\n",
    "    ]]\n",
    "    .assign(sem_test_score=accuracies_grid[\"std_test_score\"] / 5**(1/2))\n",
    "    .rename(columns={\"param_kneighborsclassifier__n_neighbors\": \"n_neighbors\"})\n",
    "    .drop(columns=[\"std_test_score\"])\n",
    ")\n",
    "\n",
    "# filters out the highest test score and returns the row\n",
    "accuracies_grid.loc[accuracies_grid['mean_test_score'].idxmax()]"
   ]
  },
  {
   "cell_type": "code",
   "execution_count": 27,
   "id": "826112b7",
   "metadata": {},
   "outputs": [
    {
     "data": {
      "text/plain": [
       "0.6666666666666666"
      ]
     },
     "execution_count": 27,
     "metadata": {},
     "output_type": "execute_result"
    }
   ],
   "source": [
    "n = 7\n",
    "X = heart_disease_train[compared_categories]\n",
    "y = heart_disease_train[\"death_event\"]\n",
    "\n",
    "heart_disease_fit = make_pipeline(heart_disease_preprocessor, KNeighborsClassifier(n_neighbors = n))\n",
    "heart_disease_fit = heart_disease_fit.fit(X, y)\n",
    "\n",
    "heart_disease_test_predictions = heart_disease_test.assign(\n",
    "    predicted = heart_disease_fit.predict(heart_disease_test[compared_categories])\n",
    ")\n",
    "\n",
    "X_test = heart_disease_test_predictions[compared_categories]\n",
    "y_test = heart_disease_test_predictions[\"death_event\"]\n",
    "heart_disease_prediction_accuracy = heart_disease_fit.score(X_test, y_test)\n",
    "heart_disease_prediction_accuracy"
   ]
  },
  {
   "cell_type": "code",
   "execution_count": 28,
   "id": "72878740",
   "metadata": {},
   "outputs": [
    {
     "data": {
      "text/html": [
       "<div>\n",
       "<style scoped>\n",
       "    .dataframe tbody tr th:only-of-type {\n",
       "        vertical-align: middle;\n",
       "    }\n",
       "\n",
       "    .dataframe tbody tr th {\n",
       "        vertical-align: top;\n",
       "    }\n",
       "\n",
       "    .dataframe thead th {\n",
       "        text-align: right;\n",
       "    }\n",
       "</style>\n",
       "<table border=\"1\" class=\"dataframe\">\n",
       "  <thead>\n",
       "    <tr style=\"text-align: right;\">\n",
       "      <th></th>\n",
       "      <th>category_1</th>\n",
       "      <th>category_2</th>\n",
       "      <th>accuracy</th>\n",
       "    </tr>\n",
       "  </thead>\n",
       "  <tbody>\n",
       "    <tr>\n",
       "      <th>0</th>\n",
       "      <td>ejection_fraction</td>\n",
       "      <td>serum_creatinine</td>\n",
       "      <td>0.640000</td>\n",
       "    </tr>\n",
       "    <tr>\n",
       "      <th>1</th>\n",
       "      <td>ejection_fraction</td>\n",
       "      <td>platelets</td>\n",
       "      <td>0.573333</td>\n",
       "    </tr>\n",
       "    <tr>\n",
       "      <th>2</th>\n",
       "      <td>ejection_fraction</td>\n",
       "      <td>serum_sodium</td>\n",
       "      <td>0.600000</td>\n",
       "    </tr>\n",
       "    <tr>\n",
       "      <th>3</th>\n",
       "      <td>ejection_fraction</td>\n",
       "      <td>creatinine_phosphokinase</td>\n",
       "      <td>0.613333</td>\n",
       "    </tr>\n",
       "    <tr>\n",
       "      <th>4</th>\n",
       "      <td>creatine_phosphokinase</td>\n",
       "      <td>serum_creatine</td>\n",
       "      <td>0.586667</td>\n",
       "    </tr>\n",
       "    <tr>\n",
       "      <th>5</th>\n",
       "      <td>platelets</td>\n",
       "      <td>serum_creatinine</td>\n",
       "      <td>0.666667</td>\n",
       "    </tr>\n",
       "  </tbody>\n",
       "</table>\n",
       "</div>"
      ],
      "text/plain": [
       "               category_1                category_2  accuracy\n",
       "0       ejection_fraction          serum_creatinine  0.640000\n",
       "1       ejection_fraction                 platelets  0.573333\n",
       "2       ejection_fraction              serum_sodium  0.600000\n",
       "3       ejection_fraction  creatinine_phosphokinase  0.613333\n",
       "4  creatine_phosphokinase            serum_creatine  0.586667\n",
       "5               platelets          serum_creatinine  0.666667"
      ]
     },
     "execution_count": 28,
     "metadata": {},
     "output_type": "execute_result"
    }
   ],
   "source": [
    "new_row = {'category_1' : 'platelets', 'category_2' : 'serum_creatinine', 'accuracy' : heart_disease_prediction_accuracy }\n",
    "compared_categories_dataframe.loc[len(compared_categories_dataframe)] = new_row\n",
    "compared_categories_dataframe"
   ]
  },
  {
   "cell_type": "markdown",
   "id": "94bb38ff",
   "metadata": {},
   "source": [
    "### Comparison of Serum Creatinine and Serum Sodium"
   ]
  },
  {
   "cell_type": "code",
   "execution_count": 29,
   "id": "022210c7",
   "metadata": {},
   "outputs": [
    {
     "data": {
      "text/plain": [
       "n_neighbors               7\n",
       "mean_test_score    0.741212\n",
       "sem_test_score     0.032815\n",
       "Name: 6, dtype: object"
      ]
     },
     "execution_count": 29,
     "metadata": {},
     "output_type": "execute_result"
    }
   ],
   "source": [
    "# the pair of variables we are now comparing\n",
    "compared_categories = ['serum_creatinine', 'serum_sodium']\n",
    "\n",
    "heart_disease_preprocessor = make_column_transformer(\n",
    "     (StandardScaler(), compared_categories),\n",
    "     remainder= 'passthrough',\n",
    "     verbose_feature_names_out=False,\n",
    ")\n",
    "\n",
    "parameter_grid = {\n",
    "    \"kneighborsclassifier__n_neighbors\": range(1, 50, 1),\n",
    "}\n",
    "\n",
    "heart_disease_pipeline = make_pipeline(heart_disease_preprocessor, KNeighborsClassifier())\n",
    "\n",
    "heart_disease_tune_grid = GridSearchCV(\n",
    "    estimator=heart_disease_pipeline,\n",
    "    param_grid=parameter_grid,\n",
    "    cv=5\n",
    ")\n",
    "\n",
    "accuracies_grid = pd.DataFrame(\n",
    "    heart_disease_tune_grid.fit(\n",
    "        heart_disease_train[compared_categories],\n",
    "        heart_disease_train[\"death_event\"]\n",
    "    ).cv_results_\n",
    ")\n",
    "\n",
    "# makes the accuracies_grid easier to read\n",
    "accuracies_grid = (\n",
    "    accuracies_grid[[\n",
    "        \"param_kneighborsclassifier__n_neighbors\",\n",
    "        \"mean_test_score\",\n",
    "        \"std_test_score\"\n",
    "    ]]\n",
    "    .assign(sem_test_score=accuracies_grid[\"std_test_score\"] / 5**(1/2))\n",
    "    .rename(columns={\"param_kneighborsclassifier__n_neighbors\": \"n_neighbors\"})\n",
    "    .drop(columns=[\"std_test_score\"])\n",
    ")\n",
    "\n",
    "# filters out the highest test score and returns the row\n",
    "accuracies_grid.loc[accuracies_grid['mean_test_score'].idxmax()]"
   ]
  },
  {
   "cell_type": "code",
   "execution_count": 30,
   "id": "9214e9f0",
   "metadata": {},
   "outputs": [
    {
     "data": {
      "text/plain": [
       "0.7066666666666667"
      ]
     },
     "execution_count": 30,
     "metadata": {},
     "output_type": "execute_result"
    }
   ],
   "source": [
    "n = 7\n",
    "X = heart_disease_train[compared_categories]\n",
    "y = heart_disease_train[\"death_event\"]\n",
    "\n",
    "heart_disease_fit = make_pipeline(heart_disease_preprocessor, KNeighborsClassifier(n_neighbors = n))\n",
    "heart_disease_fit = heart_disease_fit.fit(X, y)\n",
    "\n",
    "heart_disease_test_predictions = heart_disease_test.assign(\n",
    "    predicted = heart_disease_fit.predict(heart_disease_test[compared_categories])\n",
    ")\n",
    "\n",
    "X_test = heart_disease_test_predictions[compared_categories]\n",
    "y_test = heart_disease_test_predictions[\"death_event\"]\n",
    "heart_disease_prediction_accuracy = heart_disease_fit.score(X_test, y_test)\n",
    "heart_disease_prediction_accuracy"
   ]
  },
  {
   "cell_type": "code",
   "execution_count": 31,
   "id": "d906095f",
   "metadata": {},
   "outputs": [
    {
     "data": {
      "text/html": [
       "<div>\n",
       "<style scoped>\n",
       "    .dataframe tbody tr th:only-of-type {\n",
       "        vertical-align: middle;\n",
       "    }\n",
       "\n",
       "    .dataframe tbody tr th {\n",
       "        vertical-align: top;\n",
       "    }\n",
       "\n",
       "    .dataframe thead th {\n",
       "        text-align: right;\n",
       "    }\n",
       "</style>\n",
       "<table border=\"1\" class=\"dataframe\">\n",
       "  <thead>\n",
       "    <tr style=\"text-align: right;\">\n",
       "      <th></th>\n",
       "      <th>category_1</th>\n",
       "      <th>category_2</th>\n",
       "      <th>accuracy</th>\n",
       "    </tr>\n",
       "  </thead>\n",
       "  <tbody>\n",
       "    <tr>\n",
       "      <th>0</th>\n",
       "      <td>ejection_fraction</td>\n",
       "      <td>serum_creatinine</td>\n",
       "      <td>0.640000</td>\n",
       "    </tr>\n",
       "    <tr>\n",
       "      <th>1</th>\n",
       "      <td>ejection_fraction</td>\n",
       "      <td>platelets</td>\n",
       "      <td>0.573333</td>\n",
       "    </tr>\n",
       "    <tr>\n",
       "      <th>2</th>\n",
       "      <td>ejection_fraction</td>\n",
       "      <td>serum_sodium</td>\n",
       "      <td>0.600000</td>\n",
       "    </tr>\n",
       "    <tr>\n",
       "      <th>3</th>\n",
       "      <td>ejection_fraction</td>\n",
       "      <td>creatinine_phosphokinase</td>\n",
       "      <td>0.613333</td>\n",
       "    </tr>\n",
       "    <tr>\n",
       "      <th>4</th>\n",
       "      <td>creatine_phosphokinase</td>\n",
       "      <td>serum_creatine</td>\n",
       "      <td>0.586667</td>\n",
       "    </tr>\n",
       "    <tr>\n",
       "      <th>5</th>\n",
       "      <td>platelets</td>\n",
       "      <td>serum_creatinine</td>\n",
       "      <td>0.666667</td>\n",
       "    </tr>\n",
       "    <tr>\n",
       "      <th>6</th>\n",
       "      <td>serum_creatinine</td>\n",
       "      <td>serum_sodium</td>\n",
       "      <td>0.706667</td>\n",
       "    </tr>\n",
       "  </tbody>\n",
       "</table>\n",
       "</div>"
      ],
      "text/plain": [
       "               category_1                category_2  accuracy\n",
       "0       ejection_fraction          serum_creatinine  0.640000\n",
       "1       ejection_fraction                 platelets  0.573333\n",
       "2       ejection_fraction              serum_sodium  0.600000\n",
       "3       ejection_fraction  creatinine_phosphokinase  0.613333\n",
       "4  creatine_phosphokinase            serum_creatine  0.586667\n",
       "5               platelets          serum_creatinine  0.666667\n",
       "6        serum_creatinine              serum_sodium  0.706667"
      ]
     },
     "execution_count": 31,
     "metadata": {},
     "output_type": "execute_result"
    }
   ],
   "source": [
    "new_row = {'category_1' : 'serum_creatinine', 'category_2' : 'serum_sodium', 'accuracy' : heart_disease_prediction_accuracy }\n",
    "compared_categories_dataframe.loc[len(compared_categories_dataframe)] = new_row\n",
    "compared_categories_dataframe"
   ]
  },
  {
   "cell_type": "markdown",
   "id": "1be6421a",
   "metadata": {},
   "source": [
    "### Comparison of Creatinine Phosphokinase and Platelets"
   ]
  },
  {
   "cell_type": "code",
   "execution_count": 32,
   "id": "275b1ab9",
   "metadata": {},
   "outputs": [
    {
     "data": {
      "text/plain": [
       "n_neighbors              14\n",
       "mean_test_score    0.714242\n",
       "sem_test_score     0.004418\n",
       "Name: 13, dtype: object"
      ]
     },
     "execution_count": 32,
     "metadata": {},
     "output_type": "execute_result"
    }
   ],
   "source": [
    "# the pair of variables we are now comparing\n",
    "compared_categories = ['creatinine_phosphokinase', 'platelets']\n",
    "\n",
    "heart_disease_preprocessor = make_column_transformer(\n",
    "     (StandardScaler(), compared_categories),\n",
    "     remainder= 'passthrough',\n",
    "     verbose_feature_names_out=False,\n",
    ")\n",
    "\n",
    "parameter_grid = {\n",
    "    \"kneighborsclassifier__n_neighbors\": range(1, 50, 1),\n",
    "}\n",
    "\n",
    "heart_disease_pipeline = make_pipeline(heart_disease_preprocessor, KNeighborsClassifier())\n",
    "\n",
    "heart_disease_tune_grid = GridSearchCV(\n",
    "    estimator=heart_disease_pipeline,\n",
    "    param_grid=parameter_grid,\n",
    "    cv=5\n",
    ")\n",
    "\n",
    "accuracies_grid = pd.DataFrame(\n",
    "    heart_disease_tune_grid.fit(\n",
    "        heart_disease_train[compared_categories],\n",
    "        heart_disease_train[\"death_event\"]\n",
    "    ).cv_results_\n",
    ")\n",
    "\n",
    "# makes the accuracies_grid easier to read\n",
    "accuracies_grid = (\n",
    "    accuracies_grid[[\n",
    "        \"param_kneighborsclassifier__n_neighbors\",\n",
    "        \"mean_test_score\",\n",
    "        \"std_test_score\"\n",
    "    ]]\n",
    "    .assign(sem_test_score=accuracies_grid[\"std_test_score\"] / 5**(1/2))\n",
    "    .rename(columns={\"param_kneighborsclassifier__n_neighbors\": \"n_neighbors\"})\n",
    "    .drop(columns=[\"std_test_score\"])\n",
    ")\n",
    "\n",
    "# filters out the highest test score and returns the row\n",
    "accuracies_grid.loc[accuracies_grid['mean_test_score'].idxmax()]"
   ]
  },
  {
   "cell_type": "code",
   "execution_count": 33,
   "id": "5c022c44",
   "metadata": {},
   "outputs": [
    {
     "data": {
      "text/plain": [
       "0.5466666666666666"
      ]
     },
     "execution_count": 33,
     "metadata": {},
     "output_type": "execute_result"
    }
   ],
   "source": [
    "n = 14\n",
    "X = heart_disease_train[compared_categories]\n",
    "y = heart_disease_train[\"death_event\"]\n",
    "\n",
    "heart_disease_fit = make_pipeline(heart_disease_preprocessor, KNeighborsClassifier(n_neighbors = n))\n",
    "heart_disease_fit = heart_disease_fit.fit(X, y)\n",
    "\n",
    "heart_disease_test_predictions = heart_disease_test.assign(\n",
    "    predicted = heart_disease_fit.predict(heart_disease_test[compared_categories])\n",
    ")\n",
    "\n",
    "X_test = heart_disease_test_predictions[compared_categories]\n",
    "y_test = heart_disease_test_predictions[\"death_event\"]\n",
    "heart_disease_prediction_accuracy = heart_disease_fit.score(X_test, y_test)\n",
    "heart_disease_prediction_accuracy"
   ]
  },
  {
   "cell_type": "code",
   "execution_count": 34,
   "id": "4cebcc8c",
   "metadata": {},
   "outputs": [
    {
     "data": {
      "text/html": [
       "<div>\n",
       "<style scoped>\n",
       "    .dataframe tbody tr th:only-of-type {\n",
       "        vertical-align: middle;\n",
       "    }\n",
       "\n",
       "    .dataframe tbody tr th {\n",
       "        vertical-align: top;\n",
       "    }\n",
       "\n",
       "    .dataframe thead th {\n",
       "        text-align: right;\n",
       "    }\n",
       "</style>\n",
       "<table border=\"1\" class=\"dataframe\">\n",
       "  <thead>\n",
       "    <tr style=\"text-align: right;\">\n",
       "      <th></th>\n",
       "      <th>category_1</th>\n",
       "      <th>category_2</th>\n",
       "      <th>accuracy</th>\n",
       "    </tr>\n",
       "  </thead>\n",
       "  <tbody>\n",
       "    <tr>\n",
       "      <th>0</th>\n",
       "      <td>ejection_fraction</td>\n",
       "      <td>serum_creatinine</td>\n",
       "      <td>0.640000</td>\n",
       "    </tr>\n",
       "    <tr>\n",
       "      <th>1</th>\n",
       "      <td>ejection_fraction</td>\n",
       "      <td>platelets</td>\n",
       "      <td>0.573333</td>\n",
       "    </tr>\n",
       "    <tr>\n",
       "      <th>2</th>\n",
       "      <td>ejection_fraction</td>\n",
       "      <td>serum_sodium</td>\n",
       "      <td>0.600000</td>\n",
       "    </tr>\n",
       "    <tr>\n",
       "      <th>3</th>\n",
       "      <td>ejection_fraction</td>\n",
       "      <td>creatinine_phosphokinase</td>\n",
       "      <td>0.613333</td>\n",
       "    </tr>\n",
       "    <tr>\n",
       "      <th>4</th>\n",
       "      <td>creatine_phosphokinase</td>\n",
       "      <td>serum_creatine</td>\n",
       "      <td>0.586667</td>\n",
       "    </tr>\n",
       "    <tr>\n",
       "      <th>5</th>\n",
       "      <td>platelets</td>\n",
       "      <td>serum_creatinine</td>\n",
       "      <td>0.666667</td>\n",
       "    </tr>\n",
       "    <tr>\n",
       "      <th>6</th>\n",
       "      <td>serum_creatinine</td>\n",
       "      <td>serum_sodium</td>\n",
       "      <td>0.706667</td>\n",
       "    </tr>\n",
       "    <tr>\n",
       "      <th>7</th>\n",
       "      <td>creatinine_phosphokinase</td>\n",
       "      <td>platelets</td>\n",
       "      <td>0.546667</td>\n",
       "    </tr>\n",
       "  </tbody>\n",
       "</table>\n",
       "</div>"
      ],
      "text/plain": [
       "                 category_1                category_2  accuracy\n",
       "0         ejection_fraction          serum_creatinine  0.640000\n",
       "1         ejection_fraction                 platelets  0.573333\n",
       "2         ejection_fraction              serum_sodium  0.600000\n",
       "3         ejection_fraction  creatinine_phosphokinase  0.613333\n",
       "4    creatine_phosphokinase            serum_creatine  0.586667\n",
       "5                 platelets          serum_creatinine  0.666667\n",
       "6          serum_creatinine              serum_sodium  0.706667\n",
       "7  creatinine_phosphokinase                 platelets  0.546667"
      ]
     },
     "execution_count": 34,
     "metadata": {},
     "output_type": "execute_result"
    }
   ],
   "source": [
    "new_row = {'category_1' : 'creatinine_phosphokinase', 'category_2' : 'platelets', 'accuracy' : heart_disease_prediction_accuracy }\n",
    "compared_categories_dataframe.loc[len(compared_categories_dataframe)] = new_row\n",
    "compared_categories_dataframe"
   ]
  },
  {
   "cell_type": "markdown",
   "id": "fca34b4b",
   "metadata": {},
   "source": [
    "### Comparison of Creatinine Phosphokinase and Serum Sodium"
   ]
  },
  {
   "cell_type": "code",
   "execution_count": 35,
   "id": "d6096c91",
   "metadata": {},
   "outputs": [
    {
     "data": {
      "text/plain": [
       "n_neighbors              17\n",
       "mean_test_score    0.723434\n",
       "sem_test_score     0.012688\n",
       "Name: 16, dtype: object"
      ]
     },
     "execution_count": 35,
     "metadata": {},
     "output_type": "execute_result"
    }
   ],
   "source": [
    "# the pair of variables we are now comparing\n",
    "compared_categories = ['creatinine_phosphokinase', 'serum_sodium']\n",
    "\n",
    "heart_disease_preprocessor = make_column_transformer(\n",
    "     (StandardScaler(), compared_categories),\n",
    "     remainder= 'passthrough',\n",
    "     verbose_feature_names_out=False,\n",
    ")\n",
    "\n",
    "parameter_grid = {\n",
    "    \"kneighborsclassifier__n_neighbors\": range(1, 50, 1),\n",
    "}\n",
    "\n",
    "heart_disease_pipeline = make_pipeline(heart_disease_preprocessor, KNeighborsClassifier())\n",
    "\n",
    "heart_disease_tune_grid = GridSearchCV(\n",
    "    estimator=heart_disease_pipeline,\n",
    "    param_grid=parameter_grid,\n",
    "    cv=5\n",
    ")\n",
    "\n",
    "accuracies_grid = pd.DataFrame(\n",
    "    heart_disease_tune_grid.fit(\n",
    "        heart_disease_train[compared_categories],\n",
    "        heart_disease_train[\"death_event\"]\n",
    "    ).cv_results_\n",
    ")\n",
    "\n",
    "# makes the accuracies_grid easier to read\n",
    "accuracies_grid = (\n",
    "    accuracies_grid[[\n",
    "        \"param_kneighborsclassifier__n_neighbors\",\n",
    "        \"mean_test_score\",\n",
    "        \"std_test_score\"\n",
    "    ]]\n",
    "    .assign(sem_test_score=accuracies_grid[\"std_test_score\"] / 5**(1/2))\n",
    "    .rename(columns={\"param_kneighborsclassifier__n_neighbors\": \"n_neighbors\"})\n",
    "    .drop(columns=[\"std_test_score\"])\n",
    ")\n",
    "\n",
    "# filters out the highest test score and returns the row\n",
    "accuracies_grid.loc[accuracies_grid['mean_test_score'].idxmax()]"
   ]
  },
  {
   "cell_type": "code",
   "execution_count": 36,
   "id": "d3198c68",
   "metadata": {},
   "outputs": [
    {
     "data": {
      "text/plain": [
       "0.6266666666666667"
      ]
     },
     "execution_count": 36,
     "metadata": {},
     "output_type": "execute_result"
    }
   ],
   "source": [
    "n = 17\n",
    "X = heart_disease_train[compared_categories]\n",
    "y = heart_disease_train[\"death_event\"]\n",
    "\n",
    "heart_disease_fit = make_pipeline(heart_disease_preprocessor, KNeighborsClassifier(n_neighbors = n))\n",
    "heart_disease_fit = heart_disease_fit.fit(X, y)\n",
    "\n",
    "heart_disease_test_predictions = heart_disease_test.assign(\n",
    "    predicted = heart_disease_fit.predict(heart_disease_test[compared_categories])\n",
    ")\n",
    "\n",
    "X_test = heart_disease_test_predictions[compared_categories]\n",
    "y_test = heart_disease_test_predictions[\"death_event\"]\n",
    "heart_disease_prediction_accuracy = heart_disease_fit.score(X_test, y_test)\n",
    "heart_disease_prediction_accuracy"
   ]
  },
  {
   "cell_type": "code",
   "execution_count": 37,
   "id": "929a62cc",
   "metadata": {},
   "outputs": [
    {
     "data": {
      "text/html": [
       "<div>\n",
       "<style scoped>\n",
       "    .dataframe tbody tr th:only-of-type {\n",
       "        vertical-align: middle;\n",
       "    }\n",
       "\n",
       "    .dataframe tbody tr th {\n",
       "        vertical-align: top;\n",
       "    }\n",
       "\n",
       "    .dataframe thead th {\n",
       "        text-align: right;\n",
       "    }\n",
       "</style>\n",
       "<table border=\"1\" class=\"dataframe\">\n",
       "  <thead>\n",
       "    <tr style=\"text-align: right;\">\n",
       "      <th></th>\n",
       "      <th>category_1</th>\n",
       "      <th>category_2</th>\n",
       "      <th>accuracy</th>\n",
       "    </tr>\n",
       "  </thead>\n",
       "  <tbody>\n",
       "    <tr>\n",
       "      <th>0</th>\n",
       "      <td>ejection_fraction</td>\n",
       "      <td>serum_creatinine</td>\n",
       "      <td>0.640000</td>\n",
       "    </tr>\n",
       "    <tr>\n",
       "      <th>1</th>\n",
       "      <td>ejection_fraction</td>\n",
       "      <td>platelets</td>\n",
       "      <td>0.573333</td>\n",
       "    </tr>\n",
       "    <tr>\n",
       "      <th>2</th>\n",
       "      <td>ejection_fraction</td>\n",
       "      <td>serum_sodium</td>\n",
       "      <td>0.600000</td>\n",
       "    </tr>\n",
       "    <tr>\n",
       "      <th>3</th>\n",
       "      <td>ejection_fraction</td>\n",
       "      <td>creatinine_phosphokinase</td>\n",
       "      <td>0.613333</td>\n",
       "    </tr>\n",
       "    <tr>\n",
       "      <th>4</th>\n",
       "      <td>creatine_phosphokinase</td>\n",
       "      <td>serum_creatine</td>\n",
       "      <td>0.586667</td>\n",
       "    </tr>\n",
       "    <tr>\n",
       "      <th>5</th>\n",
       "      <td>platelets</td>\n",
       "      <td>serum_creatinine</td>\n",
       "      <td>0.666667</td>\n",
       "    </tr>\n",
       "    <tr>\n",
       "      <th>6</th>\n",
       "      <td>serum_creatinine</td>\n",
       "      <td>serum_sodium</td>\n",
       "      <td>0.706667</td>\n",
       "    </tr>\n",
       "    <tr>\n",
       "      <th>7</th>\n",
       "      <td>creatinine_phosphokinase</td>\n",
       "      <td>platelets</td>\n",
       "      <td>0.546667</td>\n",
       "    </tr>\n",
       "    <tr>\n",
       "      <th>8</th>\n",
       "      <td>creatinine_phosphokinase</td>\n",
       "      <td>serum_sodium</td>\n",
       "      <td>0.626667</td>\n",
       "    </tr>\n",
       "  </tbody>\n",
       "</table>\n",
       "</div>"
      ],
      "text/plain": [
       "                 category_1                category_2  accuracy\n",
       "0         ejection_fraction          serum_creatinine  0.640000\n",
       "1         ejection_fraction                 platelets  0.573333\n",
       "2         ejection_fraction              serum_sodium  0.600000\n",
       "3         ejection_fraction  creatinine_phosphokinase  0.613333\n",
       "4    creatine_phosphokinase            serum_creatine  0.586667\n",
       "5                 platelets          serum_creatinine  0.666667\n",
       "6          serum_creatinine              serum_sodium  0.706667\n",
       "7  creatinine_phosphokinase                 platelets  0.546667\n",
       "8  creatinine_phosphokinase              serum_sodium  0.626667"
      ]
     },
     "execution_count": 37,
     "metadata": {},
     "output_type": "execute_result"
    }
   ],
   "source": [
    "new_row = {'category_1' : 'creatinine_phosphokinase', 'category_2' : 'serum_sodium', 'accuracy' : heart_disease_prediction_accuracy }\n",
    "compared_categories_dataframe.loc[len(compared_categories_dataframe)] = new_row\n",
    "compared_categories_dataframe"
   ]
  },
  {
   "cell_type": "markdown",
   "id": "ebb02214",
   "metadata": {},
   "source": [
    "### Comparison of Platelets and Serum Sodium"
   ]
  },
  {
   "cell_type": "code",
   "execution_count": 38,
   "id": "b7f5b6cc",
   "metadata": {},
   "outputs": [
    {
     "data": {
      "text/plain": [
       "n_neighbors              20\n",
       "mean_test_score    0.714242\n",
       "sem_test_score     0.009926\n",
       "Name: 19, dtype: object"
      ]
     },
     "execution_count": 38,
     "metadata": {},
     "output_type": "execute_result"
    }
   ],
   "source": [
    "# the pair of variables we are now comparing\n",
    "compared_categories = ['platelets', 'serum_sodium']\n",
    "\n",
    "heart_disease_preprocessor = make_column_transformer(\n",
    "     (StandardScaler(), compared_categories),\n",
    "     remainder= 'passthrough',\n",
    "     verbose_feature_names_out=False,\n",
    ")\n",
    "\n",
    "parameter_grid = {\n",
    "    \"kneighborsclassifier__n_neighbors\": range(1, 50, 1),\n",
    "}\n",
    "\n",
    "heart_disease_pipeline = make_pipeline(heart_disease_preprocessor, KNeighborsClassifier())\n",
    "\n",
    "heart_disease_tune_grid = GridSearchCV(\n",
    "    estimator=heart_disease_pipeline,\n",
    "    param_grid=parameter_grid,\n",
    "    cv=5\n",
    ")\n",
    "\n",
    "accuracies_grid = pd.DataFrame(\n",
    "    heart_disease_tune_grid.fit(\n",
    "        heart_disease_train[compared_categories],\n",
    "        heart_disease_train[\"death_event\"]\n",
    "    ).cv_results_\n",
    ")\n",
    "\n",
    "# makes the accuracies_grid easier to read\n",
    "accuracies_grid = (\n",
    "    accuracies_grid[[\n",
    "        \"param_kneighborsclassifier__n_neighbors\",\n",
    "        \"mean_test_score\",\n",
    "        \"std_test_score\"\n",
    "    ]]\n",
    "    .assign(sem_test_score=accuracies_grid[\"std_test_score\"] / 5**(1/2))\n",
    "    .rename(columns={\"param_kneighborsclassifier__n_neighbors\": \"n_neighbors\"})\n",
    "    .drop(columns=[\"std_test_score\"])\n",
    ")\n",
    "\n",
    "# filters out the highest test score and returns the row\n",
    "accuracies_grid.loc[accuracies_grid['mean_test_score'].idxmax()]"
   ]
  },
  {
   "cell_type": "code",
   "execution_count": 39,
   "id": "7437017a",
   "metadata": {},
   "outputs": [
    {
     "data": {
      "text/plain": [
       "0.6"
      ]
     },
     "execution_count": 39,
     "metadata": {},
     "output_type": "execute_result"
    }
   ],
   "source": [
    "n = 20\n",
    "X = heart_disease_train[compared_categories]\n",
    "y = heart_disease_train[\"death_event\"]\n",
    "\n",
    "heart_disease_fit = make_pipeline(heart_disease_preprocessor, KNeighborsClassifier(n_neighbors = n))\n",
    "heart_disease_fit = heart_disease_fit.fit(X, y)\n",
    "\n",
    "heart_disease_test_predictions = heart_disease_test.assign(\n",
    "    predicted = heart_disease_fit.predict(heart_disease_test[compared_categories])\n",
    ")\n",
    "\n",
    "X_test = heart_disease_test_predictions[compared_categories]\n",
    "y_test = heart_disease_test_predictions[\"death_event\"]\n",
    "heart_disease_prediction_accuracy = heart_disease_fit.score(X_test, y_test)\n",
    "heart_disease_prediction_accuracy"
   ]
  },
  {
   "cell_type": "code",
   "execution_count": 40,
   "id": "eae725e2",
   "metadata": {},
   "outputs": [
    {
     "data": {
      "text/html": [
       "<div>\n",
       "<style scoped>\n",
       "    .dataframe tbody tr th:only-of-type {\n",
       "        vertical-align: middle;\n",
       "    }\n",
       "\n",
       "    .dataframe tbody tr th {\n",
       "        vertical-align: top;\n",
       "    }\n",
       "\n",
       "    .dataframe thead th {\n",
       "        text-align: right;\n",
       "    }\n",
       "</style>\n",
       "<table border=\"1\" class=\"dataframe\">\n",
       "  <thead>\n",
       "    <tr style=\"text-align: right;\">\n",
       "      <th></th>\n",
       "      <th>category_1</th>\n",
       "      <th>category_2</th>\n",
       "      <th>accuracy</th>\n",
       "    </tr>\n",
       "  </thead>\n",
       "  <tbody>\n",
       "    <tr>\n",
       "      <th>0</th>\n",
       "      <td>ejection_fraction</td>\n",
       "      <td>serum_creatinine</td>\n",
       "      <td>0.640000</td>\n",
       "    </tr>\n",
       "    <tr>\n",
       "      <th>1</th>\n",
       "      <td>ejection_fraction</td>\n",
       "      <td>platelets</td>\n",
       "      <td>0.573333</td>\n",
       "    </tr>\n",
       "    <tr>\n",
       "      <th>2</th>\n",
       "      <td>ejection_fraction</td>\n",
       "      <td>serum_sodium</td>\n",
       "      <td>0.600000</td>\n",
       "    </tr>\n",
       "    <tr>\n",
       "      <th>3</th>\n",
       "      <td>ejection_fraction</td>\n",
       "      <td>creatinine_phosphokinase</td>\n",
       "      <td>0.613333</td>\n",
       "    </tr>\n",
       "    <tr>\n",
       "      <th>4</th>\n",
       "      <td>creatine_phosphokinase</td>\n",
       "      <td>serum_creatine</td>\n",
       "      <td>0.586667</td>\n",
       "    </tr>\n",
       "    <tr>\n",
       "      <th>5</th>\n",
       "      <td>platelets</td>\n",
       "      <td>serum_creatinine</td>\n",
       "      <td>0.666667</td>\n",
       "    </tr>\n",
       "    <tr>\n",
       "      <th>6</th>\n",
       "      <td>serum_creatinine</td>\n",
       "      <td>serum_sodium</td>\n",
       "      <td>0.706667</td>\n",
       "    </tr>\n",
       "    <tr>\n",
       "      <th>7</th>\n",
       "      <td>creatinine_phosphokinase</td>\n",
       "      <td>platelets</td>\n",
       "      <td>0.546667</td>\n",
       "    </tr>\n",
       "    <tr>\n",
       "      <th>8</th>\n",
       "      <td>creatinine_phosphokinase</td>\n",
       "      <td>serum_sodium</td>\n",
       "      <td>0.626667</td>\n",
       "    </tr>\n",
       "    <tr>\n",
       "      <th>9</th>\n",
       "      <td>platelets</td>\n",
       "      <td>serum_sodium</td>\n",
       "      <td>0.600000</td>\n",
       "    </tr>\n",
       "  </tbody>\n",
       "</table>\n",
       "</div>"
      ],
      "text/plain": [
       "                 category_1                category_2  accuracy\n",
       "0         ejection_fraction          serum_creatinine  0.640000\n",
       "1         ejection_fraction                 platelets  0.573333\n",
       "2         ejection_fraction              serum_sodium  0.600000\n",
       "3         ejection_fraction  creatinine_phosphokinase  0.613333\n",
       "4    creatine_phosphokinase            serum_creatine  0.586667\n",
       "5                 platelets          serum_creatinine  0.666667\n",
       "6          serum_creatinine              serum_sodium  0.706667\n",
       "7  creatinine_phosphokinase                 platelets  0.546667\n",
       "8  creatinine_phosphokinase              serum_sodium  0.626667\n",
       "9                 platelets              serum_sodium  0.600000"
      ]
     },
     "execution_count": 40,
     "metadata": {},
     "output_type": "execute_result"
    }
   ],
   "source": [
    "new_row = {'category_1' : 'platelets', 'category_2' : 'serum_sodium', 'accuracy' : heart_disease_prediction_accuracy }\n",
    "compared_categories_dataframe.loc[len(compared_categories_dataframe)] = new_row\n",
    "compared_categories_dataframe"
   ]
  },
  {
   "cell_type": "markdown",
   "id": "7396446e",
   "metadata": {},
   "source": [
    "Having went through all the possible pairs, we see from the table that the category of Serum Creatinine and Serum Sodium produces the highest accuracy score out of all the other possible pairs. Thus, **Serum Creatinine and Serum Sodium** is the pair we will use to further analyze how it affect the death event."
   ]
  },
  {
   "cell_type": "markdown",
   "id": "a9abc528",
   "metadata": {},
   "source": [
    "### Visuailzation of planned analysis"
   ]
  },
  {
   "cell_type": "markdown",
   "id": "b668b990",
   "metadata": {},
   "source": [
    "Below is a chart that visualizes the relationship between Ejection Fraction and Serum Creatinine and how they both relate to the death event."
   ]
  },
  {
   "cell_type": "code",
   "execution_count": 41,
   "id": "62def64e",
   "metadata": {},
   "outputs": [
    {
     "data": {
      "text/html": [
       "\n",
       "<style>\n",
       "  #altair-viz-6e510a2b83df406aaf90457b5e24b80e.vega-embed {\n",
       "    width: 100%;\n",
       "    display: flex;\n",
       "  }\n",
       "\n",
       "  #altair-viz-6e510a2b83df406aaf90457b5e24b80e.vega-embed details,\n",
       "  #altair-viz-6e510a2b83df406aaf90457b5e24b80e.vega-embed details summary {\n",
       "    position: relative;\n",
       "  }\n",
       "</style>\n",
       "<div id=\"altair-viz-6e510a2b83df406aaf90457b5e24b80e\"></div>\n",
       "<script type=\"text/javascript\">\n",
       "  var VEGA_DEBUG = (typeof VEGA_DEBUG == \"undefined\") ? {} : VEGA_DEBUG;\n",
       "  (function(spec, embedOpt){\n",
       "    let outputDiv = document.currentScript.previousElementSibling;\n",
       "    if (outputDiv.id !== \"altair-viz-6e510a2b83df406aaf90457b5e24b80e\") {\n",
       "      outputDiv = document.getElementById(\"altair-viz-6e510a2b83df406aaf90457b5e24b80e\");\n",
       "    }\n",
       "    const paths = {\n",
       "      \"vega\": \"https://cdn.jsdelivr.net/npm/vega@5?noext\",\n",
       "      \"vega-lib\": \"https://cdn.jsdelivr.net/npm/vega-lib?noext\",\n",
       "      \"vega-lite\": \"https://cdn.jsdelivr.net/npm/vega-lite@5.16.3?noext\",\n",
       "      \"vega-embed\": \"https://cdn.jsdelivr.net/npm/vega-embed@6?noext\",\n",
       "    };\n",
       "\n",
       "    function maybeLoadScript(lib, version) {\n",
       "      var key = `${lib.replace(\"-\", \"\")}_version`;\n",
       "      return (VEGA_DEBUG[key] == version) ?\n",
       "        Promise.resolve(paths[lib]) :\n",
       "        new Promise(function(resolve, reject) {\n",
       "          var s = document.createElement('script');\n",
       "          document.getElementsByTagName(\"head\")[0].appendChild(s);\n",
       "          s.async = true;\n",
       "          s.onload = () => {\n",
       "            VEGA_DEBUG[key] = version;\n",
       "            return resolve(paths[lib]);\n",
       "          };\n",
       "          s.onerror = () => reject(`Error loading script: ${paths[lib]}`);\n",
       "          s.src = paths[lib];\n",
       "        });\n",
       "    }\n",
       "\n",
       "    function showError(err) {\n",
       "      outputDiv.innerHTML = `<div class=\"error\" style=\"color:red;\">${err}</div>`;\n",
       "      throw err;\n",
       "    }\n",
       "\n",
       "    function displayChart(vegaEmbed) {\n",
       "      vegaEmbed(outputDiv, spec, embedOpt)\n",
       "        .catch(err => showError(`Javascript Error: ${err.message}<br>This usually means there's a typo in your chart specification. See the javascript console for the full traceback.`));\n",
       "    }\n",
       "\n",
       "    if(typeof define === \"function\" && define.amd) {\n",
       "      requirejs.config({paths});\n",
       "      require([\"vega-embed\"], displayChart, err => showError(`Error loading script: ${err.message}`));\n",
       "    } else {\n",
       "      maybeLoadScript(\"vega\", \"5\")\n",
       "        .then(() => maybeLoadScript(\"vega-lite\", \"5.16.3\"))\n",
       "        .then(() => maybeLoadScript(\"vega-embed\", \"6\"))\n",
       "        .catch(showError)\n",
       "        .then(() => displayChart(vegaEmbed));\n",
       "    }\n",
       "  })({\"config\": {\"view\": {\"continuousWidth\": 300, \"continuousHeight\": 300}}, \"data\": {\"name\": \"data-722bc695a583bbfced7df992e25c6801\"}, \"mark\": {\"type\": \"point\", \"opacity\": 0.5}, \"encoding\": {\"color\": {\"field\": \"death_event\", \"title\": \"Death event\", \"type\": \"nominal\"}, \"x\": {\"field\": \"serum_creatinine\", \"title\": \"Ejection Fraction in percentage (%)\", \"type\": \"quantitative\"}, \"y\": {\"field\": \"serum_sodium\", \"scale\": {\"zero\": false}, \"title\": \"Serum Creatinine in mg/dL\", \"type\": \"quantitative\"}}, \"$schema\": \"https://vega.github.io/schema/vega-lite/v5.16.3.json\", \"datasets\": {\"data-722bc695a583bbfced7df992e25c6801\": [{\"age\": 75.0, \"anaemia\": 0, \"creatinine_phosphokinase\": 582, \"diabetes\": 0, \"ejection_fraction\": 20, \"high_blood_pressure\": 1, \"platelets\": 265000.0, \"serum_creatinine\": 1.9, \"serum_sodium\": 130, \"sex\": 1, \"smoking\": 0, \"time\": 4, \"death_event\": \"Yes\"}, {\"age\": 55.0, \"anaemia\": 0, \"creatinine_phosphokinase\": 7861, \"diabetes\": 0, \"ejection_fraction\": 38, \"high_blood_pressure\": 0, \"platelets\": 263358.03, \"serum_creatinine\": 1.1, \"serum_sodium\": 136, \"sex\": 1, \"smoking\": 0, \"time\": 6, \"death_event\": \"Yes\"}, {\"age\": 65.0, \"anaemia\": 0, \"creatinine_phosphokinase\": 146, \"diabetes\": 0, \"ejection_fraction\": 20, \"high_blood_pressure\": 0, \"platelets\": 162000.0, \"serum_creatinine\": 1.3, \"serum_sodium\": 129, \"sex\": 1, \"smoking\": 1, \"time\": 7, \"death_event\": \"Yes\"}, {\"age\": 50.0, \"anaemia\": 1, \"creatinine_phosphokinase\": 111, \"diabetes\": 0, \"ejection_fraction\": 20, \"high_blood_pressure\": 0, \"platelets\": 210000.0, \"serum_creatinine\": 1.9, \"serum_sodium\": 137, \"sex\": 1, \"smoking\": 0, \"time\": 7, \"death_event\": \"Yes\"}, {\"age\": 65.0, \"anaemia\": 1, \"creatinine_phosphokinase\": 160, \"diabetes\": 1, \"ejection_fraction\": 20, \"high_blood_pressure\": 0, \"platelets\": 327000.0, \"serum_creatinine\": 2.7, \"serum_sodium\": 116, \"sex\": 0, \"smoking\": 0, \"time\": 8, \"death_event\": \"Yes\"}, {\"age\": 90.0, \"anaemia\": 1, \"creatinine_phosphokinase\": 47, \"diabetes\": 0, \"ejection_fraction\": 40, \"high_blood_pressure\": 1, \"platelets\": 204000.0, \"serum_creatinine\": 2.1, \"serum_sodium\": 132, \"sex\": 1, \"smoking\": 1, \"time\": 8, \"death_event\": \"Yes\"}, {\"age\": 75.0, \"anaemia\": 1, \"creatinine_phosphokinase\": 246, \"diabetes\": 0, \"ejection_fraction\": 15, \"high_blood_pressure\": 0, \"platelets\": 127000.0, \"serum_creatinine\": 1.2, \"serum_sodium\": 137, \"sex\": 1, \"smoking\": 0, \"time\": 10, \"death_event\": \"Yes\"}, {\"age\": 60.0, \"anaemia\": 1, \"creatinine_phosphokinase\": 315, \"diabetes\": 1, \"ejection_fraction\": 60, \"high_blood_pressure\": 0, \"platelets\": 454000.0, \"serum_creatinine\": 1.1, \"serum_sodium\": 131, \"sex\": 1, \"smoking\": 1, \"time\": 10, \"death_event\": \"Yes\"}, {\"age\": 65.0, \"anaemia\": 0, \"creatinine_phosphokinase\": 157, \"diabetes\": 0, \"ejection_fraction\": 65, \"high_blood_pressure\": 0, \"platelets\": 263358.03, \"serum_creatinine\": 1.5, \"serum_sodium\": 138, \"sex\": 0, \"smoking\": 0, \"time\": 10, \"death_event\": \"Yes\"}, {\"age\": 80.0, \"anaemia\": 1, \"creatinine_phosphokinase\": 123, \"diabetes\": 0, \"ejection_fraction\": 35, \"high_blood_pressure\": 1, \"platelets\": 388000.0, \"serum_creatinine\": 9.4, \"serum_sodium\": 133, \"sex\": 1, \"smoking\": 1, \"time\": 10, \"death_event\": \"Yes\"}, {\"age\": 75.0, \"anaemia\": 1, \"creatinine_phosphokinase\": 81, \"diabetes\": 0, \"ejection_fraction\": 38, \"high_blood_pressure\": 1, \"platelets\": 368000.0, \"serum_creatinine\": 4.0, \"serum_sodium\": 131, \"sex\": 1, \"smoking\": 1, \"time\": 10, \"death_event\": \"Yes\"}, {\"age\": 62.0, \"anaemia\": 0, \"creatinine_phosphokinase\": 231, \"diabetes\": 0, \"ejection_fraction\": 25, \"high_blood_pressure\": 1, \"platelets\": 253000.0, \"serum_creatinine\": 0.9, \"serum_sodium\": 140, \"sex\": 1, \"smoking\": 1, \"time\": 10, \"death_event\": \"Yes\"}, {\"age\": 45.0, \"anaemia\": 1, \"creatinine_phosphokinase\": 981, \"diabetes\": 0, \"ejection_fraction\": 30, \"high_blood_pressure\": 0, \"platelets\": 136000.0, \"serum_creatinine\": 1.1, \"serum_sodium\": 137, \"sex\": 1, \"smoking\": 0, \"time\": 11, \"death_event\": \"Yes\"}, {\"age\": 50.0, \"anaemia\": 1, \"creatinine_phosphokinase\": 168, \"diabetes\": 0, \"ejection_fraction\": 38, \"high_blood_pressure\": 1, \"platelets\": 276000.0, \"serum_creatinine\": 1.1, \"serum_sodium\": 137, \"sex\": 1, \"smoking\": 0, \"time\": 11, \"death_event\": \"Yes\"}, {\"age\": 49.0, \"anaemia\": 1, \"creatinine_phosphokinase\": 80, \"diabetes\": 0, \"ejection_fraction\": 30, \"high_blood_pressure\": 1, \"platelets\": 427000.0, \"serum_creatinine\": 1.0, \"serum_sodium\": 138, \"sex\": 0, \"smoking\": 0, \"time\": 12, \"death_event\": \"No\"}, {\"age\": 82.0, \"anaemia\": 1, \"creatinine_phosphokinase\": 379, \"diabetes\": 0, \"ejection_fraction\": 50, \"high_blood_pressure\": 0, \"platelets\": 47000.0, \"serum_creatinine\": 1.3, \"serum_sodium\": 136, \"sex\": 1, \"smoking\": 0, \"time\": 13, \"death_event\": \"Yes\"}, {\"age\": 87.0, \"anaemia\": 1, \"creatinine_phosphokinase\": 149, \"diabetes\": 0, \"ejection_fraction\": 38, \"high_blood_pressure\": 0, \"platelets\": 262000.0, \"serum_creatinine\": 0.9, \"serum_sodium\": 140, \"sex\": 1, \"smoking\": 0, \"time\": 14, \"death_event\": \"Yes\"}, {\"age\": 45.0, \"anaemia\": 0, \"creatinine_phosphokinase\": 582, \"diabetes\": 0, \"ejection_fraction\": 14, \"high_blood_pressure\": 0, \"platelets\": 166000.0, \"serum_creatinine\": 0.8, \"serum_sodium\": 127, \"sex\": 1, \"smoking\": 0, \"time\": 14, \"death_event\": \"Yes\"}, {\"age\": 70.0, \"anaemia\": 1, \"creatinine_phosphokinase\": 125, \"diabetes\": 0, \"ejection_fraction\": 25, \"high_blood_pressure\": 1, \"platelets\": 237000.0, \"serum_creatinine\": 1.0, \"serum_sodium\": 140, \"sex\": 0, \"smoking\": 0, \"time\": 15, \"death_event\": \"Yes\"}, {\"age\": 48.0, \"anaemia\": 1, \"creatinine_phosphokinase\": 582, \"diabetes\": 1, \"ejection_fraction\": 55, \"high_blood_pressure\": 0, \"platelets\": 87000.0, \"serum_creatinine\": 1.9, \"serum_sodium\": 121, \"sex\": 0, \"smoking\": 0, \"time\": 15, \"death_event\": \"Yes\"}, {\"age\": 65.0, \"anaemia\": 1, \"creatinine_phosphokinase\": 52, \"diabetes\": 0, \"ejection_fraction\": 25, \"high_blood_pressure\": 1, \"platelets\": 276000.0, \"serum_creatinine\": 1.3, \"serum_sodium\": 137, \"sex\": 0, \"smoking\": 0, \"time\": 16, \"death_event\": \"No\"}, {\"age\": 65.0, \"anaemia\": 1, \"creatinine_phosphokinase\": 128, \"diabetes\": 1, \"ejection_fraction\": 30, \"high_blood_pressure\": 1, \"platelets\": 297000.0, \"serum_creatinine\": 1.6, \"serum_sodium\": 136, \"sex\": 0, \"smoking\": 0, \"time\": 20, \"death_event\": \"Yes\"}, {\"age\": 68.0, \"anaemia\": 1, \"creatinine_phosphokinase\": 220, \"diabetes\": 0, \"ejection_fraction\": 35, \"high_blood_pressure\": 1, \"platelets\": 289000.0, \"serum_creatinine\": 0.9, \"serum_sodium\": 140, \"sex\": 1, \"smoking\": 1, \"time\": 20, \"death_event\": \"Yes\"}, {\"age\": 53.0, \"anaemia\": 0, \"creatinine_phosphokinase\": 63, \"diabetes\": 1, \"ejection_fraction\": 60, \"high_blood_pressure\": 0, \"platelets\": 368000.0, \"serum_creatinine\": 0.8, \"serum_sodium\": 135, \"sex\": 1, \"smoking\": 0, \"time\": 22, \"death_event\": \"No\"}, {\"age\": 75.0, \"anaemia\": 0, \"creatinine_phosphokinase\": 582, \"diabetes\": 1, \"ejection_fraction\": 30, \"high_blood_pressure\": 1, \"platelets\": 263358.03, \"serum_creatinine\": 1.83, \"serum_sodium\": 134, \"sex\": 0, \"smoking\": 0, \"time\": 23, \"death_event\": \"Yes\"}, {\"age\": 80.0, \"anaemia\": 0, \"creatinine_phosphokinase\": 148, \"diabetes\": 1, \"ejection_fraction\": 38, \"high_blood_pressure\": 0, \"platelets\": 149000.0, \"serum_creatinine\": 1.9, \"serum_sodium\": 144, \"sex\": 1, \"smoking\": 1, \"time\": 23, \"death_event\": \"Yes\"}, {\"age\": 95.0, \"anaemia\": 1, \"creatinine_phosphokinase\": 112, \"diabetes\": 0, \"ejection_fraction\": 40, \"high_blood_pressure\": 1, \"platelets\": 196000.0, \"serum_creatinine\": 1.0, \"serum_sodium\": 138, \"sex\": 0, \"smoking\": 0, \"time\": 24, \"death_event\": \"Yes\"}, {\"age\": 70.0, \"anaemia\": 0, \"creatinine_phosphokinase\": 122, \"diabetes\": 1, \"ejection_fraction\": 45, \"high_blood_pressure\": 1, \"platelets\": 284000.0, \"serum_creatinine\": 1.3, \"serum_sodium\": 136, \"sex\": 1, \"smoking\": 1, \"time\": 26, \"death_event\": \"Yes\"}, {\"age\": 58.0, \"anaemia\": 1, \"creatinine_phosphokinase\": 60, \"diabetes\": 0, \"ejection_fraction\": 38, \"high_blood_pressure\": 0, \"platelets\": 153000.0, \"serum_creatinine\": 5.8, \"serum_sodium\": 134, \"sex\": 1, \"smoking\": 0, \"time\": 26, \"death_event\": \"Yes\"}, {\"age\": 82.0, \"anaemia\": 0, \"creatinine_phosphokinase\": 70, \"diabetes\": 1, \"ejection_fraction\": 30, \"high_blood_pressure\": 0, \"platelets\": 200000.0, \"serum_creatinine\": 1.2, \"serum_sodium\": 132, \"sex\": 1, \"smoking\": 1, \"time\": 26, \"death_event\": \"Yes\"}, {\"age\": 94.0, \"anaemia\": 0, \"creatinine_phosphokinase\": 582, \"diabetes\": 1, \"ejection_fraction\": 38, \"high_blood_pressure\": 1, \"platelets\": 263358.03, \"serum_creatinine\": 1.83, \"serum_sodium\": 134, \"sex\": 1, \"smoking\": 0, \"time\": 27, \"death_event\": \"Yes\"}, {\"age\": 85.0, \"anaemia\": 0, \"creatinine_phosphokinase\": 23, \"diabetes\": 0, \"ejection_fraction\": 45, \"high_blood_pressure\": 0, \"platelets\": 360000.0, \"serum_creatinine\": 3.0, \"serum_sodium\": 132, \"sex\": 1, \"smoking\": 0, \"time\": 28, \"death_event\": \"Yes\"}, {\"age\": 50.0, \"anaemia\": 1, \"creatinine_phosphokinase\": 249, \"diabetes\": 1, \"ejection_fraction\": 35, \"high_blood_pressure\": 1, \"platelets\": 319000.0, \"serum_creatinine\": 1.0, \"serum_sodium\": 128, \"sex\": 0, \"smoking\": 0, \"time\": 28, \"death_event\": \"Yes\"}, {\"age\": 50.0, \"anaemia\": 1, \"creatinine_phosphokinase\": 159, \"diabetes\": 1, \"ejection_fraction\": 30, \"high_blood_pressure\": 0, \"platelets\": 302000.0, \"serum_creatinine\": 1.2, \"serum_sodium\": 138, \"sex\": 0, \"smoking\": 0, \"time\": 29, \"death_event\": \"No\"}, {\"age\": 65.0, \"anaemia\": 0, \"creatinine_phosphokinase\": 94, \"diabetes\": 1, \"ejection_fraction\": 50, \"high_blood_pressure\": 1, \"platelets\": 188000.0, \"serum_creatinine\": 1.0, \"serum_sodium\": 140, \"sex\": 1, \"smoking\": 0, \"time\": 29, \"death_event\": \"Yes\"}, {\"age\": 69.0, \"anaemia\": 0, \"creatinine_phosphokinase\": 582, \"diabetes\": 1, \"ejection_fraction\": 35, \"high_blood_pressure\": 0, \"platelets\": 228000.0, \"serum_creatinine\": 3.5, \"serum_sodium\": 134, \"sex\": 1, \"smoking\": 0, \"time\": 30, \"death_event\": \"Yes\"}, {\"age\": 90.0, \"anaemia\": 1, \"creatinine_phosphokinase\": 60, \"diabetes\": 1, \"ejection_fraction\": 50, \"high_blood_pressure\": 0, \"platelets\": 226000.0, \"serum_creatinine\": 1.0, \"serum_sodium\": 134, \"sex\": 1, \"smoking\": 0, \"time\": 30, \"death_event\": \"Yes\"}, {\"age\": 82.0, \"anaemia\": 1, \"creatinine_phosphokinase\": 855, \"diabetes\": 1, \"ejection_fraction\": 50, \"high_blood_pressure\": 1, \"platelets\": 321000.0, \"serum_creatinine\": 1.0, \"serum_sodium\": 145, \"sex\": 0, \"smoking\": 0, \"time\": 30, \"death_event\": \"Yes\"}, {\"age\": 60.0, \"anaemia\": 0, \"creatinine_phosphokinase\": 2656, \"diabetes\": 1, \"ejection_fraction\": 30, \"high_blood_pressure\": 0, \"platelets\": 305000.0, \"serum_creatinine\": 2.3, \"serum_sodium\": 137, \"sex\": 1, \"smoking\": 0, \"time\": 30, \"death_event\": \"No\"}, {\"age\": 60.0, \"anaemia\": 0, \"creatinine_phosphokinase\": 235, \"diabetes\": 1, \"ejection_fraction\": 38, \"high_blood_pressure\": 0, \"platelets\": 329000.0, \"serum_creatinine\": 3.0, \"serum_sodium\": 142, \"sex\": 0, \"smoking\": 0, \"time\": 30, \"death_event\": \"Yes\"}, {\"age\": 70.0, \"anaemia\": 0, \"creatinine_phosphokinase\": 582, \"diabetes\": 0, \"ejection_fraction\": 20, \"high_blood_pressure\": 1, \"platelets\": 263358.03, \"serum_creatinine\": 1.83, \"serum_sodium\": 134, \"sex\": 1, \"smoking\": 1, \"time\": 31, \"death_event\": \"Yes\"}, {\"age\": 50.0, \"anaemia\": 0, \"creatinine_phosphokinase\": 124, \"diabetes\": 1, \"ejection_fraction\": 30, \"high_blood_pressure\": 1, \"platelets\": 153000.0, \"serum_creatinine\": 1.2, \"serum_sodium\": 136, \"sex\": 0, \"smoking\": 1, \"time\": 32, \"death_event\": \"Yes\"}, {\"age\": 70.0, \"anaemia\": 0, \"creatinine_phosphokinase\": 571, \"diabetes\": 1, \"ejection_fraction\": 45, \"high_blood_pressure\": 1, \"platelets\": 185000.0, \"serum_creatinine\": 1.2, \"serum_sodium\": 139, \"sex\": 1, \"smoking\": 1, \"time\": 33, \"death_event\": \"Yes\"}, {\"age\": 72.0, \"anaemia\": 0, \"creatinine_phosphokinase\": 127, \"diabetes\": 1, \"ejection_fraction\": 50, \"high_blood_pressure\": 1, \"platelets\": 218000.0, \"serum_creatinine\": 1.0, \"serum_sodium\": 134, \"sex\": 1, \"smoking\": 0, \"time\": 33, \"death_event\": \"No\"}, {\"age\": 60.0, \"anaemia\": 1, \"creatinine_phosphokinase\": 588, \"diabetes\": 1, \"ejection_fraction\": 60, \"high_blood_pressure\": 0, \"platelets\": 194000.0, \"serum_creatinine\": 1.1, \"serum_sodium\": 142, \"sex\": 0, \"smoking\": 0, \"time\": 33, \"death_event\": \"Yes\"}, {\"age\": 50.0, \"anaemia\": 0, \"creatinine_phosphokinase\": 582, \"diabetes\": 1, \"ejection_fraction\": 38, \"high_blood_pressure\": 0, \"platelets\": 310000.0, \"serum_creatinine\": 1.9, \"serum_sodium\": 135, \"sex\": 1, \"smoking\": 1, \"time\": 35, \"death_event\": \"Yes\"}, {\"age\": 51.0, \"anaemia\": 0, \"creatinine_phosphokinase\": 1380, \"diabetes\": 0, \"ejection_fraction\": 25, \"high_blood_pressure\": 1, \"platelets\": 271000.0, \"serum_creatinine\": 0.9, \"serum_sodium\": 130, \"sex\": 1, \"smoking\": 0, \"time\": 38, \"death_event\": \"Yes\"}, {\"age\": 60.0, \"anaemia\": 0, \"creatinine_phosphokinase\": 582, \"diabetes\": 1, \"ejection_fraction\": 38, \"high_blood_pressure\": 1, \"platelets\": 451000.0, \"serum_creatinine\": 0.6, \"serum_sodium\": 138, \"sex\": 1, \"smoking\": 1, \"time\": 40, \"death_event\": \"Yes\"}, {\"age\": 80.0, \"anaemia\": 1, \"creatinine_phosphokinase\": 553, \"diabetes\": 0, \"ejection_fraction\": 20, \"high_blood_pressure\": 1, \"platelets\": 140000.0, \"serum_creatinine\": 4.4, \"serum_sodium\": 133, \"sex\": 1, \"smoking\": 0, \"time\": 41, \"death_event\": \"Yes\"}, {\"age\": 57.0, \"anaemia\": 1, \"creatinine_phosphokinase\": 129, \"diabetes\": 0, \"ejection_fraction\": 30, \"high_blood_pressure\": 0, \"platelets\": 395000.0, \"serum_creatinine\": 1.0, \"serum_sodium\": 140, \"sex\": 0, \"smoking\": 0, \"time\": 42, \"death_event\": \"Yes\"}, {\"age\": 68.0, \"anaemia\": 1, \"creatinine_phosphokinase\": 577, \"diabetes\": 0, \"ejection_fraction\": 25, \"high_blood_pressure\": 1, \"platelets\": 166000.0, \"serum_creatinine\": 1.0, \"serum_sodium\": 138, \"sex\": 1, \"smoking\": 0, \"time\": 43, \"death_event\": \"Yes\"}, {\"age\": 53.0, \"anaemia\": 1, \"creatinine_phosphokinase\": 91, \"diabetes\": 0, \"ejection_fraction\": 20, \"high_blood_pressure\": 1, \"platelets\": 418000.0, \"serum_creatinine\": 1.4, \"serum_sodium\": 139, \"sex\": 0, \"smoking\": 0, \"time\": 43, \"death_event\": \"Yes\"}, {\"age\": 60.0, \"anaemia\": 0, \"creatinine_phosphokinase\": 3964, \"diabetes\": 1, \"ejection_fraction\": 62, \"high_blood_pressure\": 0, \"platelets\": 263358.03, \"serum_creatinine\": 6.8, \"serum_sodium\": 146, \"sex\": 0, \"smoking\": 0, \"time\": 43, \"death_event\": \"Yes\"}, {\"age\": 70.0, \"anaemia\": 1, \"creatinine_phosphokinase\": 69, \"diabetes\": 1, \"ejection_fraction\": 50, \"high_blood_pressure\": 1, \"platelets\": 351000.0, \"serum_creatinine\": 1.0, \"serum_sodium\": 134, \"sex\": 0, \"smoking\": 0, \"time\": 44, \"death_event\": \"Yes\"}, {\"age\": 60.0, \"anaemia\": 1, \"creatinine_phosphokinase\": 260, \"diabetes\": 1, \"ejection_fraction\": 38, \"high_blood_pressure\": 0, \"platelets\": 255000.0, \"serum_creatinine\": 2.2, \"serum_sodium\": 132, \"sex\": 0, \"smoking\": 1, \"time\": 45, \"death_event\": \"Yes\"}, {\"age\": 95.0, \"anaemia\": 1, \"creatinine_phosphokinase\": 371, \"diabetes\": 0, \"ejection_fraction\": 30, \"high_blood_pressure\": 0, \"platelets\": 461000.0, \"serum_creatinine\": 2.0, \"serum_sodium\": 132, \"sex\": 1, \"smoking\": 0, \"time\": 50, \"death_event\": \"Yes\"}, {\"age\": 70.0, \"anaemia\": 1, \"creatinine_phosphokinase\": 75, \"diabetes\": 0, \"ejection_fraction\": 35, \"high_blood_pressure\": 0, \"platelets\": 223000.0, \"serum_creatinine\": 2.7, \"serum_sodium\": 138, \"sex\": 1, \"smoking\": 1, \"time\": 54, \"death_event\": \"No\"}, {\"age\": 60.0, \"anaemia\": 1, \"creatinine_phosphokinase\": 607, \"diabetes\": 0, \"ejection_fraction\": 40, \"high_blood_pressure\": 0, \"platelets\": 216000.0, \"serum_creatinine\": 0.6, \"serum_sodium\": 138, \"sex\": 1, \"smoking\": 1, \"time\": 54, \"death_event\": \"No\"}, {\"age\": 49.0, \"anaemia\": 0, \"creatinine_phosphokinase\": 789, \"diabetes\": 0, \"ejection_fraction\": 20, \"high_blood_pressure\": 1, \"platelets\": 319000.0, \"serum_creatinine\": 1.1, \"serum_sodium\": 136, \"sex\": 1, \"smoking\": 1, \"time\": 55, \"death_event\": \"Yes\"}, {\"age\": 72.0, \"anaemia\": 0, \"creatinine_phosphokinase\": 364, \"diabetes\": 1, \"ejection_fraction\": 20, \"high_blood_pressure\": 1, \"platelets\": 254000.0, \"serum_creatinine\": 1.3, \"serum_sodium\": 136, \"sex\": 1, \"smoking\": 1, \"time\": 59, \"death_event\": \"Yes\"}, {\"age\": 45.0, \"anaemia\": 0, \"creatinine_phosphokinase\": 7702, \"diabetes\": 1, \"ejection_fraction\": 25, \"high_blood_pressure\": 1, \"platelets\": 390000.0, \"serum_creatinine\": 1.0, \"serum_sodium\": 139, \"sex\": 1, \"smoking\": 0, \"time\": 60, \"death_event\": \"Yes\"}, {\"age\": 50.0, \"anaemia\": 0, \"creatinine_phosphokinase\": 318, \"diabetes\": 0, \"ejection_fraction\": 40, \"high_blood_pressure\": 1, \"platelets\": 216000.0, \"serum_creatinine\": 2.3, \"serum_sodium\": 131, \"sex\": 0, \"smoking\": 0, \"time\": 60, \"death_event\": \"Yes\"}, {\"age\": 55.0, \"anaemia\": 0, \"creatinine_phosphokinase\": 109, \"diabetes\": 0, \"ejection_fraction\": 35, \"high_blood_pressure\": 0, \"platelets\": 254000.0, \"serum_creatinine\": 1.1, \"serum_sodium\": 139, \"sex\": 1, \"smoking\": 1, \"time\": 60, \"death_event\": \"No\"}, {\"age\": 45.0, \"anaemia\": 0, \"creatinine_phosphokinase\": 582, \"diabetes\": 0, \"ejection_fraction\": 35, \"high_blood_pressure\": 0, \"platelets\": 385000.0, \"serum_creatinine\": 1.0, \"serum_sodium\": 145, \"sex\": 1, \"smoking\": 0, \"time\": 61, \"death_event\": \"Yes\"}, {\"age\": 45.0, \"anaemia\": 0, \"creatinine_phosphokinase\": 582, \"diabetes\": 0, \"ejection_fraction\": 80, \"high_blood_pressure\": 0, \"platelets\": 263358.03, \"serum_creatinine\": 1.18, \"serum_sodium\": 137, \"sex\": 0, \"smoking\": 0, \"time\": 63, \"death_event\": \"No\"}, {\"age\": 60.0, \"anaemia\": 0, \"creatinine_phosphokinase\": 68, \"diabetes\": 0, \"ejection_fraction\": 20, \"high_blood_pressure\": 0, \"platelets\": 119000.0, \"serum_creatinine\": 2.9, \"serum_sodium\": 127, \"sex\": 1, \"smoking\": 1, \"time\": 64, \"death_event\": \"Yes\"}, {\"age\": 42.0, \"anaemia\": 1, \"creatinine_phosphokinase\": 250, \"diabetes\": 1, \"ejection_fraction\": 15, \"high_blood_pressure\": 0, \"platelets\": 213000.0, \"serum_creatinine\": 1.3, \"serum_sodium\": 136, \"sex\": 0, \"smoking\": 0, \"time\": 65, \"death_event\": \"Yes\"}, {\"age\": 72.0, \"anaemia\": 1, \"creatinine_phosphokinase\": 110, \"diabetes\": 0, \"ejection_fraction\": 25, \"high_blood_pressure\": 0, \"platelets\": 274000.0, \"serum_creatinine\": 1.0, \"serum_sodium\": 140, \"sex\": 1, \"smoking\": 1, \"time\": 65, \"death_event\": \"Yes\"}, {\"age\": 70.0, \"anaemia\": 0, \"creatinine_phosphokinase\": 161, \"diabetes\": 0, \"ejection_fraction\": 25, \"high_blood_pressure\": 0, \"platelets\": 244000.0, \"serum_creatinine\": 1.2, \"serum_sodium\": 142, \"sex\": 0, \"smoking\": 0, \"time\": 66, \"death_event\": \"Yes\"}, {\"age\": 65.0, \"anaemia\": 0, \"creatinine_phosphokinase\": 113, \"diabetes\": 1, \"ejection_fraction\": 25, \"high_blood_pressure\": 0, \"platelets\": 497000.0, \"serum_creatinine\": 1.83, \"serum_sodium\": 135, \"sex\": 1, \"smoking\": 0, \"time\": 67, \"death_event\": \"Yes\"}, {\"age\": 41.0, \"anaemia\": 0, \"creatinine_phosphokinase\": 148, \"diabetes\": 0, \"ejection_fraction\": 40, \"high_blood_pressure\": 0, \"platelets\": 374000.0, \"serum_creatinine\": 0.8, \"serum_sodium\": 140, \"sex\": 1, \"smoking\": 1, \"time\": 68, \"death_event\": \"No\"}, {\"age\": 58.0, \"anaemia\": 0, \"creatinine_phosphokinase\": 582, \"diabetes\": 1, \"ejection_fraction\": 35, \"high_blood_pressure\": 0, \"platelets\": 122000.0, \"serum_creatinine\": 0.9, \"serum_sodium\": 139, \"sex\": 1, \"smoking\": 1, \"time\": 71, \"death_event\": \"No\"}, {\"age\": 85.0, \"anaemia\": 0, \"creatinine_phosphokinase\": 5882, \"diabetes\": 0, \"ejection_fraction\": 35, \"high_blood_pressure\": 0, \"platelets\": 243000.0, \"serum_creatinine\": 1.0, \"serum_sodium\": 132, \"sex\": 1, \"smoking\": 1, \"time\": 72, \"death_event\": \"Yes\"}, {\"age\": 65.0, \"anaemia\": 0, \"creatinine_phosphokinase\": 224, \"diabetes\": 1, \"ejection_fraction\": 50, \"high_blood_pressure\": 0, \"platelets\": 149000.0, \"serum_creatinine\": 1.3, \"serum_sodium\": 137, \"sex\": 1, \"smoking\": 1, \"time\": 72, \"death_event\": \"No\"}, {\"age\": 69.0, \"anaemia\": 0, \"creatinine_phosphokinase\": 582, \"diabetes\": 0, \"ejection_fraction\": 20, \"high_blood_pressure\": 0, \"platelets\": 266000.0, \"serum_creatinine\": 1.2, \"serum_sodium\": 134, \"sex\": 1, \"smoking\": 1, \"time\": 73, \"death_event\": \"Yes\"}, {\"age\": 60.0, \"anaemia\": 1, \"creatinine_phosphokinase\": 47, \"diabetes\": 0, \"ejection_fraction\": 20, \"high_blood_pressure\": 0, \"platelets\": 204000.0, \"serum_creatinine\": 0.7, \"serum_sodium\": 139, \"sex\": 1, \"smoking\": 1, \"time\": 73, \"death_event\": \"Yes\"}, {\"age\": 70.0, \"anaemia\": 0, \"creatinine_phosphokinase\": 92, \"diabetes\": 0, \"ejection_fraction\": 60, \"high_blood_pressure\": 1, \"platelets\": 317000.0, \"serum_creatinine\": 0.8, \"serum_sodium\": 140, \"sex\": 0, \"smoking\": 1, \"time\": 74, \"death_event\": \"No\"}, {\"age\": 42.0, \"anaemia\": 0, \"creatinine_phosphokinase\": 102, \"diabetes\": 1, \"ejection_fraction\": 40, \"high_blood_pressure\": 0, \"platelets\": 237000.0, \"serum_creatinine\": 1.2, \"serum_sodium\": 140, \"sex\": 1, \"smoking\": 0, \"time\": 74, \"death_event\": \"No\"}, {\"age\": 75.0, \"anaemia\": 1, \"creatinine_phosphokinase\": 203, \"diabetes\": 1, \"ejection_fraction\": 38, \"high_blood_pressure\": 1, \"platelets\": 283000.0, \"serum_creatinine\": 0.6, \"serum_sodium\": 131, \"sex\": 1, \"smoking\": 1, \"time\": 74, \"death_event\": \"No\"}, {\"age\": 55.0, \"anaemia\": 0, \"creatinine_phosphokinase\": 336, \"diabetes\": 0, \"ejection_fraction\": 45, \"high_blood_pressure\": 1, \"platelets\": 324000.0, \"serum_creatinine\": 0.9, \"serum_sodium\": 140, \"sex\": 0, \"smoking\": 0, \"time\": 74, \"death_event\": \"No\"}, {\"age\": 70.0, \"anaemia\": 0, \"creatinine_phosphokinase\": 69, \"diabetes\": 0, \"ejection_fraction\": 40, \"high_blood_pressure\": 0, \"platelets\": 293000.0, \"serum_creatinine\": 1.7, \"serum_sodium\": 136, \"sex\": 0, \"smoking\": 0, \"time\": 75, \"death_event\": \"No\"}, {\"age\": 67.0, \"anaemia\": 0, \"creatinine_phosphokinase\": 582, \"diabetes\": 0, \"ejection_fraction\": 50, \"high_blood_pressure\": 0, \"platelets\": 263358.03, \"serum_creatinine\": 1.18, \"serum_sodium\": 137, \"sex\": 1, \"smoking\": 1, \"time\": 76, \"death_event\": \"No\"}, {\"age\": 60.0, \"anaemia\": 1, \"creatinine_phosphokinase\": 76, \"diabetes\": 1, \"ejection_fraction\": 25, \"high_blood_pressure\": 0, \"platelets\": 196000.0, \"serum_creatinine\": 2.5, \"serum_sodium\": 132, \"sex\": 0, \"smoking\": 0, \"time\": 77, \"death_event\": \"Yes\"}, {\"age\": 79.0, \"anaemia\": 1, \"creatinine_phosphokinase\": 55, \"diabetes\": 0, \"ejection_fraction\": 50, \"high_blood_pressure\": 1, \"platelets\": 172000.0, \"serum_creatinine\": 1.8, \"serum_sodium\": 133, \"sex\": 1, \"smoking\": 0, \"time\": 78, \"death_event\": \"No\"}, {\"age\": 59.0, \"anaemia\": 1, \"creatinine_phosphokinase\": 280, \"diabetes\": 1, \"ejection_fraction\": 25, \"high_blood_pressure\": 1, \"platelets\": 302000.0, \"serum_creatinine\": 1.0, \"serum_sodium\": 141, \"sex\": 0, \"smoking\": 0, \"time\": 78, \"death_event\": \"Yes\"}, {\"age\": 51.0, \"anaemia\": 0, \"creatinine_phosphokinase\": 78, \"diabetes\": 0, \"ejection_fraction\": 50, \"high_blood_pressure\": 0, \"platelets\": 406000.0, \"serum_creatinine\": 0.7, \"serum_sodium\": 140, \"sex\": 1, \"smoking\": 0, \"time\": 79, \"death_event\": \"No\"}, {\"age\": 55.0, \"anaemia\": 0, \"creatinine_phosphokinase\": 47, \"diabetes\": 0, \"ejection_fraction\": 35, \"high_blood_pressure\": 1, \"platelets\": 173000.0, \"serum_creatinine\": 1.1, \"serum_sodium\": 137, \"sex\": 1, \"smoking\": 0, \"time\": 79, \"death_event\": \"No\"}, {\"age\": 65.0, \"anaemia\": 1, \"creatinine_phosphokinase\": 68, \"diabetes\": 1, \"ejection_fraction\": 60, \"high_blood_pressure\": 1, \"platelets\": 304000.0, \"serum_creatinine\": 0.8, \"serum_sodium\": 140, \"sex\": 1, \"smoking\": 0, \"time\": 79, \"death_event\": \"No\"}, {\"age\": 44.0, \"anaemia\": 0, \"creatinine_phosphokinase\": 84, \"diabetes\": 1, \"ejection_fraction\": 40, \"high_blood_pressure\": 1, \"platelets\": 235000.0, \"serum_creatinine\": 0.7, \"serum_sodium\": 139, \"sex\": 1, \"smoking\": 0, \"time\": 79, \"death_event\": \"No\"}, {\"age\": 57.0, \"anaemia\": 1, \"creatinine_phosphokinase\": 115, \"diabetes\": 0, \"ejection_fraction\": 25, \"high_blood_pressure\": 1, \"platelets\": 181000.0, \"serum_creatinine\": 1.1, \"serum_sodium\": 144, \"sex\": 1, \"smoking\": 0, \"time\": 79, \"death_event\": \"No\"}, {\"age\": 70.0, \"anaemia\": 0, \"creatinine_phosphokinase\": 66, \"diabetes\": 1, \"ejection_fraction\": 45, \"high_blood_pressure\": 0, \"platelets\": 249000.0, \"serum_creatinine\": 0.8, \"serum_sodium\": 136, \"sex\": 1, \"smoking\": 1, \"time\": 80, \"death_event\": \"No\"}, {\"age\": 60.0, \"anaemia\": 0, \"creatinine_phosphokinase\": 897, \"diabetes\": 1, \"ejection_fraction\": 45, \"high_blood_pressure\": 0, \"platelets\": 297000.0, \"serum_creatinine\": 1.0, \"serum_sodium\": 133, \"sex\": 1, \"smoking\": 0, \"time\": 80, \"death_event\": \"No\"}, {\"age\": 42.0, \"anaemia\": 0, \"creatinine_phosphokinase\": 582, \"diabetes\": 0, \"ejection_fraction\": 60, \"high_blood_pressure\": 0, \"platelets\": 263358.03, \"serum_creatinine\": 1.18, \"serum_sodium\": 137, \"sex\": 0, \"smoking\": 0, \"time\": 82, \"death_event\": \"No\"}, {\"age\": 60.0, \"anaemia\": 1, \"creatinine_phosphokinase\": 154, \"diabetes\": 0, \"ejection_fraction\": 25, \"high_blood_pressure\": 0, \"platelets\": 210000.0, \"serum_creatinine\": 1.7, \"serum_sodium\": 135, \"sex\": 1, \"smoking\": 0, \"time\": 82, \"death_event\": \"Yes\"}, {\"age\": 58.0, \"anaemia\": 0, \"creatinine_phosphokinase\": 144, \"diabetes\": 1, \"ejection_fraction\": 38, \"high_blood_pressure\": 1, \"platelets\": 327000.0, \"serum_creatinine\": 0.7, \"serum_sodium\": 142, \"sex\": 0, \"smoking\": 0, \"time\": 83, \"death_event\": \"No\"}, {\"age\": 58.0, \"anaemia\": 1, \"creatinine_phosphokinase\": 133, \"diabetes\": 0, \"ejection_fraction\": 60, \"high_blood_pressure\": 1, \"platelets\": 219000.0, \"serum_creatinine\": 1.0, \"serum_sodium\": 141, \"sex\": 1, \"smoking\": 0, \"time\": 83, \"death_event\": \"No\"}, {\"age\": 63.0, \"anaemia\": 1, \"creatinine_phosphokinase\": 514, \"diabetes\": 1, \"ejection_fraction\": 25, \"high_blood_pressure\": 1, \"platelets\": 254000.0, \"serum_creatinine\": 1.3, \"serum_sodium\": 134, \"sex\": 1, \"smoking\": 0, \"time\": 83, \"death_event\": \"No\"}, {\"age\": 70.0, \"anaemia\": 1, \"creatinine_phosphokinase\": 59, \"diabetes\": 0, \"ejection_fraction\": 60, \"high_blood_pressure\": 0, \"platelets\": 255000.0, \"serum_creatinine\": 1.1, \"serum_sodium\": 136, \"sex\": 0, \"smoking\": 0, \"time\": 85, \"death_event\": \"No\"}, {\"age\": 60.0, \"anaemia\": 1, \"creatinine_phosphokinase\": 156, \"diabetes\": 1, \"ejection_fraction\": 25, \"high_blood_pressure\": 1, \"platelets\": 318000.0, \"serum_creatinine\": 1.2, \"serum_sodium\": 137, \"sex\": 0, \"smoking\": 0, \"time\": 85, \"death_event\": \"No\"}, {\"age\": 63.0, \"anaemia\": 1, \"creatinine_phosphokinase\": 61, \"diabetes\": 1, \"ejection_fraction\": 40, \"high_blood_pressure\": 0, \"platelets\": 221000.0, \"serum_creatinine\": 1.1, \"serum_sodium\": 140, \"sex\": 0, \"smoking\": 0, \"time\": 86, \"death_event\": \"No\"}, {\"age\": 65.0, \"anaemia\": 1, \"creatinine_phosphokinase\": 305, \"diabetes\": 0, \"ejection_fraction\": 25, \"high_blood_pressure\": 0, \"platelets\": 298000.0, \"serum_creatinine\": 1.1, \"serum_sodium\": 141, \"sex\": 1, \"smoking\": 0, \"time\": 87, \"death_event\": \"No\"}, {\"age\": 75.0, \"anaemia\": 0, \"creatinine_phosphokinase\": 582, \"diabetes\": 0, \"ejection_fraction\": 45, \"high_blood_pressure\": 1, \"platelets\": 263358.03, \"serum_creatinine\": 1.18, \"serum_sodium\": 137, \"sex\": 1, \"smoking\": 0, \"time\": 87, \"death_event\": \"No\"}, {\"age\": 80.0, \"anaemia\": 0, \"creatinine_phosphokinase\": 898, \"diabetes\": 0, \"ejection_fraction\": 25, \"high_blood_pressure\": 0, \"platelets\": 149000.0, \"serum_creatinine\": 1.1, \"serum_sodium\": 144, \"sex\": 1, \"smoking\": 1, \"time\": 87, \"death_event\": \"No\"}, {\"age\": 42.0, \"anaemia\": 0, \"creatinine_phosphokinase\": 5209, \"diabetes\": 0, \"ejection_fraction\": 30, \"high_blood_pressure\": 0, \"platelets\": 226000.0, \"serum_creatinine\": 1.0, \"serum_sodium\": 140, \"sex\": 1, \"smoking\": 1, \"time\": 87, \"death_event\": \"No\"}, {\"age\": 60.0, \"anaemia\": 0, \"creatinine_phosphokinase\": 53, \"diabetes\": 0, \"ejection_fraction\": 50, \"high_blood_pressure\": 1, \"platelets\": 286000.0, \"serum_creatinine\": 2.3, \"serum_sodium\": 143, \"sex\": 0, \"smoking\": 0, \"time\": 87, \"death_event\": \"No\"}, {\"age\": 72.0, \"anaemia\": 1, \"creatinine_phosphokinase\": 328, \"diabetes\": 0, \"ejection_fraction\": 30, \"high_blood_pressure\": 1, \"platelets\": 621000.0, \"serum_creatinine\": 1.7, \"serum_sodium\": 138, \"sex\": 0, \"smoking\": 1, \"time\": 88, \"death_event\": \"Yes\"}, {\"age\": 55.0, \"anaemia\": 0, \"creatinine_phosphokinase\": 748, \"diabetes\": 0, \"ejection_fraction\": 45, \"high_blood_pressure\": 0, \"platelets\": 263000.0, \"serum_creatinine\": 1.3, \"serum_sodium\": 137, \"sex\": 1, \"smoking\": 0, \"time\": 88, \"death_event\": \"No\"}, {\"age\": 45.0, \"anaemia\": 1, \"creatinine_phosphokinase\": 1876, \"diabetes\": 1, \"ejection_fraction\": 35, \"high_blood_pressure\": 0, \"platelets\": 226000.0, \"serum_creatinine\": 0.9, \"serum_sodium\": 138, \"sex\": 1, \"smoking\": 0, \"time\": 88, \"death_event\": \"No\"}, {\"age\": 63.0, \"anaemia\": 0, \"creatinine_phosphokinase\": 936, \"diabetes\": 0, \"ejection_fraction\": 38, \"high_blood_pressure\": 0, \"platelets\": 304000.0, \"serum_creatinine\": 1.1, \"serum_sodium\": 133, \"sex\": 1, \"smoking\": 1, \"time\": 88, \"death_event\": \"No\"}, {\"age\": 45.0, \"anaemia\": 0, \"creatinine_phosphokinase\": 292, \"diabetes\": 1, \"ejection_fraction\": 35, \"high_blood_pressure\": 0, \"platelets\": 850000.0, \"serum_creatinine\": 1.3, \"serum_sodium\": 142, \"sex\": 1, \"smoking\": 1, \"time\": 88, \"death_event\": \"No\"}, {\"age\": 85.0, \"anaemia\": 0, \"creatinine_phosphokinase\": 129, \"diabetes\": 0, \"ejection_fraction\": 60, \"high_blood_pressure\": 0, \"platelets\": 306000.0, \"serum_creatinine\": 1.2, \"serum_sodium\": 132, \"sex\": 1, \"smoking\": 1, \"time\": 90, \"death_event\": \"Yes\"}, {\"age\": 55.0, \"anaemia\": 0, \"creatinine_phosphokinase\": 60, \"diabetes\": 0, \"ejection_fraction\": 35, \"high_blood_pressure\": 0, \"platelets\": 228000.0, \"serum_creatinine\": 1.2, \"serum_sodium\": 135, \"sex\": 1, \"smoking\": 1, \"time\": 90, \"death_event\": \"No\"}, {\"age\": 50.0, \"anaemia\": 0, \"creatinine_phosphokinase\": 369, \"diabetes\": 1, \"ejection_fraction\": 25, \"high_blood_pressure\": 0, \"platelets\": 252000.0, \"serum_creatinine\": 1.6, \"serum_sodium\": 136, \"sex\": 1, \"smoking\": 0, \"time\": 90, \"death_event\": \"No\"}, {\"age\": 70.0, \"anaemia\": 1, \"creatinine_phosphokinase\": 143, \"diabetes\": 0, \"ejection_fraction\": 60, \"high_blood_pressure\": 0, \"platelets\": 351000.0, \"serum_creatinine\": 1.3, \"serum_sodium\": 137, \"sex\": 0, \"smoking\": 0, \"time\": 90, \"death_event\": \"Yes\"}, {\"age\": 60.0, \"anaemia\": 1, \"creatinine_phosphokinase\": 754, \"diabetes\": 1, \"ejection_fraction\": 40, \"high_blood_pressure\": 1, \"platelets\": 328000.0, \"serum_creatinine\": 1.2, \"serum_sodium\": 126, \"sex\": 1, \"smoking\": 0, \"time\": 91, \"death_event\": \"No\"}, {\"age\": 58.0, \"anaemia\": 1, \"creatinine_phosphokinase\": 400, \"diabetes\": 0, \"ejection_fraction\": 40, \"high_blood_pressure\": 0, \"platelets\": 164000.0, \"serum_creatinine\": 1.0, \"serum_sodium\": 139, \"sex\": 0, \"smoking\": 0, \"time\": 91, \"death_event\": \"No\"}, {\"age\": 60.0, \"anaemia\": 1, \"creatinine_phosphokinase\": 96, \"diabetes\": 1, \"ejection_fraction\": 60, \"high_blood_pressure\": 1, \"platelets\": 271000.0, \"serum_creatinine\": 0.7, \"serum_sodium\": 136, \"sex\": 0, \"smoking\": 0, \"time\": 94, \"death_event\": \"No\"}, {\"age\": 85.0, \"anaemia\": 1, \"creatinine_phosphokinase\": 102, \"diabetes\": 0, \"ejection_fraction\": 60, \"high_blood_pressure\": 0, \"platelets\": 507000.0, \"serum_creatinine\": 3.2, \"serum_sodium\": 138, \"sex\": 0, \"smoking\": 0, \"time\": 94, \"death_event\": \"No\"}, {\"age\": 65.0, \"anaemia\": 1, \"creatinine_phosphokinase\": 113, \"diabetes\": 1, \"ejection_fraction\": 60, \"high_blood_pressure\": 1, \"platelets\": 203000.0, \"serum_creatinine\": 0.9, \"serum_sodium\": 140, \"sex\": 0, \"smoking\": 0, \"time\": 94, \"death_event\": \"No\"}, {\"age\": 86.0, \"anaemia\": 0, \"creatinine_phosphokinase\": 582, \"diabetes\": 0, \"ejection_fraction\": 38, \"high_blood_pressure\": 0, \"platelets\": 263358.03, \"serum_creatinine\": 1.83, \"serum_sodium\": 134, \"sex\": 0, \"smoking\": 0, \"time\": 95, \"death_event\": \"Yes\"}, {\"age\": 60.0, \"anaemia\": 1, \"creatinine_phosphokinase\": 737, \"diabetes\": 0, \"ejection_fraction\": 60, \"high_blood_pressure\": 1, \"platelets\": 210000.0, \"serum_creatinine\": 1.5, \"serum_sodium\": 135, \"sex\": 1, \"smoking\": 1, \"time\": 95, \"death_event\": \"No\"}, {\"age\": 66.0, \"anaemia\": 1, \"creatinine_phosphokinase\": 68, \"diabetes\": 1, \"ejection_fraction\": 38, \"high_blood_pressure\": 1, \"platelets\": 162000.0, \"serum_creatinine\": 1.0, \"serum_sodium\": 136, \"sex\": 0, \"smoking\": 0, \"time\": 95, \"death_event\": \"No\"}, {\"age\": 60.0, \"anaemia\": 0, \"creatinine_phosphokinase\": 96, \"diabetes\": 1, \"ejection_fraction\": 38, \"high_blood_pressure\": 0, \"platelets\": 228000.0, \"serum_creatinine\": 0.75, \"serum_sodium\": 140, \"sex\": 0, \"smoking\": 0, \"time\": 95, \"death_event\": \"No\"}, {\"age\": 60.0, \"anaemia\": 1, \"creatinine_phosphokinase\": 582, \"diabetes\": 0, \"ejection_fraction\": 30, \"high_blood_pressure\": 1, \"platelets\": 127000.0, \"serum_creatinine\": 0.9, \"serum_sodium\": 145, \"sex\": 0, \"smoking\": 0, \"time\": 95, \"death_event\": \"No\"}, {\"age\": 60.0, \"anaemia\": 0, \"creatinine_phosphokinase\": 582, \"diabetes\": 0, \"ejection_fraction\": 40, \"high_blood_pressure\": 0, \"platelets\": 217000.0, \"serum_creatinine\": 3.7, \"serum_sodium\": 134, \"sex\": 1, \"smoking\": 0, \"time\": 96, \"death_event\": \"Yes\"}, {\"age\": 43.0, \"anaemia\": 1, \"creatinine_phosphokinase\": 358, \"diabetes\": 0, \"ejection_fraction\": 50, \"high_blood_pressure\": 0, \"platelets\": 237000.0, \"serum_creatinine\": 1.3, \"serum_sodium\": 135, \"sex\": 0, \"smoking\": 0, \"time\": 97, \"death_event\": \"No\"}, {\"age\": 46.0, \"anaemia\": 0, \"creatinine_phosphokinase\": 168, \"diabetes\": 1, \"ejection_fraction\": 17, \"high_blood_pressure\": 1, \"platelets\": 271000.0, \"serum_creatinine\": 2.1, \"serum_sodium\": 124, \"sex\": 0, \"smoking\": 0, \"time\": 100, \"death_event\": \"Yes\"}, {\"age\": 58.0, \"anaemia\": 1, \"creatinine_phosphokinase\": 200, \"diabetes\": 1, \"ejection_fraction\": 60, \"high_blood_pressure\": 0, \"platelets\": 300000.0, \"serum_creatinine\": 0.8, \"serum_sodium\": 137, \"sex\": 0, \"smoking\": 0, \"time\": 104, \"death_event\": \"No\"}, {\"age\": 61.0, \"anaemia\": 0, \"creatinine_phosphokinase\": 248, \"diabetes\": 0, \"ejection_fraction\": 30, \"high_blood_pressure\": 1, \"platelets\": 267000.0, \"serum_creatinine\": 0.7, \"serum_sodium\": 136, \"sex\": 1, \"smoking\": 1, \"time\": 104, \"death_event\": \"No\"}, {\"age\": 53.0, \"anaemia\": 1, \"creatinine_phosphokinase\": 270, \"diabetes\": 1, \"ejection_fraction\": 35, \"high_blood_pressure\": 0, \"platelets\": 227000.0, \"serum_creatinine\": 3.4, \"serum_sodium\": 145, \"sex\": 1, \"smoking\": 0, \"time\": 105, \"death_event\": \"No\"}, {\"age\": 53.0, \"anaemia\": 1, \"creatinine_phosphokinase\": 1808, \"diabetes\": 0, \"ejection_fraction\": 60, \"high_blood_pressure\": 1, \"platelets\": 249000.0, \"serum_creatinine\": 0.7, \"serum_sodium\": 138, \"sex\": 1, \"smoking\": 1, \"time\": 106, \"death_event\": \"No\"}, {\"age\": 60.0, \"anaemia\": 1, \"creatinine_phosphokinase\": 1082, \"diabetes\": 1, \"ejection_fraction\": 45, \"high_blood_pressure\": 0, \"platelets\": 250000.0, \"serum_creatinine\": 6.1, \"serum_sodium\": 131, \"sex\": 1, \"smoking\": 0, \"time\": 107, \"death_event\": \"No\"}, {\"age\": 46.0, \"anaemia\": 0, \"creatinine_phosphokinase\": 719, \"diabetes\": 0, \"ejection_fraction\": 40, \"high_blood_pressure\": 1, \"platelets\": 263358.03, \"serum_creatinine\": 1.18, \"serum_sodium\": 137, \"sex\": 0, \"smoking\": 0, \"time\": 107, \"death_event\": \"No\"}, {\"age\": 63.0, \"anaemia\": 0, \"creatinine_phosphokinase\": 193, \"diabetes\": 0, \"ejection_fraction\": 60, \"high_blood_pressure\": 1, \"platelets\": 295000.0, \"serum_creatinine\": 1.3, \"serum_sodium\": 145, \"sex\": 1, \"smoking\": 1, \"time\": 107, \"death_event\": \"No\"}, {\"age\": 81.0, \"anaemia\": 0, \"creatinine_phosphokinase\": 4540, \"diabetes\": 0, \"ejection_fraction\": 35, \"high_blood_pressure\": 0, \"platelets\": 231000.0, \"serum_creatinine\": 1.18, \"serum_sodium\": 137, \"sex\": 1, \"smoking\": 1, \"time\": 107, \"death_event\": \"No\"}, {\"age\": 75.0, \"anaemia\": 0, \"creatinine_phosphokinase\": 582, \"diabetes\": 0, \"ejection_fraction\": 40, \"high_blood_pressure\": 0, \"platelets\": 263358.03, \"serum_creatinine\": 1.18, \"serum_sodium\": 137, \"sex\": 1, \"smoking\": 0, \"time\": 107, \"death_event\": \"No\"}, {\"age\": 65.0, \"anaemia\": 1, \"creatinine_phosphokinase\": 59, \"diabetes\": 1, \"ejection_fraction\": 60, \"high_blood_pressure\": 0, \"platelets\": 172000.0, \"serum_creatinine\": 0.9, \"serum_sodium\": 137, \"sex\": 0, \"smoking\": 0, \"time\": 107, \"death_event\": \"No\"}, {\"age\": 68.0, \"anaemia\": 1, \"creatinine_phosphokinase\": 646, \"diabetes\": 0, \"ejection_fraction\": 25, \"high_blood_pressure\": 0, \"platelets\": 305000.0, \"serum_creatinine\": 2.1, \"serum_sodium\": 130, \"sex\": 1, \"smoking\": 0, \"time\": 108, \"death_event\": \"No\"}, {\"age\": 62.0, \"anaemia\": 0, \"creatinine_phosphokinase\": 281, \"diabetes\": 1, \"ejection_fraction\": 35, \"high_blood_pressure\": 0, \"platelets\": 221000.0, \"serum_creatinine\": 1.0, \"serum_sodium\": 136, \"sex\": 0, \"smoking\": 0, \"time\": 108, \"death_event\": \"No\"}, {\"age\": 50.0, \"anaemia\": 0, \"creatinine_phosphokinase\": 1548, \"diabetes\": 0, \"ejection_fraction\": 30, \"high_blood_pressure\": 1, \"platelets\": 211000.0, \"serum_creatinine\": 0.8, \"serum_sodium\": 138, \"sex\": 1, \"smoking\": 0, \"time\": 108, \"death_event\": \"No\"}, {\"age\": 80.0, \"anaemia\": 0, \"creatinine_phosphokinase\": 805, \"diabetes\": 0, \"ejection_fraction\": 38, \"high_blood_pressure\": 0, \"platelets\": 263358.03, \"serum_creatinine\": 1.1, \"serum_sodium\": 134, \"sex\": 1, \"smoking\": 0, \"time\": 109, \"death_event\": \"Yes\"}, {\"age\": 46.0, \"anaemia\": 1, \"creatinine_phosphokinase\": 291, \"diabetes\": 0, \"ejection_fraction\": 35, \"high_blood_pressure\": 0, \"platelets\": 348000.0, \"serum_creatinine\": 0.9, \"serum_sodium\": 140, \"sex\": 0, \"smoking\": 0, \"time\": 109, \"death_event\": \"No\"}, {\"age\": 50.0, \"anaemia\": 0, \"creatinine_phosphokinase\": 482, \"diabetes\": 1, \"ejection_fraction\": 30, \"high_blood_pressure\": 0, \"platelets\": 329000.0, \"serum_creatinine\": 0.9, \"serum_sodium\": 132, \"sex\": 0, \"smoking\": 0, \"time\": 109, \"death_event\": \"No\"}, {\"age\": 61.0, \"anaemia\": 1, \"creatinine_phosphokinase\": 84, \"diabetes\": 0, \"ejection_fraction\": 40, \"high_blood_pressure\": 1, \"platelets\": 229000.0, \"serum_creatinine\": 0.9, \"serum_sodium\": 141, \"sex\": 0, \"smoking\": 0, \"time\": 110, \"death_event\": \"No\"}, {\"age\": 72.0, \"anaemia\": 1, \"creatinine_phosphokinase\": 943, \"diabetes\": 0, \"ejection_fraction\": 25, \"high_blood_pressure\": 1, \"platelets\": 338000.0, \"serum_creatinine\": 1.7, \"serum_sodium\": 139, \"sex\": 1, \"smoking\": 1, \"time\": 111, \"death_event\": \"Yes\"}, {\"age\": 50.0, \"anaemia\": 0, \"creatinine_phosphokinase\": 185, \"diabetes\": 0, \"ejection_fraction\": 30, \"high_blood_pressure\": 0, \"platelets\": 266000.0, \"serum_creatinine\": 0.7, \"serum_sodium\": 141, \"sex\": 1, \"smoking\": 1, \"time\": 112, \"death_event\": \"No\"}, {\"age\": 52.0, \"anaemia\": 0, \"creatinine_phosphokinase\": 132, \"diabetes\": 0, \"ejection_fraction\": 30, \"high_blood_pressure\": 0, \"platelets\": 218000.0, \"serum_creatinine\": 0.7, \"serum_sodium\": 136, \"sex\": 1, \"smoking\": 1, \"time\": 112, \"death_event\": \"No\"}, {\"age\": 64.0, \"anaemia\": 0, \"creatinine_phosphokinase\": 1610, \"diabetes\": 0, \"ejection_fraction\": 60, \"high_blood_pressure\": 0, \"platelets\": 242000.0, \"serum_creatinine\": 1.0, \"serum_sodium\": 137, \"sex\": 1, \"smoking\": 0, \"time\": 113, \"death_event\": \"No\"}, {\"age\": 75.0, \"anaemia\": 1, \"creatinine_phosphokinase\": 582, \"diabetes\": 0, \"ejection_fraction\": 30, \"high_blood_pressure\": 0, \"platelets\": 225000.0, \"serum_creatinine\": 1.83, \"serum_sodium\": 134, \"sex\": 1, \"smoking\": 0, \"time\": 113, \"death_event\": \"Yes\"}, {\"age\": 60.0, \"anaemia\": 0, \"creatinine_phosphokinase\": 2261, \"diabetes\": 0, \"ejection_fraction\": 35, \"high_blood_pressure\": 1, \"platelets\": 228000.0, \"serum_creatinine\": 0.9, \"serum_sodium\": 136, \"sex\": 1, \"smoking\": 0, \"time\": 115, \"death_event\": \"No\"}, {\"age\": 72.0, \"anaemia\": 0, \"creatinine_phosphokinase\": 233, \"diabetes\": 0, \"ejection_fraction\": 45, \"high_blood_pressure\": 1, \"platelets\": 235000.0, \"serum_creatinine\": 2.5, \"serum_sodium\": 135, \"sex\": 0, \"smoking\": 0, \"time\": 115, \"death_event\": \"Yes\"}, {\"age\": 62.0, \"anaemia\": 0, \"creatinine_phosphokinase\": 30, \"diabetes\": 1, \"ejection_fraction\": 60, \"high_blood_pressure\": 1, \"platelets\": 244000.0, \"serum_creatinine\": 0.9, \"serum_sodium\": 139, \"sex\": 1, \"smoking\": 0, \"time\": 117, \"death_event\": \"No\"}, {\"age\": 50.0, \"anaemia\": 0, \"creatinine_phosphokinase\": 115, \"diabetes\": 0, \"ejection_fraction\": 45, \"high_blood_pressure\": 1, \"platelets\": 184000.0, \"serum_creatinine\": 0.9, \"serum_sodium\": 134, \"sex\": 1, \"smoking\": 1, \"time\": 118, \"death_event\": \"No\"}, {\"age\": 50.0, \"anaemia\": 0, \"creatinine_phosphokinase\": 1846, \"diabetes\": 1, \"ejection_fraction\": 35, \"high_blood_pressure\": 0, \"platelets\": 263358.03, \"serum_creatinine\": 1.18, \"serum_sodium\": 137, \"sex\": 1, \"smoking\": 1, \"time\": 119, \"death_event\": \"No\"}, {\"age\": 65.0, \"anaemia\": 1, \"creatinine_phosphokinase\": 335, \"diabetes\": 0, \"ejection_fraction\": 35, \"high_blood_pressure\": 1, \"platelets\": 235000.0, \"serum_creatinine\": 0.8, \"serum_sodium\": 136, \"sex\": 0, \"smoking\": 0, \"time\": 120, \"death_event\": \"No\"}, {\"age\": 60.0, \"anaemia\": 1, \"creatinine_phosphokinase\": 231, \"diabetes\": 1, \"ejection_fraction\": 25, \"high_blood_pressure\": 0, \"platelets\": 194000.0, \"serum_creatinine\": 1.7, \"serum_sodium\": 140, \"sex\": 1, \"smoking\": 0, \"time\": 120, \"death_event\": \"No\"}, {\"age\": 52.0, \"anaemia\": 1, \"creatinine_phosphokinase\": 58, \"diabetes\": 0, \"ejection_fraction\": 35, \"high_blood_pressure\": 0, \"platelets\": 277000.0, \"serum_creatinine\": 1.4, \"serum_sodium\": 136, \"sex\": 0, \"smoking\": 0, \"time\": 120, \"death_event\": \"No\"}, {\"age\": 50.0, \"anaemia\": 0, \"creatinine_phosphokinase\": 250, \"diabetes\": 0, \"ejection_fraction\": 25, \"high_blood_pressure\": 0, \"platelets\": 262000.0, \"serum_creatinine\": 1.0, \"serum_sodium\": 136, \"sex\": 1, \"smoking\": 1, \"time\": 120, \"death_event\": \"No\"}, {\"age\": 85.0, \"anaemia\": 1, \"creatinine_phosphokinase\": 910, \"diabetes\": 0, \"ejection_fraction\": 50, \"high_blood_pressure\": 0, \"platelets\": 235000.0, \"serum_creatinine\": 1.3, \"serum_sodium\": 134, \"sex\": 1, \"smoking\": 0, \"time\": 121, \"death_event\": \"No\"}, {\"age\": 59.0, \"anaemia\": 1, \"creatinine_phosphokinase\": 129, \"diabetes\": 0, \"ejection_fraction\": 45, \"high_blood_pressure\": 1, \"platelets\": 362000.0, \"serum_creatinine\": 1.1, \"serum_sodium\": 139, \"sex\": 1, \"smoking\": 1, \"time\": 121, \"death_event\": \"No\"}, {\"age\": 66.0, \"anaemia\": 1, \"creatinine_phosphokinase\": 72, \"diabetes\": 0, \"ejection_fraction\": 40, \"high_blood_pressure\": 1, \"platelets\": 242000.0, \"serum_creatinine\": 1.2, \"serum_sodium\": 134, \"sex\": 1, \"smoking\": 0, \"time\": 121, \"death_event\": \"No\"}, {\"age\": 45.0, \"anaemia\": 1, \"creatinine_phosphokinase\": 130, \"diabetes\": 0, \"ejection_fraction\": 35, \"high_blood_pressure\": 0, \"platelets\": 174000.0, \"serum_creatinine\": 0.8, \"serum_sodium\": 139, \"sex\": 1, \"smoking\": 1, \"time\": 121, \"death_event\": \"No\"}, {\"age\": 63.0, \"anaemia\": 1, \"creatinine_phosphokinase\": 582, \"diabetes\": 0, \"ejection_fraction\": 40, \"high_blood_pressure\": 0, \"platelets\": 448000.0, \"serum_creatinine\": 0.9, \"serum_sodium\": 137, \"sex\": 1, \"smoking\": 1, \"time\": 123, \"death_event\": \"No\"}, {\"age\": 50.0, \"anaemia\": 1, \"creatinine_phosphokinase\": 2334, \"diabetes\": 1, \"ejection_fraction\": 35, \"high_blood_pressure\": 0, \"platelets\": 75000.0, \"serum_creatinine\": 0.9, \"serum_sodium\": 142, \"sex\": 0, \"smoking\": 0, \"time\": 126, \"death_event\": \"Yes\"}, {\"age\": 45.0, \"anaemia\": 0, \"creatinine_phosphokinase\": 2442, \"diabetes\": 1, \"ejection_fraction\": 30, \"high_blood_pressure\": 0, \"platelets\": 334000.0, \"serum_creatinine\": 1.1, \"serum_sodium\": 139, \"sex\": 1, \"smoking\": 0, \"time\": 129, \"death_event\": \"Yes\"}, {\"age\": 80.0, \"anaemia\": 0, \"creatinine_phosphokinase\": 776, \"diabetes\": 1, \"ejection_fraction\": 38, \"high_blood_pressure\": 1, \"platelets\": 192000.0, \"serum_creatinine\": 1.3, \"serum_sodium\": 135, \"sex\": 0, \"smoking\": 0, \"time\": 130, \"death_event\": \"Yes\"}, {\"age\": 53.0, \"anaemia\": 0, \"creatinine_phosphokinase\": 196, \"diabetes\": 0, \"ejection_fraction\": 60, \"high_blood_pressure\": 0, \"platelets\": 220000.0, \"serum_creatinine\": 0.7, \"serum_sodium\": 133, \"sex\": 1, \"smoking\": 1, \"time\": 134, \"death_event\": \"No\"}, {\"age\": 59.0, \"anaemia\": 0, \"creatinine_phosphokinase\": 66, \"diabetes\": 1, \"ejection_fraction\": 20, \"high_blood_pressure\": 0, \"platelets\": 70000.0, \"serum_creatinine\": 2.4, \"serum_sodium\": 134, \"sex\": 1, \"smoking\": 0, \"time\": 135, \"death_event\": \"Yes\"}, {\"age\": 65.0, \"anaemia\": 0, \"creatinine_phosphokinase\": 582, \"diabetes\": 1, \"ejection_fraction\": 40, \"high_blood_pressure\": 0, \"platelets\": 270000.0, \"serum_creatinine\": 1.0, \"serum_sodium\": 138, \"sex\": 0, \"smoking\": 0, \"time\": 140, \"death_event\": \"No\"}, {\"age\": 70.0, \"anaemia\": 0, \"creatinine_phosphokinase\": 835, \"diabetes\": 0, \"ejection_fraction\": 35, \"high_blood_pressure\": 1, \"platelets\": 305000.0, \"serum_creatinine\": 0.8, \"serum_sodium\": 133, \"sex\": 0, \"smoking\": 0, \"time\": 145, \"death_event\": \"No\"}, {\"age\": 51.0, \"anaemia\": 1, \"creatinine_phosphokinase\": 582, \"diabetes\": 1, \"ejection_fraction\": 35, \"high_blood_pressure\": 0, \"platelets\": 263358.03, \"serum_creatinine\": 1.5, \"serum_sodium\": 136, \"sex\": 1, \"smoking\": 1, \"time\": 145, \"death_event\": \"No\"}, {\"age\": 52.0, \"anaemia\": 0, \"creatinine_phosphokinase\": 3966, \"diabetes\": 0, \"ejection_fraction\": 40, \"high_blood_pressure\": 0, \"platelets\": 325000.0, \"serum_creatinine\": 0.9, \"serum_sodium\": 140, \"sex\": 1, \"smoking\": 1, \"time\": 146, \"death_event\": \"No\"}, {\"age\": 70.0, \"anaemia\": 1, \"creatinine_phosphokinase\": 171, \"diabetes\": 0, \"ejection_fraction\": 60, \"high_blood_pressure\": 1, \"platelets\": 176000.0, \"serum_creatinine\": 1.1, \"serum_sodium\": 145, \"sex\": 1, \"smoking\": 1, \"time\": 146, \"death_event\": \"No\"}, {\"age\": 50.0, \"anaemia\": 1, \"creatinine_phosphokinase\": 115, \"diabetes\": 0, \"ejection_fraction\": 20, \"high_blood_pressure\": 0, \"platelets\": 189000.0, \"serum_creatinine\": 0.8, \"serum_sodium\": 139, \"sex\": 1, \"smoking\": 0, \"time\": 146, \"death_event\": \"No\"}, {\"age\": 65.0, \"anaemia\": 0, \"creatinine_phosphokinase\": 198, \"diabetes\": 1, \"ejection_fraction\": 35, \"high_blood_pressure\": 1, \"platelets\": 281000.0, \"serum_creatinine\": 0.9, \"serum_sodium\": 137, \"sex\": 1, \"smoking\": 1, \"time\": 146, \"death_event\": \"No\"}, {\"age\": 60.0, \"anaemia\": 1, \"creatinine_phosphokinase\": 95, \"diabetes\": 0, \"ejection_fraction\": 60, \"high_blood_pressure\": 0, \"platelets\": 337000.0, \"serum_creatinine\": 1.0, \"serum_sodium\": 138, \"sex\": 1, \"smoking\": 1, \"time\": 146, \"death_event\": \"No\"}, {\"age\": 69.0, \"anaemia\": 0, \"creatinine_phosphokinase\": 1419, \"diabetes\": 0, \"ejection_fraction\": 40, \"high_blood_pressure\": 0, \"platelets\": 105000.0, \"serum_creatinine\": 1.0, \"serum_sodium\": 135, \"sex\": 1, \"smoking\": 1, \"time\": 147, \"death_event\": \"No\"}, {\"age\": 49.0, \"anaemia\": 1, \"creatinine_phosphokinase\": 69, \"diabetes\": 0, \"ejection_fraction\": 50, \"high_blood_pressure\": 0, \"platelets\": 132000.0, \"serum_creatinine\": 1.0, \"serum_sodium\": 140, \"sex\": 0, \"smoking\": 0, \"time\": 147, \"death_event\": \"No\"}, {\"age\": 63.0, \"anaemia\": 1, \"creatinine_phosphokinase\": 122, \"diabetes\": 1, \"ejection_fraction\": 60, \"high_blood_pressure\": 0, \"platelets\": 267000.0, \"serum_creatinine\": 1.2, \"serum_sodium\": 145, \"sex\": 1, \"smoking\": 0, \"time\": 147, \"death_event\": \"No\"}, {\"age\": 55.0, \"anaemia\": 0, \"creatinine_phosphokinase\": 835, \"diabetes\": 0, \"ejection_fraction\": 40, \"high_blood_pressure\": 0, \"platelets\": 279000.0, \"serum_creatinine\": 0.7, \"serum_sodium\": 140, \"sex\": 1, \"smoking\": 1, \"time\": 147, \"death_event\": \"No\"}, {\"age\": 40.0, \"anaemia\": 0, \"creatinine_phosphokinase\": 478, \"diabetes\": 1, \"ejection_fraction\": 30, \"high_blood_pressure\": 0, \"platelets\": 303000.0, \"serum_creatinine\": 0.9, \"serum_sodium\": 136, \"sex\": 1, \"smoking\": 0, \"time\": 148, \"death_event\": \"No\"}, {\"age\": 59.0, \"anaemia\": 1, \"creatinine_phosphokinase\": 176, \"diabetes\": 1, \"ejection_fraction\": 25, \"high_blood_pressure\": 0, \"platelets\": 221000.0, \"serum_creatinine\": 1.0, \"serum_sodium\": 136, \"sex\": 1, \"smoking\": 1, \"time\": 150, \"death_event\": \"Yes\"}, {\"age\": 65.0, \"anaemia\": 0, \"creatinine_phosphokinase\": 395, \"diabetes\": 1, \"ejection_fraction\": 25, \"high_blood_pressure\": 0, \"platelets\": 265000.0, \"serum_creatinine\": 1.2, \"serum_sodium\": 136, \"sex\": 1, \"smoking\": 1, \"time\": 154, \"death_event\": \"Yes\"}, {\"age\": 75.0, \"anaemia\": 0, \"creatinine_phosphokinase\": 99, \"diabetes\": 0, \"ejection_fraction\": 38, \"high_blood_pressure\": 1, \"platelets\": 224000.0, \"serum_creatinine\": 2.5, \"serum_sodium\": 134, \"sex\": 1, \"smoking\": 0, \"time\": 162, \"death_event\": \"Yes\"}, {\"age\": 58.0, \"anaemia\": 1, \"creatinine_phosphokinase\": 145, \"diabetes\": 0, \"ejection_fraction\": 25, \"high_blood_pressure\": 0, \"platelets\": 219000.0, \"serum_creatinine\": 1.2, \"serum_sodium\": 137, \"sex\": 1, \"smoking\": 1, \"time\": 170, \"death_event\": \"Yes\"}, {\"age\": 60.667, \"anaemia\": 1, \"creatinine_phosphokinase\": 104, \"diabetes\": 1, \"ejection_fraction\": 30, \"high_blood_pressure\": 0, \"platelets\": 389000.0, \"serum_creatinine\": 1.5, \"serum_sodium\": 136, \"sex\": 1, \"smoking\": 0, \"time\": 171, \"death_event\": \"Yes\"}, {\"age\": 50.0, \"anaemia\": 0, \"creatinine_phosphokinase\": 582, \"diabetes\": 0, \"ejection_fraction\": 50, \"high_blood_pressure\": 0, \"platelets\": 153000.0, \"serum_creatinine\": 0.6, \"serum_sodium\": 134, \"sex\": 0, \"smoking\": 0, \"time\": 172, \"death_event\": \"Yes\"}, {\"age\": 60.0, \"anaemia\": 0, \"creatinine_phosphokinase\": 1896, \"diabetes\": 1, \"ejection_fraction\": 25, \"high_blood_pressure\": 0, \"platelets\": 365000.0, \"serum_creatinine\": 2.1, \"serum_sodium\": 144, \"sex\": 0, \"smoking\": 0, \"time\": 172, \"death_event\": \"Yes\"}, {\"age\": 60.667, \"anaemia\": 1, \"creatinine_phosphokinase\": 151, \"diabetes\": 1, \"ejection_fraction\": 40, \"high_blood_pressure\": 1, \"platelets\": 201000.0, \"serum_creatinine\": 1.0, \"serum_sodium\": 136, \"sex\": 0, \"smoking\": 0, \"time\": 172, \"death_event\": \"No\"}, {\"age\": 40.0, \"anaemia\": 0, \"creatinine_phosphokinase\": 244, \"diabetes\": 0, \"ejection_fraction\": 45, \"high_blood_pressure\": 1, \"platelets\": 275000.0, \"serum_creatinine\": 0.9, \"serum_sodium\": 140, \"sex\": 0, \"smoking\": 0, \"time\": 174, \"death_event\": \"No\"}, {\"age\": 80.0, \"anaemia\": 0, \"creatinine_phosphokinase\": 582, \"diabetes\": 1, \"ejection_fraction\": 35, \"high_blood_pressure\": 0, \"platelets\": 350000.0, \"serum_creatinine\": 2.1, \"serum_sodium\": 134, \"sex\": 1, \"smoking\": 0, \"time\": 174, \"death_event\": \"No\"}, {\"age\": 64.0, \"anaemia\": 1, \"creatinine_phosphokinase\": 62, \"diabetes\": 0, \"ejection_fraction\": 60, \"high_blood_pressure\": 0, \"platelets\": 309000.0, \"serum_creatinine\": 1.5, \"serum_sodium\": 135, \"sex\": 0, \"smoking\": 0, \"time\": 174, \"death_event\": \"No\"}, {\"age\": 50.0, \"anaemia\": 1, \"creatinine_phosphokinase\": 121, \"diabetes\": 1, \"ejection_fraction\": 40, \"high_blood_pressure\": 0, \"platelets\": 260000.0, \"serum_creatinine\": 0.7, \"serum_sodium\": 130, \"sex\": 1, \"smoking\": 0, \"time\": 175, \"death_event\": \"No\"}, {\"age\": 73.0, \"anaemia\": 1, \"creatinine_phosphokinase\": 231, \"diabetes\": 1, \"ejection_fraction\": 30, \"high_blood_pressure\": 0, \"platelets\": 160000.0, \"serum_creatinine\": 1.18, \"serum_sodium\": 142, \"sex\": 1, \"smoking\": 1, \"time\": 180, \"death_event\": \"No\"}, {\"age\": 45.0, \"anaemia\": 0, \"creatinine_phosphokinase\": 582, \"diabetes\": 0, \"ejection_fraction\": 20, \"high_blood_pressure\": 1, \"platelets\": 126000.0, \"serum_creatinine\": 1.6, \"serum_sodium\": 135, \"sex\": 1, \"smoking\": 0, \"time\": 180, \"death_event\": \"Yes\"}, {\"age\": 77.0, \"anaemia\": 1, \"creatinine_phosphokinase\": 418, \"diabetes\": 0, \"ejection_fraction\": 45, \"high_blood_pressure\": 0, \"platelets\": 223000.0, \"serum_creatinine\": 1.8, \"serum_sodium\": 145, \"sex\": 1, \"smoking\": 0, \"time\": 180, \"death_event\": \"Yes\"}, {\"age\": 45.0, \"anaemia\": 0, \"creatinine_phosphokinase\": 582, \"diabetes\": 1, \"ejection_fraction\": 38, \"high_blood_pressure\": 1, \"platelets\": 263358.03, \"serum_creatinine\": 1.18, \"serum_sodium\": 137, \"sex\": 0, \"smoking\": 0, \"time\": 185, \"death_event\": \"No\"}, {\"age\": 65.0, \"anaemia\": 0, \"creatinine_phosphokinase\": 167, \"diabetes\": 0, \"ejection_fraction\": 30, \"high_blood_pressure\": 0, \"platelets\": 259000.0, \"serum_creatinine\": 0.8, \"serum_sodium\": 138, \"sex\": 0, \"smoking\": 0, \"time\": 186, \"death_event\": \"No\"}, {\"age\": 50.0, \"anaemia\": 1, \"creatinine_phosphokinase\": 582, \"diabetes\": 1, \"ejection_fraction\": 20, \"high_blood_pressure\": 1, \"platelets\": 279000.0, \"serum_creatinine\": 1.0, \"serum_sodium\": 134, \"sex\": 0, \"smoking\": 0, \"time\": 186, \"death_event\": \"No\"}, {\"age\": 60.0, \"anaemia\": 0, \"creatinine_phosphokinase\": 1211, \"diabetes\": 1, \"ejection_fraction\": 35, \"high_blood_pressure\": 0, \"platelets\": 263358.03, \"serum_creatinine\": 1.8, \"serum_sodium\": 113, \"sex\": 1, \"smoking\": 1, \"time\": 186, \"death_event\": \"No\"}, {\"age\": 63.0, \"anaemia\": 1, \"creatinine_phosphokinase\": 1767, \"diabetes\": 0, \"ejection_fraction\": 45, \"high_blood_pressure\": 0, \"platelets\": 73000.0, \"serum_creatinine\": 0.7, \"serum_sodium\": 137, \"sex\": 1, \"smoking\": 0, \"time\": 186, \"death_event\": \"No\"}, {\"age\": 45.0, \"anaemia\": 0, \"creatinine_phosphokinase\": 308, \"diabetes\": 1, \"ejection_fraction\": 60, \"high_blood_pressure\": 1, \"platelets\": 377000.0, \"serum_creatinine\": 1.0, \"serum_sodium\": 136, \"sex\": 1, \"smoking\": 0, \"time\": 186, \"death_event\": \"No\"}, {\"age\": 70.0, \"anaemia\": 0, \"creatinine_phosphokinase\": 97, \"diabetes\": 0, \"ejection_fraction\": 60, \"high_blood_pressure\": 1, \"platelets\": 220000.0, \"serum_creatinine\": 0.9, \"serum_sodium\": 138, \"sex\": 1, \"smoking\": 0, \"time\": 186, \"death_event\": \"No\"}, {\"age\": 60.0, \"anaemia\": 0, \"creatinine_phosphokinase\": 59, \"diabetes\": 0, \"ejection_fraction\": 25, \"high_blood_pressure\": 1, \"platelets\": 212000.0, \"serum_creatinine\": 3.5, \"serum_sodium\": 136, \"sex\": 1, \"smoking\": 1, \"time\": 187, \"death_event\": \"No\"}, {\"age\": 78.0, \"anaemia\": 1, \"creatinine_phosphokinase\": 64, \"diabetes\": 0, \"ejection_fraction\": 40, \"high_blood_pressure\": 0, \"platelets\": 277000.0, \"serum_creatinine\": 0.7, \"serum_sodium\": 137, \"sex\": 1, \"smoking\": 1, \"time\": 187, \"death_event\": \"No\"}, {\"age\": 50.0, \"anaemia\": 1, \"creatinine_phosphokinase\": 167, \"diabetes\": 1, \"ejection_fraction\": 45, \"high_blood_pressure\": 0, \"platelets\": 362000.0, \"serum_creatinine\": 1.0, \"serum_sodium\": 136, \"sex\": 0, \"smoking\": 0, \"time\": 187, \"death_event\": \"No\"}, {\"age\": 40.0, \"anaemia\": 1, \"creatinine_phosphokinase\": 101, \"diabetes\": 0, \"ejection_fraction\": 40, \"high_blood_pressure\": 0, \"platelets\": 226000.0, \"serum_creatinine\": 0.8, \"serum_sodium\": 141, \"sex\": 0, \"smoking\": 0, \"time\": 187, \"death_event\": \"No\"}, {\"age\": 85.0, \"anaemia\": 0, \"creatinine_phosphokinase\": 212, \"diabetes\": 0, \"ejection_fraction\": 38, \"high_blood_pressure\": 0, \"platelets\": 186000.0, \"serum_creatinine\": 0.9, \"serum_sodium\": 136, \"sex\": 1, \"smoking\": 0, \"time\": 187, \"death_event\": \"No\"}, {\"age\": 60.0, \"anaemia\": 1, \"creatinine_phosphokinase\": 2281, \"diabetes\": 1, \"ejection_fraction\": 40, \"high_blood_pressure\": 0, \"platelets\": 283000.0, \"serum_creatinine\": 1.0, \"serum_sodium\": 141, \"sex\": 0, \"smoking\": 0, \"time\": 187, \"death_event\": \"No\"}, {\"age\": 49.0, \"anaemia\": 0, \"creatinine_phosphokinase\": 972, \"diabetes\": 1, \"ejection_fraction\": 35, \"high_blood_pressure\": 1, \"platelets\": 268000.0, \"serum_creatinine\": 0.8, \"serum_sodium\": 130, \"sex\": 0, \"smoking\": 0, \"time\": 187, \"death_event\": \"No\"}, {\"age\": 70.0, \"anaemia\": 0, \"creatinine_phosphokinase\": 212, \"diabetes\": 1, \"ejection_fraction\": 17, \"high_blood_pressure\": 1, \"platelets\": 389000.0, \"serum_creatinine\": 1.0, \"serum_sodium\": 136, \"sex\": 1, \"smoking\": 1, \"time\": 188, \"death_event\": \"No\"}, {\"age\": 50.0, \"anaemia\": 0, \"creatinine_phosphokinase\": 582, \"diabetes\": 0, \"ejection_fraction\": 62, \"high_blood_pressure\": 1, \"platelets\": 147000.0, \"serum_creatinine\": 0.8, \"serum_sodium\": 140, \"sex\": 1, \"smoking\": 1, \"time\": 192, \"death_event\": \"No\"}, {\"age\": 78.0, \"anaemia\": 0, \"creatinine_phosphokinase\": 224, \"diabetes\": 0, \"ejection_fraction\": 50, \"high_blood_pressure\": 0, \"platelets\": 481000.0, \"serum_creatinine\": 1.4, \"serum_sodium\": 138, \"sex\": 1, \"smoking\": 1, \"time\": 192, \"death_event\": \"No\"}, {\"age\": 48.0, \"anaemia\": 1, \"creatinine_phosphokinase\": 131, \"diabetes\": 1, \"ejection_fraction\": 30, \"high_blood_pressure\": 1, \"platelets\": 244000.0, \"serum_creatinine\": 1.6, \"serum_sodium\": 130, \"sex\": 0, \"smoking\": 0, \"time\": 193, \"death_event\": \"Yes\"}, {\"age\": 65.0, \"anaemia\": 1, \"creatinine_phosphokinase\": 135, \"diabetes\": 0, \"ejection_fraction\": 35, \"high_blood_pressure\": 1, \"platelets\": 290000.0, \"serum_creatinine\": 0.8, \"serum_sodium\": 134, \"sex\": 1, \"smoking\": 0, \"time\": 194, \"death_event\": \"No\"}, {\"age\": 73.0, \"anaemia\": 0, \"creatinine_phosphokinase\": 582, \"diabetes\": 0, \"ejection_fraction\": 35, \"high_blood_pressure\": 1, \"platelets\": 203000.0, \"serum_creatinine\": 1.3, \"serum_sodium\": 134, \"sex\": 1, \"smoking\": 0, \"time\": 195, \"death_event\": \"No\"}, {\"age\": 70.0, \"anaemia\": 0, \"creatinine_phosphokinase\": 1202, \"diabetes\": 0, \"ejection_fraction\": 50, \"high_blood_pressure\": 1, \"platelets\": 358000.0, \"serum_creatinine\": 0.9, \"serum_sodium\": 141, \"sex\": 0, \"smoking\": 0, \"time\": 196, \"death_event\": \"No\"}, {\"age\": 54.0, \"anaemia\": 1, \"creatinine_phosphokinase\": 427, \"diabetes\": 0, \"ejection_fraction\": 70, \"high_blood_pressure\": 1, \"platelets\": 151000.0, \"serum_creatinine\": 9.0, \"serum_sodium\": 137, \"sex\": 0, \"smoking\": 0, \"time\": 196, \"death_event\": \"Yes\"}, {\"age\": 68.0, \"anaemia\": 1, \"creatinine_phosphokinase\": 1021, \"diabetes\": 1, \"ejection_fraction\": 35, \"high_blood_pressure\": 0, \"platelets\": 271000.0, \"serum_creatinine\": 1.1, \"serum_sodium\": 134, \"sex\": 1, \"smoking\": 0, \"time\": 197, \"death_event\": \"No\"}, {\"age\": 55.0, \"anaemia\": 0, \"creatinine_phosphokinase\": 582, \"diabetes\": 1, \"ejection_fraction\": 35, \"high_blood_pressure\": 1, \"platelets\": 371000.0, \"serum_creatinine\": 0.7, \"serum_sodium\": 140, \"sex\": 0, \"smoking\": 0, \"time\": 197, \"death_event\": \"No\"}, {\"age\": 73.0, \"anaemia\": 0, \"creatinine_phosphokinase\": 582, \"diabetes\": 0, \"ejection_fraction\": 20, \"high_blood_pressure\": 0, \"platelets\": 263358.03, \"serum_creatinine\": 1.83, \"serum_sodium\": 134, \"sex\": 1, \"smoking\": 0, \"time\": 198, \"death_event\": \"Yes\"}, {\"age\": 65.0, \"anaemia\": 0, \"creatinine_phosphokinase\": 118, \"diabetes\": 0, \"ejection_fraction\": 50, \"high_blood_pressure\": 0, \"platelets\": 194000.0, \"serum_creatinine\": 1.1, \"serum_sodium\": 145, \"sex\": 1, \"smoking\": 1, \"time\": 200, \"death_event\": \"No\"}, {\"age\": 42.0, \"anaemia\": 1, \"creatinine_phosphokinase\": 86, \"diabetes\": 0, \"ejection_fraction\": 35, \"high_blood_pressure\": 0, \"platelets\": 365000.0, \"serum_creatinine\": 1.1, \"serum_sodium\": 139, \"sex\": 1, \"smoking\": 1, \"time\": 201, \"death_event\": \"No\"}, {\"age\": 47.0, \"anaemia\": 0, \"creatinine_phosphokinase\": 582, \"diabetes\": 0, \"ejection_fraction\": 25, \"high_blood_pressure\": 0, \"platelets\": 130000.0, \"serum_creatinine\": 0.8, \"serum_sodium\": 134, \"sex\": 1, \"smoking\": 0, \"time\": 201, \"death_event\": \"No\"}, {\"age\": 58.0, \"anaemia\": 0, \"creatinine_phosphokinase\": 582, \"diabetes\": 1, \"ejection_fraction\": 25, \"high_blood_pressure\": 0, \"platelets\": 504000.0, \"serum_creatinine\": 1.0, \"serum_sodium\": 138, \"sex\": 1, \"smoking\": 0, \"time\": 205, \"death_event\": \"No\"}, {\"age\": 75.0, \"anaemia\": 0, \"creatinine_phosphokinase\": 675, \"diabetes\": 1, \"ejection_fraction\": 60, \"high_blood_pressure\": 0, \"platelets\": 265000.0, \"serum_creatinine\": 1.4, \"serum_sodium\": 125, \"sex\": 0, \"smoking\": 0, \"time\": 205, \"death_event\": \"No\"}, {\"age\": 58.0, \"anaemia\": 1, \"creatinine_phosphokinase\": 57, \"diabetes\": 0, \"ejection_fraction\": 25, \"high_blood_pressure\": 0, \"platelets\": 189000.0, \"serum_creatinine\": 1.3, \"serum_sodium\": 132, \"sex\": 1, \"smoking\": 1, \"time\": 205, \"death_event\": \"No\"}, {\"age\": 55.0, \"anaemia\": 1, \"creatinine_phosphokinase\": 2794, \"diabetes\": 0, \"ejection_fraction\": 35, \"high_blood_pressure\": 1, \"platelets\": 141000.0, \"serum_creatinine\": 1.0, \"serum_sodium\": 140, \"sex\": 1, \"smoking\": 0, \"time\": 206, \"death_event\": \"No\"}, {\"age\": 65.0, \"anaemia\": 0, \"creatinine_phosphokinase\": 56, \"diabetes\": 0, \"ejection_fraction\": 25, \"high_blood_pressure\": 0, \"platelets\": 237000.0, \"serum_creatinine\": 5.0, \"serum_sodium\": 130, \"sex\": 0, \"smoking\": 0, \"time\": 207, \"death_event\": \"No\"}, {\"age\": 72.0, \"anaemia\": 0, \"creatinine_phosphokinase\": 211, \"diabetes\": 0, \"ejection_fraction\": 25, \"high_blood_pressure\": 0, \"platelets\": 274000.0, \"serum_creatinine\": 1.2, \"serum_sodium\": 134, \"sex\": 0, \"smoking\": 0, \"time\": 207, \"death_event\": \"No\"}, {\"age\": 60.0, \"anaemia\": 0, \"creatinine_phosphokinase\": 166, \"diabetes\": 0, \"ejection_fraction\": 30, \"high_blood_pressure\": 0, \"platelets\": 62000.0, \"serum_creatinine\": 1.7, \"serum_sodium\": 127, \"sex\": 0, \"smoking\": 0, \"time\": 207, \"death_event\": \"Yes\"}, {\"age\": 70.0, \"anaemia\": 0, \"creatinine_phosphokinase\": 93, \"diabetes\": 0, \"ejection_fraction\": 35, \"high_blood_pressure\": 0, \"platelets\": 185000.0, \"serum_creatinine\": 1.1, \"serum_sodium\": 134, \"sex\": 1, \"smoking\": 1, \"time\": 208, \"death_event\": \"No\"}, {\"age\": 40.0, \"anaemia\": 1, \"creatinine_phosphokinase\": 129, \"diabetes\": 0, \"ejection_fraction\": 35, \"high_blood_pressure\": 0, \"platelets\": 255000.0, \"serum_creatinine\": 0.9, \"serum_sodium\": 137, \"sex\": 1, \"smoking\": 0, \"time\": 209, \"death_event\": \"No\"}, {\"age\": 53.0, \"anaemia\": 1, \"creatinine_phosphokinase\": 707, \"diabetes\": 0, \"ejection_fraction\": 38, \"high_blood_pressure\": 0, \"platelets\": 330000.0, \"serum_creatinine\": 1.4, \"serum_sodium\": 137, \"sex\": 1, \"smoking\": 1, \"time\": 209, \"death_event\": \"No\"}, {\"age\": 53.0, \"anaemia\": 1, \"creatinine_phosphokinase\": 582, \"diabetes\": 0, \"ejection_fraction\": 45, \"high_blood_pressure\": 0, \"platelets\": 305000.0, \"serum_creatinine\": 1.1, \"serum_sodium\": 137, \"sex\": 1, \"smoking\": 1, \"time\": 209, \"death_event\": \"No\"}, {\"age\": 77.0, \"anaemia\": 1, \"creatinine_phosphokinase\": 109, \"diabetes\": 0, \"ejection_fraction\": 50, \"high_blood_pressure\": 1, \"platelets\": 406000.0, \"serum_creatinine\": 1.1, \"serum_sodium\": 137, \"sex\": 1, \"smoking\": 0, \"time\": 209, \"death_event\": \"No\"}, {\"age\": 75.0, \"anaemia\": 0, \"creatinine_phosphokinase\": 119, \"diabetes\": 0, \"ejection_fraction\": 50, \"high_blood_pressure\": 1, \"platelets\": 248000.0, \"serum_creatinine\": 1.1, \"serum_sodium\": 148, \"sex\": 1, \"smoking\": 0, \"time\": 209, \"death_event\": \"No\"}, {\"age\": 70.0, \"anaemia\": 0, \"creatinine_phosphokinase\": 232, \"diabetes\": 0, \"ejection_fraction\": 30, \"high_blood_pressure\": 0, \"platelets\": 173000.0, \"serum_creatinine\": 1.2, \"serum_sodium\": 132, \"sex\": 1, \"smoking\": 0, \"time\": 210, \"death_event\": \"No\"}, {\"age\": 65.0, \"anaemia\": 1, \"creatinine_phosphokinase\": 720, \"diabetes\": 1, \"ejection_fraction\": 40, \"high_blood_pressure\": 0, \"platelets\": 257000.0, \"serum_creatinine\": 1.0, \"serum_sodium\": 136, \"sex\": 0, \"smoking\": 0, \"time\": 210, \"death_event\": \"No\"}, {\"age\": 55.0, \"anaemia\": 1, \"creatinine_phosphokinase\": 180, \"diabetes\": 0, \"ejection_fraction\": 45, \"high_blood_pressure\": 0, \"platelets\": 263358.03, \"serum_creatinine\": 1.18, \"serum_sodium\": 137, \"sex\": 1, \"smoking\": 1, \"time\": 211, \"death_event\": \"No\"}, {\"age\": 70.0, \"anaemia\": 0, \"creatinine_phosphokinase\": 81, \"diabetes\": 1, \"ejection_fraction\": 35, \"high_blood_pressure\": 1, \"platelets\": 533000.0, \"serum_creatinine\": 1.3, \"serum_sodium\": 139, \"sex\": 0, \"smoking\": 0, \"time\": 212, \"death_event\": \"No\"}, {\"age\": 65.0, \"anaemia\": 0, \"creatinine_phosphokinase\": 582, \"diabetes\": 1, \"ejection_fraction\": 30, \"high_blood_pressure\": 0, \"platelets\": 249000.0, \"serum_creatinine\": 1.3, \"serum_sodium\": 136, \"sex\": 1, \"smoking\": 1, \"time\": 212, \"death_event\": \"No\"}, {\"age\": 40.0, \"anaemia\": 0, \"creatinine_phosphokinase\": 90, \"diabetes\": 0, \"ejection_fraction\": 35, \"high_blood_pressure\": 0, \"platelets\": 255000.0, \"serum_creatinine\": 1.1, \"serum_sodium\": 136, \"sex\": 1, \"smoking\": 1, \"time\": 212, \"death_event\": \"No\"}, {\"age\": 73.0, \"anaemia\": 1, \"creatinine_phosphokinase\": 1185, \"diabetes\": 0, \"ejection_fraction\": 40, \"high_blood_pressure\": 1, \"platelets\": 220000.0, \"serum_creatinine\": 0.9, \"serum_sodium\": 141, \"sex\": 0, \"smoking\": 0, \"time\": 213, \"death_event\": \"No\"}, {\"age\": 54.0, \"anaemia\": 0, \"creatinine_phosphokinase\": 582, \"diabetes\": 1, \"ejection_fraction\": 38, \"high_blood_pressure\": 0, \"platelets\": 264000.0, \"serum_creatinine\": 1.8, \"serum_sodium\": 134, \"sex\": 1, \"smoking\": 0, \"time\": 213, \"death_event\": \"No\"}, {\"age\": 61.0, \"anaemia\": 1, \"creatinine_phosphokinase\": 80, \"diabetes\": 1, \"ejection_fraction\": 38, \"high_blood_pressure\": 0, \"platelets\": 282000.0, \"serum_creatinine\": 1.4, \"serum_sodium\": 137, \"sex\": 1, \"smoking\": 0, \"time\": 213, \"death_event\": \"No\"}, {\"age\": 55.0, \"anaemia\": 0, \"creatinine_phosphokinase\": 2017, \"diabetes\": 0, \"ejection_fraction\": 25, \"high_blood_pressure\": 0, \"platelets\": 314000.0, \"serum_creatinine\": 1.1, \"serum_sodium\": 138, \"sex\": 1, \"smoking\": 0, \"time\": 214, \"death_event\": \"Yes\"}, {\"age\": 64.0, \"anaemia\": 0, \"creatinine_phosphokinase\": 143, \"diabetes\": 0, \"ejection_fraction\": 25, \"high_blood_pressure\": 0, \"platelets\": 246000.0, \"serum_creatinine\": 2.4, \"serum_sodium\": 135, \"sex\": 1, \"smoking\": 0, \"time\": 214, \"death_event\": \"No\"}, {\"age\": 40.0, \"anaemia\": 0, \"creatinine_phosphokinase\": 624, \"diabetes\": 0, \"ejection_fraction\": 35, \"high_blood_pressure\": 0, \"platelets\": 301000.0, \"serum_creatinine\": 1.0, \"serum_sodium\": 142, \"sex\": 1, \"smoking\": 1, \"time\": 214, \"death_event\": \"No\"}, {\"age\": 53.0, \"anaemia\": 0, \"creatinine_phosphokinase\": 207, \"diabetes\": 1, \"ejection_fraction\": 40, \"high_blood_pressure\": 0, \"platelets\": 223000.0, \"serum_creatinine\": 1.2, \"serum_sodium\": 130, \"sex\": 0, \"smoking\": 0, \"time\": 214, \"death_event\": \"No\"}, {\"age\": 50.0, \"anaemia\": 0, \"creatinine_phosphokinase\": 2522, \"diabetes\": 0, \"ejection_fraction\": 30, \"high_blood_pressure\": 1, \"platelets\": 404000.0, \"serum_creatinine\": 0.5, \"serum_sodium\": 139, \"sex\": 0, \"smoking\": 0, \"time\": 214, \"death_event\": \"No\"}, {\"age\": 55.0, \"anaemia\": 0, \"creatinine_phosphokinase\": 572, \"diabetes\": 1, \"ejection_fraction\": 35, \"high_blood_pressure\": 0, \"platelets\": 231000.0, \"serum_creatinine\": 0.8, \"serum_sodium\": 143, \"sex\": 0, \"smoking\": 0, \"time\": 215, \"death_event\": \"No\"}, {\"age\": 50.0, \"anaemia\": 0, \"creatinine_phosphokinase\": 245, \"diabetes\": 0, \"ejection_fraction\": 45, \"high_blood_pressure\": 1, \"platelets\": 274000.0, \"serum_creatinine\": 1.0, \"serum_sodium\": 133, \"sex\": 1, \"smoking\": 0, \"time\": 215, \"death_event\": \"No\"}, {\"age\": 70.0, \"anaemia\": 0, \"creatinine_phosphokinase\": 88, \"diabetes\": 1, \"ejection_fraction\": 35, \"high_blood_pressure\": 1, \"platelets\": 236000.0, \"serum_creatinine\": 1.2, \"serum_sodium\": 132, \"sex\": 0, \"smoking\": 0, \"time\": 215, \"death_event\": \"No\"}, {\"age\": 53.0, \"anaemia\": 1, \"creatinine_phosphokinase\": 446, \"diabetes\": 0, \"ejection_fraction\": 60, \"high_blood_pressure\": 1, \"platelets\": 263358.03, \"serum_creatinine\": 1.0, \"serum_sodium\": 139, \"sex\": 1, \"smoking\": 0, \"time\": 215, \"death_event\": \"No\"}, {\"age\": 52.0, \"anaemia\": 1, \"creatinine_phosphokinase\": 191, \"diabetes\": 1, \"ejection_fraction\": 30, \"high_blood_pressure\": 1, \"platelets\": 334000.0, \"serum_creatinine\": 1.0, \"serum_sodium\": 142, \"sex\": 1, \"smoking\": 1, \"time\": 216, \"death_event\": \"No\"}, {\"age\": 65.0, \"anaemia\": 0, \"creatinine_phosphokinase\": 326, \"diabetes\": 0, \"ejection_fraction\": 38, \"high_blood_pressure\": 0, \"platelets\": 294000.0, \"serum_creatinine\": 1.7, \"serum_sodium\": 139, \"sex\": 0, \"smoking\": 0, \"time\": 220, \"death_event\": \"No\"}, {\"age\": 58.0, \"anaemia\": 0, \"creatinine_phosphokinase\": 132, \"diabetes\": 1, \"ejection_fraction\": 38, \"high_blood_pressure\": 1, \"platelets\": 253000.0, \"serum_creatinine\": 1.0, \"serum_sodium\": 139, \"sex\": 1, \"smoking\": 0, \"time\": 230, \"death_event\": \"No\"}, {\"age\": 45.0, \"anaemia\": 1, \"creatinine_phosphokinase\": 66, \"diabetes\": 1, \"ejection_fraction\": 25, \"high_blood_pressure\": 0, \"platelets\": 233000.0, \"serum_creatinine\": 0.8, \"serum_sodium\": 135, \"sex\": 1, \"smoking\": 0, \"time\": 230, \"death_event\": \"No\"}, {\"age\": 53.0, \"anaemia\": 0, \"creatinine_phosphokinase\": 56, \"diabetes\": 0, \"ejection_fraction\": 50, \"high_blood_pressure\": 0, \"platelets\": 308000.0, \"serum_creatinine\": 0.7, \"serum_sodium\": 135, \"sex\": 1, \"smoking\": 1, \"time\": 231, \"death_event\": \"No\"}, {\"age\": 55.0, \"anaemia\": 0, \"creatinine_phosphokinase\": 66, \"diabetes\": 0, \"ejection_fraction\": 40, \"high_blood_pressure\": 0, \"platelets\": 203000.0, \"serum_creatinine\": 1.0, \"serum_sodium\": 138, \"sex\": 1, \"smoking\": 0, \"time\": 233, \"death_event\": \"No\"}, {\"age\": 62.0, \"anaemia\": 1, \"creatinine_phosphokinase\": 655, \"diabetes\": 0, \"ejection_fraction\": 40, \"high_blood_pressure\": 0, \"platelets\": 283000.0, \"serum_creatinine\": 0.7, \"serum_sodium\": 133, \"sex\": 0, \"smoking\": 0, \"time\": 233, \"death_event\": \"No\"}, {\"age\": 65.0, \"anaemia\": 1, \"creatinine_phosphokinase\": 258, \"diabetes\": 1, \"ejection_fraction\": 25, \"high_blood_pressure\": 0, \"platelets\": 198000.0, \"serum_creatinine\": 1.4, \"serum_sodium\": 129, \"sex\": 1, \"smoking\": 0, \"time\": 235, \"death_event\": \"Yes\"}, {\"age\": 68.0, \"anaemia\": 1, \"creatinine_phosphokinase\": 157, \"diabetes\": 1, \"ejection_fraction\": 60, \"high_blood_pressure\": 0, \"platelets\": 208000.0, \"serum_creatinine\": 1.0, \"serum_sodium\": 140, \"sex\": 0, \"smoking\": 0, \"time\": 237, \"death_event\": \"No\"}, {\"age\": 61.0, \"anaemia\": 0, \"creatinine_phosphokinase\": 582, \"diabetes\": 1, \"ejection_fraction\": 38, \"high_blood_pressure\": 0, \"platelets\": 147000.0, \"serum_creatinine\": 1.2, \"serum_sodium\": 141, \"sex\": 1, \"smoking\": 0, \"time\": 237, \"death_event\": \"No\"}, {\"age\": 50.0, \"anaemia\": 1, \"creatinine_phosphokinase\": 298, \"diabetes\": 0, \"ejection_fraction\": 35, \"high_blood_pressure\": 0, \"platelets\": 362000.0, \"serum_creatinine\": 0.9, \"serum_sodium\": 140, \"sex\": 1, \"smoking\": 1, \"time\": 240, \"death_event\": \"No\"}, {\"age\": 55.0, \"anaemia\": 0, \"creatinine_phosphokinase\": 1199, \"diabetes\": 0, \"ejection_fraction\": 20, \"high_blood_pressure\": 0, \"platelets\": 263358.03, \"serum_creatinine\": 1.83, \"serum_sodium\": 134, \"sex\": 1, \"smoking\": 1, \"time\": 241, \"death_event\": \"Yes\"}, {\"age\": 56.0, \"anaemia\": 1, \"creatinine_phosphokinase\": 135, \"diabetes\": 1, \"ejection_fraction\": 38, \"high_blood_pressure\": 0, \"platelets\": 133000.0, \"serum_creatinine\": 1.7, \"serum_sodium\": 140, \"sex\": 1, \"smoking\": 0, \"time\": 244, \"death_event\": \"No\"}, {\"age\": 45.0, \"anaemia\": 0, \"creatinine_phosphokinase\": 582, \"diabetes\": 1, \"ejection_fraction\": 38, \"high_blood_pressure\": 0, \"platelets\": 302000.0, \"serum_creatinine\": 0.9, \"serum_sodium\": 140, \"sex\": 0, \"smoking\": 0, \"time\": 244, \"death_event\": \"No\"}, {\"age\": 40.0, \"anaemia\": 0, \"creatinine_phosphokinase\": 582, \"diabetes\": 1, \"ejection_fraction\": 35, \"high_blood_pressure\": 0, \"platelets\": 222000.0, \"serum_creatinine\": 1.0, \"serum_sodium\": 132, \"sex\": 1, \"smoking\": 0, \"time\": 244, \"death_event\": \"No\"}, {\"age\": 44.0, \"anaemia\": 0, \"creatinine_phosphokinase\": 582, \"diabetes\": 1, \"ejection_fraction\": 30, \"high_blood_pressure\": 1, \"platelets\": 263358.03, \"serum_creatinine\": 1.6, \"serum_sodium\": 130, \"sex\": 1, \"smoking\": 1, \"time\": 244, \"death_event\": \"No\"}, {\"age\": 51.0, \"anaemia\": 0, \"creatinine_phosphokinase\": 582, \"diabetes\": 1, \"ejection_fraction\": 40, \"high_blood_pressure\": 0, \"platelets\": 221000.0, \"serum_creatinine\": 0.9, \"serum_sodium\": 134, \"sex\": 0, \"smoking\": 0, \"time\": 244, \"death_event\": \"No\"}, {\"age\": 67.0, \"anaemia\": 0, \"creatinine_phosphokinase\": 213, \"diabetes\": 0, \"ejection_fraction\": 38, \"high_blood_pressure\": 0, \"platelets\": 215000.0, \"serum_creatinine\": 1.2, \"serum_sodium\": 133, \"sex\": 0, \"smoking\": 0, \"time\": 245, \"death_event\": \"No\"}, {\"age\": 42.0, \"anaemia\": 0, \"creatinine_phosphokinase\": 64, \"diabetes\": 0, \"ejection_fraction\": 40, \"high_blood_pressure\": 0, \"platelets\": 189000.0, \"serum_creatinine\": 0.7, \"serum_sodium\": 140, \"sex\": 1, \"smoking\": 0, \"time\": 245, \"death_event\": \"No\"}, {\"age\": 60.0, \"anaemia\": 1, \"creatinine_phosphokinase\": 257, \"diabetes\": 1, \"ejection_fraction\": 30, \"high_blood_pressure\": 0, \"platelets\": 150000.0, \"serum_creatinine\": 1.0, \"serum_sodium\": 137, \"sex\": 1, \"smoking\": 1, \"time\": 245, \"death_event\": \"No\"}, {\"age\": 45.0, \"anaemia\": 0, \"creatinine_phosphokinase\": 582, \"diabetes\": 0, \"ejection_fraction\": 38, \"high_blood_pressure\": 1, \"platelets\": 422000.0, \"serum_creatinine\": 0.8, \"serum_sodium\": 137, \"sex\": 0, \"smoking\": 0, \"time\": 245, \"death_event\": \"No\"}, {\"age\": 70.0, \"anaemia\": 0, \"creatinine_phosphokinase\": 618, \"diabetes\": 0, \"ejection_fraction\": 35, \"high_blood_pressure\": 0, \"platelets\": 327000.0, \"serum_creatinine\": 1.1, \"serum_sodium\": 142, \"sex\": 0, \"smoking\": 0, \"time\": 245, \"death_event\": \"No\"}, {\"age\": 70.0, \"anaemia\": 0, \"creatinine_phosphokinase\": 582, \"diabetes\": 1, \"ejection_fraction\": 38, \"high_blood_pressure\": 0, \"platelets\": 25100.0, \"serum_creatinine\": 1.1, \"serum_sodium\": 140, \"sex\": 1, \"smoking\": 0, \"time\": 246, \"death_event\": \"No\"}, {\"age\": 50.0, \"anaemia\": 1, \"creatinine_phosphokinase\": 1051, \"diabetes\": 1, \"ejection_fraction\": 30, \"high_blood_pressure\": 0, \"platelets\": 232000.0, \"serum_creatinine\": 0.7, \"serum_sodium\": 136, \"sex\": 0, \"smoking\": 0, \"time\": 246, \"death_event\": \"No\"}, {\"age\": 55.0, \"anaemia\": 0, \"creatinine_phosphokinase\": 84, \"diabetes\": 1, \"ejection_fraction\": 38, \"high_blood_pressure\": 0, \"platelets\": 451000.0, \"serum_creatinine\": 1.3, \"serum_sodium\": 136, \"sex\": 0, \"smoking\": 0, \"time\": 246, \"death_event\": \"No\"}, {\"age\": 70.0, \"anaemia\": 0, \"creatinine_phosphokinase\": 2695, \"diabetes\": 1, \"ejection_fraction\": 40, \"high_blood_pressure\": 0, \"platelets\": 241000.0, \"serum_creatinine\": 1.0, \"serum_sodium\": 137, \"sex\": 1, \"smoking\": 0, \"time\": 247, \"death_event\": \"No\"}, {\"age\": 70.0, \"anaemia\": 0, \"creatinine_phosphokinase\": 582, \"diabetes\": 0, \"ejection_fraction\": 40, \"high_blood_pressure\": 0, \"platelets\": 51000.0, \"serum_creatinine\": 2.7, \"serum_sodium\": 136, \"sex\": 1, \"smoking\": 1, \"time\": 250, \"death_event\": \"No\"}, {\"age\": 42.0, \"anaemia\": 0, \"creatinine_phosphokinase\": 64, \"diabetes\": 0, \"ejection_fraction\": 30, \"high_blood_pressure\": 0, \"platelets\": 215000.0, \"serum_creatinine\": 3.8, \"serum_sodium\": 128, \"sex\": 1, \"smoking\": 1, \"time\": 250, \"death_event\": \"No\"}, {\"age\": 65.0, \"anaemia\": 0, \"creatinine_phosphokinase\": 1688, \"diabetes\": 0, \"ejection_fraction\": 38, \"high_blood_pressure\": 0, \"platelets\": 263358.03, \"serum_creatinine\": 1.1, \"serum_sodium\": 138, \"sex\": 1, \"smoking\": 1, \"time\": 250, \"death_event\": \"No\"}, {\"age\": 50.0, \"anaemia\": 1, \"creatinine_phosphokinase\": 54, \"diabetes\": 0, \"ejection_fraction\": 40, \"high_blood_pressure\": 0, \"platelets\": 279000.0, \"serum_creatinine\": 0.8, \"serum_sodium\": 141, \"sex\": 1, \"smoking\": 0, \"time\": 250, \"death_event\": \"No\"}, {\"age\": 55.0, \"anaemia\": 1, \"creatinine_phosphokinase\": 170, \"diabetes\": 1, \"ejection_fraction\": 40, \"high_blood_pressure\": 0, \"platelets\": 336000.0, \"serum_creatinine\": 1.2, \"serum_sodium\": 135, \"sex\": 1, \"smoking\": 0, \"time\": 250, \"death_event\": \"No\"}, {\"age\": 60.0, \"anaemia\": 0, \"creatinine_phosphokinase\": 253, \"diabetes\": 0, \"ejection_fraction\": 35, \"high_blood_pressure\": 0, \"platelets\": 279000.0, \"serum_creatinine\": 1.7, \"serum_sodium\": 140, \"sex\": 1, \"smoking\": 0, \"time\": 250, \"death_event\": \"No\"}, {\"age\": 45.0, \"anaemia\": 0, \"creatinine_phosphokinase\": 582, \"diabetes\": 1, \"ejection_fraction\": 55, \"high_blood_pressure\": 0, \"platelets\": 543000.0, \"serum_creatinine\": 1.0, \"serum_sodium\": 132, \"sex\": 0, \"smoking\": 0, \"time\": 250, \"death_event\": \"No\"}, {\"age\": 65.0, \"anaemia\": 0, \"creatinine_phosphokinase\": 892, \"diabetes\": 1, \"ejection_fraction\": 35, \"high_blood_pressure\": 0, \"platelets\": 263358.03, \"serum_creatinine\": 1.1, \"serum_sodium\": 142, \"sex\": 0, \"smoking\": 0, \"time\": 256, \"death_event\": \"No\"}, {\"age\": 90.0, \"anaemia\": 1, \"creatinine_phosphokinase\": 337, \"diabetes\": 0, \"ejection_fraction\": 38, \"high_blood_pressure\": 0, \"platelets\": 390000.0, \"serum_creatinine\": 0.9, \"serum_sodium\": 144, \"sex\": 0, \"smoking\": 0, \"time\": 256, \"death_event\": \"No\"}, {\"age\": 45.0, \"anaemia\": 0, \"creatinine_phosphokinase\": 615, \"diabetes\": 1, \"ejection_fraction\": 55, \"high_blood_pressure\": 0, \"platelets\": 222000.0, \"serum_creatinine\": 0.8, \"serum_sodium\": 141, \"sex\": 0, \"smoking\": 0, \"time\": 257, \"death_event\": \"No\"}, {\"age\": 60.0, \"anaemia\": 0, \"creatinine_phosphokinase\": 320, \"diabetes\": 0, \"ejection_fraction\": 35, \"high_blood_pressure\": 0, \"platelets\": 133000.0, \"serum_creatinine\": 1.4, \"serum_sodium\": 139, \"sex\": 1, \"smoking\": 0, \"time\": 258, \"death_event\": \"No\"}, {\"age\": 52.0, \"anaemia\": 0, \"creatinine_phosphokinase\": 190, \"diabetes\": 1, \"ejection_fraction\": 38, \"high_blood_pressure\": 0, \"platelets\": 382000.0, \"serum_creatinine\": 1.0, \"serum_sodium\": 140, \"sex\": 1, \"smoking\": 1, \"time\": 258, \"death_event\": \"No\"}, {\"age\": 63.0, \"anaemia\": 1, \"creatinine_phosphokinase\": 103, \"diabetes\": 1, \"ejection_fraction\": 35, \"high_blood_pressure\": 0, \"platelets\": 179000.0, \"serum_creatinine\": 0.9, \"serum_sodium\": 136, \"sex\": 1, \"smoking\": 1, \"time\": 270, \"death_event\": \"No\"}, {\"age\": 62.0, \"anaemia\": 0, \"creatinine_phosphokinase\": 61, \"diabetes\": 1, \"ejection_fraction\": 38, \"high_blood_pressure\": 1, \"platelets\": 155000.0, \"serum_creatinine\": 1.1, \"serum_sodium\": 143, \"sex\": 1, \"smoking\": 1, \"time\": 270, \"death_event\": \"No\"}, {\"age\": 55.0, \"anaemia\": 0, \"creatinine_phosphokinase\": 1820, \"diabetes\": 0, \"ejection_fraction\": 38, \"high_blood_pressure\": 0, \"platelets\": 270000.0, \"serum_creatinine\": 1.2, \"serum_sodium\": 139, \"sex\": 0, \"smoking\": 0, \"time\": 271, \"death_event\": \"No\"}, {\"age\": 45.0, \"anaemia\": 0, \"creatinine_phosphokinase\": 2060, \"diabetes\": 1, \"ejection_fraction\": 60, \"high_blood_pressure\": 0, \"platelets\": 742000.0, \"serum_creatinine\": 0.8, \"serum_sodium\": 138, \"sex\": 0, \"smoking\": 0, \"time\": 278, \"death_event\": \"No\"}, {\"age\": 45.0, \"anaemia\": 0, \"creatinine_phosphokinase\": 2413, \"diabetes\": 0, \"ejection_fraction\": 38, \"high_blood_pressure\": 0, \"platelets\": 140000.0, \"serum_creatinine\": 1.4, \"serum_sodium\": 140, \"sex\": 1, \"smoking\": 1, \"time\": 280, \"death_event\": \"No\"}, {\"age\": 50.0, \"anaemia\": 0, \"creatinine_phosphokinase\": 196, \"diabetes\": 0, \"ejection_fraction\": 45, \"high_blood_pressure\": 0, \"platelets\": 395000.0, \"serum_creatinine\": 1.6, \"serum_sodium\": 136, \"sex\": 1, \"smoking\": 1, \"time\": 285, \"death_event\": \"No\"}]}}, {\"mode\": \"vega-lite\"});\n",
       "</script>"
      ],
      "text/plain": [
       "alt.Chart(...)"
      ]
     },
     "execution_count": 41,
     "metadata": {},
     "output_type": "execute_result"
    }
   ],
   "source": [
    "plot = alt.Chart(data).mark_point(opacity = 0.5).encode(\n",
    "    x = alt.X('serum_creatinine', title = \"Ejection Fraction in percentage (%)\"),\n",
    "    y = alt.Y('serum_sodium', title = \"Serum Creatinine in mg/dL\").scale(zero=False),\n",
    "     color = alt.Color('death_event', title = 'Death event')\n",
    ")\n",
    "plot"
   ]
  },
  {
   "cell_type": "markdown",
   "id": "f9866011",
   "metadata": {},
   "source": [
    "As we can tell from the plot, we can easily see why these two variables allow for such high accuracy when predicting the death event. The points in which the death event is negative are bunched together, making the work of the KNeighborsClassifier algorithm easier."
   ]
  },
  {
   "cell_type": "markdown",
   "id": "a3ec0674",
   "metadata": {},
   "source": [
    "Here, we also compute the accuracy, precision, and recall of the classifier, using the optimal <i>K</i> value and training the model again to work with Serum Creatinine and Serum Sodium."
   ]
  },
  {
   "cell_type": "code",
   "execution_count": 42,
   "id": "ba4462e1",
   "metadata": {},
   "outputs": [
    {
     "data": {
      "image/png": "[encoded data removed]",
      "text/plain": [
       "<Figure size 640x480 with 2 Axes>"
      ]
     },
     "metadata": {},
     "output_type": "display_data"
    }
   ],
   "source": [
    "from sklearn.metrics import ConfusionMatrixDisplay\n",
    "compared_categories = ['serum_creatinine', 'serum_sodium']\n",
    "\n",
    "heart_disease_preprocessor = make_column_transformer(\n",
    "     (StandardScaler(), compared_categories),\n",
    "     remainder= 'passthrough',\n",
    "     verbose_feature_names_out=False,\n",
    ")\n",
    "\n",
    "heart_disease_fit = make_pipeline(heart_disease_preprocessor, KNeighborsClassifier(n_neighbors = 7))\n",
    "heart_disease_fit = heart_disease_fit.fit(\n",
    "    heart_disease_train[compared_categories], \n",
    "    heart_disease_train[\"death_event\"]\n",
    ")\n",
    "\n",
    "confusion_matrix = ConfusionMatrixDisplay.from_estimator(\n",
    "    heart_disease_fit, \n",
    "    heart_disease_test_predictions[compared_categories], \n",
    "    heart_disease_test_predictions[\"death_event\"]\n",
    ")"
   ]
  },
  {
   "cell_type": "code",
   "execution_count": 43,
   "id": "31c611c7",
   "metadata": {},
   "outputs": [
    {
     "name": "stdout",
     "output_type": "stream",
     "text": [
      "Accuracy: 0.7066666666666667 Precision: 0.4838709677419355 Recall: 0.7142857142857143\n"
     ]
    }
   ],
   "source": [
    "accuracy = (38 + 15)/(38 + 6 + 16 + 15)\n",
    "precision = (15)/(16 + 15)\n",
    "recall = (15)/(15 + 6)\n",
    "print(\"Accuracy:\", accuracy, \"Precision:\", precision, \"Recall:\", recall)"
   ]
  },
  {
   "cell_type": "markdown",
   "id": "8420607a",
   "metadata": {},
   "source": [
    "From the confusion matrix, we can see that the accuracy is 70%, the precision is 48%, and the recall is 71%. This means that if our classifier predicts a death event, we can be 71% sure that this death event is going to be a death event."
   ]
  },
  {
   "cell_type": "markdown",
   "id": "0b98b9b3",
   "metadata": {},
   "source": [
    "## Reference\n",
    "Chicco, D., & Jurman, G. (2020). Machine learning can predict survival of patients with heart \n",
    "failure from serum creatinine and ejection fraction alone. &nbsp;&nbsp;&nbsp;&nbsp;*BMC Medical Informatics and \n",
    "Decision Making, 20.*\n",
    "\n",
    "Sud, M., Tangri, N., Pintilie, M., Levey, A. S., & Naimark, D. M. (2015). ESRD and death after heart failure in CKD. *Journal of the American Society of &nbsp;&nbsp;&nbsp;&nbsp;Nephrology: JASN, 26*(3), 715–722. https://doi.org/10.1681/ASN.2014030253\n",
    "\n",
    "LASSNIGG, A., SCHMIDLIN, D., MOUHIEDDINE, M., BACHMANN, L. M., DRUML, W., BAUER, P., & HIESMAYR, M. (2004). Minimal changes of serum &nbsp;&nbsp;&nbsp;&nbsp;creatinine predict prognosis in patients after cardiothoracic surgery: A prospective cohort study. *Journal of the American Society of Nephrology, &nbsp;&nbsp;&nbsp;&nbsp;15*(6), 1597-1605. https://doi.org/10.1097/01.ASN.0000130340.93930.DD\n",
    "\n",
    "Bozkurt, B. (2021). Universal definition and classification of heart failure: a report of the Heart Failure Society of America, Heart Failure Association of &nbsp;&nbsp;&nbsp;&nbsp;the European Society of Cardiology, Japanese Heart Failure Society and Writing Committee of the Universal Definition of Heart Failure Endorsed by &nbsp;&nbsp;&nbsp;&nbsp;the Canadian Heart Failure Society, Heart Failure Association of India, Cardiac Society of Australia and New Zealand, and Chinese Heart Failure &nbsp;&nbsp;&nbsp;&nbsp;Association. *European Journal of Heart Failure, 23*(3), 352-380. 10.1002/ejhf.2115"
   ]
  },
  {
   "cell_type": "code",
   "execution_count": null,
   "id": "7d60a573-f31e-4e12-bd44-0440939252af",
   "metadata": {},
   "outputs": [],
   "source": []
  }
 ],
 "metadata": {
  "kernelspec": {
   "display_name": "Python 3 (ipykernel)",
   "language": "python",
   "name": "python3"
  },
  "language_info": {
   "codemirror_mode": {
    "name": "ipython",
    "version": 3
   },
   "file_extension": ".py",
   "mimetype": "text/x-python",
   "name": "python",
   "nbconvert_exporter": "python",
   "pygments_lexer": "ipython3",
   "version": "3.10.8"
  }
 },
 "nbformat": 4,
 "nbformat_minor": 5
}
