{
 "cells": [
  {
   "cell_type": "code",
   "execution_count": 1,
   "id": "6b3b889f-81fe-4fb9-8f92-c63ce0adcf84",
   "metadata": {
    "tags": []
   },
   "outputs": [
    {
     "ename": "SyntaxError",
     "evalue": "invalid syntax (126941252.py, line 1)",
     "output_type": "error",
     "traceback": [
      "\u001b[0;36m  Cell \u001b[0;32mIn[1], line 1\u001b[0;36m\u001b[0m\n\u001b[0;31m    Group 25 Project\u001b[0m\n\u001b[0m          ^\u001b[0m\n\u001b[0;31mSyntaxError\u001b[0m\u001b[0;31m:\u001b[0m invalid syntax\n"
     ]
    }
   ],
   "source": [
    "Group 25 Project\n",
    "\n",
    "Doris (33996984)\n",
    "\n",
    "Verness Chin (52924784)\n",
    "\n",
    "Mackenzie Dy (62709126)\n",
    "\n",
    "Kunyue Liu (94258175)\n",
    "\n",
    "Title: Heart Failure"
   ]
  },
  {
   "cell_type": "code",
   "execution_count": null,
   "id": "9db3f4b1-5dd8-446c-a14c-00940980c18c",
   "metadata": {},
   "outputs": [],
   "source": []
  }
 ],
 "metadata": {
  "kernelspec": {
   "display_name": "Python 3 (ipykernel)",
   "language": "python",
   "name": "python3"
  },
  "language_info": {
   "codemirror_mode": {
    "name": "ipython",
    "version": 3
   },
   "file_extension": ".py",
   "mimetype": "text/x-python",
   "name": "python",
   "nbconvert_exporter": "python",
   "pygments_lexer": "ipython3",
   "version": "3.10.8"
  }
 },
 "nbformat": 4,
 "nbformat_minor": 5
}
